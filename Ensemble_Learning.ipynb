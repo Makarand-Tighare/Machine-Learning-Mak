{
  "nbformat": 4,
  "nbformat_minor": 0,
  "metadata": {
    "colab": {
      "provenance": [],
      "authorship_tag": "ABX9TyNfBAD0+VVKmMdAQKOKyqKr",
      "include_colab_link": true
    },
    "kernelspec": {
      "name": "python3",
      "display_name": "Python 3"
    },
    "language_info": {
      "name": "python"
    }
  },
  "cells": [
    {
      "cell_type": "markdown",
      "metadata": {
        "id": "view-in-github",
        "colab_type": "text"
      },
      "source": [
        "<a href=\"https://colab.research.google.com/github/Makarand-sdw/Machine-Learning-Mak/blob/main/Ensemble_Learning.ipynb\" target=\"_parent\"><img src=\"https://colab.research.google.com/assets/colab-badge.svg\" alt=\"Open In Colab\"/></a>"
      ]
    },
    {
      "cell_type": "code",
      "execution_count": 4,
      "metadata": {
        "colab": {
          "base_uri": "https://localhost:8080/"
        },
        "id": "qYShK47Zq60m",
        "outputId": "a23f78d8-2383-4bdd-a807-8fea721ee1af"
      },
      "outputs": [
        {
          "output_type": "stream",
          "name": "stdout",
          "text": [
            "Ensemble Accuracy: 0.7207792207792207\n"
          ]
        }
      ],
      "source": [
        "import pandas as pd\n",
        "\n",
        "# Load dataset\n",
        "df = pd.read_csv('diabetes.csv')\n",
        "\n",
        "# Split into features and target\n",
        "X = df.drop('Outcome', axis=1)\n",
        "y = df['Outcome']\n",
        "\n",
        "# Split into train and test sets\n",
        "from sklearn.model_selection import train_test_split\n",
        "X_train, X_test, y_train, y_test = train_test_split(X, y, test_size=0.2, random_state=42)\n",
        "\n",
        "# Create base models\n",
        "from sklearn.neighbors import KNeighborsClassifier\n",
        "from sklearn.tree import DecisionTreeClassifier\n",
        "from sklearn.svm import SVC\n",
        "\n",
        "knn = KNeighborsClassifier()\n",
        "dt = DecisionTreeClassifier()\n",
        "svc = SVC()\n",
        "\n",
        "# Create ensemble model\n",
        "from sklearn.ensemble import VotingClassifier\n",
        "ensemble = VotingClassifier(estimators=[('knn', knn), ('dt', dt), ('svc', svc)])\n",
        "\n",
        "# Train ensemble\n",
        "ensemble.fit(X_train, y_train)\n",
        "\n",
        "# Predict on test set\n",
        "y_pred = ensemble.predict(X_test)\n",
        "\n",
        "# Evaluate predictions\n",
        "from sklearn.metrics import accuracy_score\n",
        "print(\"Ensemble Accuracy:\", accuracy_score(y_test, y_pred))"
      ]
    }
  ]
}