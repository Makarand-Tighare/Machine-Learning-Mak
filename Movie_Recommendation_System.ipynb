{
  "nbformat": 4,
  "nbformat_minor": 0,
  "metadata": {
    "colab": {
      "provenance": [],
      "include_colab_link": true
    },
    "kernelspec": {
      "name": "python3",
      "display_name": "Python 3"
    },
    "language_info": {
      "name": "python"
    }
  },
  "cells": [
    {
      "cell_type": "markdown",
      "metadata": {
        "id": "view-in-github",
        "colab_type": "text"
      },
      "source": [
        "<a href=\"https://colab.research.google.com/github/Makarand-sdw/Machine-Learning-Mak/blob/main/Movie_Recommendation_System.ipynb\" target=\"_parent\"><img src=\"https://colab.research.google.com/assets/colab-badge.svg\" alt=\"Open In Colab\"/></a>"
      ]
    },
    {
      "cell_type": "markdown",
      "source": [
        "# **Movie Recommendation System**"
      ],
      "metadata": {
        "id": "dqZ-nhxiganh"
      }
    },
    {
      "cell_type": "markdown",
      "source": [
        "-------------"
      ],
      "metadata": {
        "id": "gScHkw6jjrLo"
      }
    },
    {
      "cell_type": "markdown",
      "source": [
        "## **Objective**\n",
        "To develop and enhance a movie recommendation system with the goal of providing users with personalized and engaging movie recommendations. Through this project, I intend to achieve the following objectives:\n",
        "\n",
        "**Data Collection and Preprocessing:** Gather and preprocess a comprehensive dataset of user ratings, movie details, and other relevant information to build a robust recommendation model.\n",
        "\n",
        "**Algorithm Development:** Implement and optimize state-of-the-art recommendation algorithms, such as collaborative filtering, content-based filtering, and hybrid models, to generate accurate movie recommendations.\n",
        "\n",
        "**Personalization:** Customize the recommendation system to provide individualized movie suggestions based on user preferences, viewing history, and demographic information.\n",
        "\n",
        "**Evaluation and Performance Metrics:** Assess the effectiveness of the recommendation system using appropriate evaluation metrics like accuracy, precision, recall, and user engagement.\n",
        "\n",
        "**User Interface Enhancement:** Collaborate with the design and user experience teams to improve the user interface, making it more intuitive and user-friendly for a seamless movie discovery experience.\n",
        "\n",
        "**Scalability and Efficiency:** Ensure that the recommendation system can handle large datasets efficiently and scale to accommodate increasing user traffic and movie catalog size.\n"
      ],
      "metadata": {
        "id": "Xns_rCdhh-vZ"
      }
    },
    {
      "cell_type": "markdown",
      "source": [],
      "metadata": {
        "id": "9sPvnFM1iI9l"
      }
    },
    {
      "cell_type": "markdown",
      "source": [
        "## **Data Source**\n",
        "\n",
        "https://github.com/YBIFoundation/Dataset/blob/main/Movies%20Recommendation.csv"
      ],
      "metadata": {
        "id": "-Vbnt9CciKJP"
      }
    },
    {
      "cell_type": "markdown",
      "source": [],
      "metadata": {
        "id": "sGcv5WqQiNyl"
      }
    },
    {
      "cell_type": "markdown",
      "source": [
        "## **Import Library**"
      ],
      "metadata": {
        "id": "r7GrZzX0iTlV"
      }
    },
    {
      "cell_type": "code",
      "source": [
        "import pandas as pd\n",
        "import numpy as np"
      ],
      "metadata": {
        "id": "UkK6NH9DiW-X"
      },
      "execution_count": 2,
      "outputs": []
    },
    {
      "cell_type": "markdown",
      "source": [
        "## **Import Data**"
      ],
      "metadata": {
        "id": "9lHPQj1XiOUc"
      }
    },
    {
      "cell_type": "code",
      "source": [
        "from google.colab import files\n",
        "\n",
        "\n",
        "uploaded = files.upload()"
      ],
      "metadata": {
        "id": "zcU1fdnGho6M",
        "colab": {
          "base_uri": "https://localhost:8080/",
          "height": 73
        },
        "outputId": "baf21059-7faa-428c-cdb0-876ed287a654"
      },
      "execution_count": 12,
      "outputs": [
        {
          "output_type": "display_data",
          "data": {
            "text/plain": [
              "<IPython.core.display.HTML object>"
            ],
            "text/html": [
              "\n",
              "     <input type=\"file\" id=\"files-4658f038-9aae-4c15-9994-30fae8563423\" name=\"files[]\" multiple disabled\n",
              "        style=\"border:none\" />\n",
              "     <output id=\"result-4658f038-9aae-4c15-9994-30fae8563423\">\n",
              "      Upload widget is only available when the cell has been executed in the\n",
              "      current browser session. Please rerun this cell to enable.\n",
              "      </output>\n",
              "      <script>// Copyright 2017 Google LLC\n",
              "//\n",
              "// Licensed under the Apache License, Version 2.0 (the \"License\");\n",
              "// you may not use this file except in compliance with the License.\n",
              "// You may obtain a copy of the License at\n",
              "//\n",
              "//      http://www.apache.org/licenses/LICENSE-2.0\n",
              "//\n",
              "// Unless required by applicable law or agreed to in writing, software\n",
              "// distributed under the License is distributed on an \"AS IS\" BASIS,\n",
              "// WITHOUT WARRANTIES OR CONDITIONS OF ANY KIND, either express or implied.\n",
              "// See the License for the specific language governing permissions and\n",
              "// limitations under the License.\n",
              "\n",
              "/**\n",
              " * @fileoverview Helpers for google.colab Python module.\n",
              " */\n",
              "(function(scope) {\n",
              "function span(text, styleAttributes = {}) {\n",
              "  const element = document.createElement('span');\n",
              "  element.textContent = text;\n",
              "  for (const key of Object.keys(styleAttributes)) {\n",
              "    element.style[key] = styleAttributes[key];\n",
              "  }\n",
              "  return element;\n",
              "}\n",
              "\n",
              "// Max number of bytes which will be uploaded at a time.\n",
              "const MAX_PAYLOAD_SIZE = 100 * 1024;\n",
              "\n",
              "function _uploadFiles(inputId, outputId) {\n",
              "  const steps = uploadFilesStep(inputId, outputId);\n",
              "  const outputElement = document.getElementById(outputId);\n",
              "  // Cache steps on the outputElement to make it available for the next call\n",
              "  // to uploadFilesContinue from Python.\n",
              "  outputElement.steps = steps;\n",
              "\n",
              "  return _uploadFilesContinue(outputId);\n",
              "}\n",
              "\n",
              "// This is roughly an async generator (not supported in the browser yet),\n",
              "// where there are multiple asynchronous steps and the Python side is going\n",
              "// to poll for completion of each step.\n",
              "// This uses a Promise to block the python side on completion of each step,\n",
              "// then passes the result of the previous step as the input to the next step.\n",
              "function _uploadFilesContinue(outputId) {\n",
              "  const outputElement = document.getElementById(outputId);\n",
              "  const steps = outputElement.steps;\n",
              "\n",
              "  const next = steps.next(outputElement.lastPromiseValue);\n",
              "  return Promise.resolve(next.value.promise).then((value) => {\n",
              "    // Cache the last promise value to make it available to the next\n",
              "    // step of the generator.\n",
              "    outputElement.lastPromiseValue = value;\n",
              "    return next.value.response;\n",
              "  });\n",
              "}\n",
              "\n",
              "/**\n",
              " * Generator function which is called between each async step of the upload\n",
              " * process.\n",
              " * @param {string} inputId Element ID of the input file picker element.\n",
              " * @param {string} outputId Element ID of the output display.\n",
              " * @return {!Iterable<!Object>} Iterable of next steps.\n",
              " */\n",
              "function* uploadFilesStep(inputId, outputId) {\n",
              "  const inputElement = document.getElementById(inputId);\n",
              "  inputElement.disabled = false;\n",
              "\n",
              "  const outputElement = document.getElementById(outputId);\n",
              "  outputElement.innerHTML = '';\n",
              "\n",
              "  const pickedPromise = new Promise((resolve) => {\n",
              "    inputElement.addEventListener('change', (e) => {\n",
              "      resolve(e.target.files);\n",
              "    });\n",
              "  });\n",
              "\n",
              "  const cancel = document.createElement('button');\n",
              "  inputElement.parentElement.appendChild(cancel);\n",
              "  cancel.textContent = 'Cancel upload';\n",
              "  const cancelPromise = new Promise((resolve) => {\n",
              "    cancel.onclick = () => {\n",
              "      resolve(null);\n",
              "    };\n",
              "  });\n",
              "\n",
              "  // Wait for the user to pick the files.\n",
              "  const files = yield {\n",
              "    promise: Promise.race([pickedPromise, cancelPromise]),\n",
              "    response: {\n",
              "      action: 'starting',\n",
              "    }\n",
              "  };\n",
              "\n",
              "  cancel.remove();\n",
              "\n",
              "  // Disable the input element since further picks are not allowed.\n",
              "  inputElement.disabled = true;\n",
              "\n",
              "  if (!files) {\n",
              "    return {\n",
              "      response: {\n",
              "        action: 'complete',\n",
              "      }\n",
              "    };\n",
              "  }\n",
              "\n",
              "  for (const file of files) {\n",
              "    const li = document.createElement('li');\n",
              "    li.append(span(file.name, {fontWeight: 'bold'}));\n",
              "    li.append(span(\n",
              "        `(${file.type || 'n/a'}) - ${file.size} bytes, ` +\n",
              "        `last modified: ${\n",
              "            file.lastModifiedDate ? file.lastModifiedDate.toLocaleDateString() :\n",
              "                                    'n/a'} - `));\n",
              "    const percent = span('0% done');\n",
              "    li.appendChild(percent);\n",
              "\n",
              "    outputElement.appendChild(li);\n",
              "\n",
              "    const fileDataPromise = new Promise((resolve) => {\n",
              "      const reader = new FileReader();\n",
              "      reader.onload = (e) => {\n",
              "        resolve(e.target.result);\n",
              "      };\n",
              "      reader.readAsArrayBuffer(file);\n",
              "    });\n",
              "    // Wait for the data to be ready.\n",
              "    let fileData = yield {\n",
              "      promise: fileDataPromise,\n",
              "      response: {\n",
              "        action: 'continue',\n",
              "      }\n",
              "    };\n",
              "\n",
              "    // Use a chunked sending to avoid message size limits. See b/62115660.\n",
              "    let position = 0;\n",
              "    do {\n",
              "      const length = Math.min(fileData.byteLength - position, MAX_PAYLOAD_SIZE);\n",
              "      const chunk = new Uint8Array(fileData, position, length);\n",
              "      position += length;\n",
              "\n",
              "      const base64 = btoa(String.fromCharCode.apply(null, chunk));\n",
              "      yield {\n",
              "        response: {\n",
              "          action: 'append',\n",
              "          file: file.name,\n",
              "          data: base64,\n",
              "        },\n",
              "      };\n",
              "\n",
              "      let percentDone = fileData.byteLength === 0 ?\n",
              "          100 :\n",
              "          Math.round((position / fileData.byteLength) * 100);\n",
              "      percent.textContent = `${percentDone}% done`;\n",
              "\n",
              "    } while (position < fileData.byteLength);\n",
              "  }\n",
              "\n",
              "  // All done.\n",
              "  yield {\n",
              "    response: {\n",
              "      action: 'complete',\n",
              "    }\n",
              "  };\n",
              "}\n",
              "\n",
              "scope.google = scope.google || {};\n",
              "scope.google.colab = scope.google.colab || {};\n",
              "scope.google.colab._files = {\n",
              "  _uploadFiles,\n",
              "  _uploadFilesContinue,\n",
              "};\n",
              "})(self);\n",
              "</script> "
            ]
          },
          "metadata": {}
        },
        {
          "output_type": "stream",
          "name": "stdout",
          "text": [
            "Saving Movies Recommendation.csv to Movies Recommendation.csv\n"
          ]
        }
      ]
    },
    {
      "cell_type": "code",
      "source": [
        "import io\n",
        "\n",
        "df = pd.read_csv(io.BytesIO(uploaded['Movies Recommendation.csv']))\n"
      ],
      "metadata": {
        "id": "ftQRttia-toc"
      },
      "execution_count": 16,
      "outputs": []
    },
    {
      "cell_type": "markdown",
      "source": [
        "## **Describe Data**"
      ],
      "metadata": {
        "id": "7PUnimBoiX-x"
      }
    },
    {
      "cell_type": "code",
      "source": [
        "df.head()"
      ],
      "metadata": {
        "id": "kG15arusiZ8Z",
        "colab": {
          "base_uri": "https://localhost:8080/",
          "height": 672
        },
        "outputId": "750a7986-c003-450f-a052-36e3fd753eed"
      },
      "execution_count": 17,
      "outputs": [
        {
          "output_type": "execute_result",
          "data": {
            "text/plain": [
              "   Movie_ID      Movie_Title                       Movie_Genre Movie_Language  \\\n",
              "0         1       Four Rooms                      Crime Comedy             en   \n",
              "1         2        Star Wars  Adventure Action Science Fiction             en   \n",
              "2         3     Finding Nemo                  Animation Family             en   \n",
              "3         4     Forrest Gump              Comedy Drama Romance             en   \n",
              "4         5  American Beauty                             Drama             en   \n",
              "\n",
              "   Movie_Budget  Movie_Popularity Movie_Release_Date  Movie_Revenue  \\\n",
              "0       4000000         22.876230         09-12-1995        4300000   \n",
              "1      11000000        126.393695         25-05-1977      775398007   \n",
              "2      94000000         85.688789         30-05-2003      940335536   \n",
              "3      55000000        138.133331         06-07-1994      677945399   \n",
              "4      15000000         80.878605         15-09-1999      356296601   \n",
              "\n",
              "   Movie_Runtime  Movie_Vote  ...  \\\n",
              "0           98.0         6.5  ...   \n",
              "1          121.0         8.1  ...   \n",
              "2          100.0         7.6  ...   \n",
              "3          142.0         8.2  ...   \n",
              "4          122.0         7.9  ...   \n",
              "\n",
              "                                      Movie_Homepage  \\\n",
              "0                                                NaN   \n",
              "1  http://www.starwars.com/films/star-wars-episod...   \n",
              "2              http://movies.disney.com/finding-nemo   \n",
              "3                                                NaN   \n",
              "4                      http://www.dreamworks.com/ab/   \n",
              "\n",
              "                                      Movie_Keywords  \\\n",
              "0          hotel new year's eve witch bet hotel room   \n",
              "1        android galaxy hermit death star lightsaber   \n",
              "2  father son relationship harbor underwater fish...   \n",
              "3  vietnam veteran hippie mentally disabled runni...   \n",
              "4  male nudity female nudity adultery midlife cri...   \n",
              "\n",
              "                                      Movie_Overview  \\\n",
              "0  It's Ted the Bellhop's first night on the job....   \n",
              "1  Princess Leia is captured and held hostage by ...   \n",
              "2  Nemo, an adventurous young clownfish, is unexp...   \n",
              "3  A man with a low IQ has accomplished great thi...   \n",
              "4  Lester Burnham, a depressed suburban father in...   \n",
              "\n",
              "                              Movie_Production_House  \\\n",
              "0  [{\"name\": \"Miramax Films\", \"id\": 14}, {\"name\":...   \n",
              "1  [{\"name\": \"Lucasfilm\", \"id\": 1}, {\"name\": \"Twe...   \n",
              "2     [{\"name\": \"Pixar Animation Studios\", \"id\": 3}]   \n",
              "3          [{\"name\": \"Paramount Pictures\", \"id\": 4}]   \n",
              "4  [{\"name\": \"DreamWorks SKG\", \"id\": 27}, {\"name\"...   \n",
              "\n",
              "                            Movie_Production_Country  \\\n",
              "0  [{\"iso_3166_1\": \"US\", \"name\": \"United States o...   \n",
              "1  [{\"iso_3166_1\": \"US\", \"name\": \"United States o...   \n",
              "2  [{\"iso_3166_1\": \"US\", \"name\": \"United States o...   \n",
              "3  [{\"iso_3166_1\": \"US\", \"name\": \"United States o...   \n",
              "4  [{\"iso_3166_1\": \"US\", \"name\": \"United States o...   \n",
              "\n",
              "                      Movie_Spoken_Language  \\\n",
              "0  [{\"iso_639_1\": \"en\", \"name\": \"English\"}]   \n",
              "1  [{\"iso_639_1\": \"en\", \"name\": \"English\"}]   \n",
              "2  [{\"iso_639_1\": \"en\", \"name\": \"English\"}]   \n",
              "3  [{\"iso_639_1\": \"en\", \"name\": \"English\"}]   \n",
              "4  [{\"iso_639_1\": \"en\", \"name\": \"English\"}]   \n",
              "\n",
              "                                       Movie_Tagline  \\\n",
              "0  Twelve outrageous guests. Four scandalous requ...   \n",
              "1       A long time ago in a galaxy far, far away...   \n",
              "2  There are 3.7 trillion fish in the ocean, they...   \n",
              "3  The world will never be the same, once you've ...   \n",
              "4                                       Look closer.   \n",
              "\n",
              "                                          Movie_Cast  \\\n",
              "0  Tim Roth Antonio Banderas Jennifer Beals Madon...   \n",
              "1  Mark Hamill Harrison Ford Carrie Fisher Peter ...   \n",
              "2  Albert Brooks Ellen DeGeneres Alexander Gould ...   \n",
              "3  Tom Hanks Robin Wright Gary Sinise Mykelti Wil...   \n",
              "4  Kevin Spacey Annette Bening Thora Birch Wes Be...   \n",
              "\n",
              "                                          Movie_Crew   Movie_Director  \n",
              "0  [{'name': 'Allison Anders', 'gender': 1, 'depa...   Allison Anders  \n",
              "1  [{'name': 'George Lucas', 'gender': 2, 'depart...     George Lucas  \n",
              "2  [{'name': 'Andrew Stanton', 'gender': 2, 'depa...   Andrew Stanton  \n",
              "3  [{'name': 'Alan Silvestri', 'gender': 2, 'depa...  Robert Zemeckis  \n",
              "4  [{'name': 'Thomas Newman', 'gender': 2, 'depar...       Sam Mendes  \n",
              "\n",
              "[5 rows x 21 columns]"
            ],
            "text/html": [
              "\n",
              "  <div id=\"df-d497805f-65f5-4cf9-843b-9bf1e77f21ae\" class=\"colab-df-container\">\n",
              "    <div>\n",
              "<style scoped>\n",
              "    .dataframe tbody tr th:only-of-type {\n",
              "        vertical-align: middle;\n",
              "    }\n",
              "\n",
              "    .dataframe tbody tr th {\n",
              "        vertical-align: top;\n",
              "    }\n",
              "\n",
              "    .dataframe thead th {\n",
              "        text-align: right;\n",
              "    }\n",
              "</style>\n",
              "<table border=\"1\" class=\"dataframe\">\n",
              "  <thead>\n",
              "    <tr style=\"text-align: right;\">\n",
              "      <th></th>\n",
              "      <th>Movie_ID</th>\n",
              "      <th>Movie_Title</th>\n",
              "      <th>Movie_Genre</th>\n",
              "      <th>Movie_Language</th>\n",
              "      <th>Movie_Budget</th>\n",
              "      <th>Movie_Popularity</th>\n",
              "      <th>Movie_Release_Date</th>\n",
              "      <th>Movie_Revenue</th>\n",
              "      <th>Movie_Runtime</th>\n",
              "      <th>Movie_Vote</th>\n",
              "      <th>...</th>\n",
              "      <th>Movie_Homepage</th>\n",
              "      <th>Movie_Keywords</th>\n",
              "      <th>Movie_Overview</th>\n",
              "      <th>Movie_Production_House</th>\n",
              "      <th>Movie_Production_Country</th>\n",
              "      <th>Movie_Spoken_Language</th>\n",
              "      <th>Movie_Tagline</th>\n",
              "      <th>Movie_Cast</th>\n",
              "      <th>Movie_Crew</th>\n",
              "      <th>Movie_Director</th>\n",
              "    </tr>\n",
              "  </thead>\n",
              "  <tbody>\n",
              "    <tr>\n",
              "      <th>0</th>\n",
              "      <td>1</td>\n",
              "      <td>Four Rooms</td>\n",
              "      <td>Crime Comedy</td>\n",
              "      <td>en</td>\n",
              "      <td>4000000</td>\n",
              "      <td>22.876230</td>\n",
              "      <td>09-12-1995</td>\n",
              "      <td>4300000</td>\n",
              "      <td>98.0</td>\n",
              "      <td>6.5</td>\n",
              "      <td>...</td>\n",
              "      <td>NaN</td>\n",
              "      <td>hotel new year's eve witch bet hotel room</td>\n",
              "      <td>It's Ted the Bellhop's first night on the job....</td>\n",
              "      <td>[{\"name\": \"Miramax Films\", \"id\": 14}, {\"name\":...</td>\n",
              "      <td>[{\"iso_3166_1\": \"US\", \"name\": \"United States o...</td>\n",
              "      <td>[{\"iso_639_1\": \"en\", \"name\": \"English\"}]</td>\n",
              "      <td>Twelve outrageous guests. Four scandalous requ...</td>\n",
              "      <td>Tim Roth Antonio Banderas Jennifer Beals Madon...</td>\n",
              "      <td>[{'name': 'Allison Anders', 'gender': 1, 'depa...</td>\n",
              "      <td>Allison Anders</td>\n",
              "    </tr>\n",
              "    <tr>\n",
              "      <th>1</th>\n",
              "      <td>2</td>\n",
              "      <td>Star Wars</td>\n",
              "      <td>Adventure Action Science Fiction</td>\n",
              "      <td>en</td>\n",
              "      <td>11000000</td>\n",
              "      <td>126.393695</td>\n",
              "      <td>25-05-1977</td>\n",
              "      <td>775398007</td>\n",
              "      <td>121.0</td>\n",
              "      <td>8.1</td>\n",
              "      <td>...</td>\n",
              "      <td>http://www.starwars.com/films/star-wars-episod...</td>\n",
              "      <td>android galaxy hermit death star lightsaber</td>\n",
              "      <td>Princess Leia is captured and held hostage by ...</td>\n",
              "      <td>[{\"name\": \"Lucasfilm\", \"id\": 1}, {\"name\": \"Twe...</td>\n",
              "      <td>[{\"iso_3166_1\": \"US\", \"name\": \"United States o...</td>\n",
              "      <td>[{\"iso_639_1\": \"en\", \"name\": \"English\"}]</td>\n",
              "      <td>A long time ago in a galaxy far, far away...</td>\n",
              "      <td>Mark Hamill Harrison Ford Carrie Fisher Peter ...</td>\n",
              "      <td>[{'name': 'George Lucas', 'gender': 2, 'depart...</td>\n",
              "      <td>George Lucas</td>\n",
              "    </tr>\n",
              "    <tr>\n",
              "      <th>2</th>\n",
              "      <td>3</td>\n",
              "      <td>Finding Nemo</td>\n",
              "      <td>Animation Family</td>\n",
              "      <td>en</td>\n",
              "      <td>94000000</td>\n",
              "      <td>85.688789</td>\n",
              "      <td>30-05-2003</td>\n",
              "      <td>940335536</td>\n",
              "      <td>100.0</td>\n",
              "      <td>7.6</td>\n",
              "      <td>...</td>\n",
              "      <td>http://movies.disney.com/finding-nemo</td>\n",
              "      <td>father son relationship harbor underwater fish...</td>\n",
              "      <td>Nemo, an adventurous young clownfish, is unexp...</td>\n",
              "      <td>[{\"name\": \"Pixar Animation Studios\", \"id\": 3}]</td>\n",
              "      <td>[{\"iso_3166_1\": \"US\", \"name\": \"United States o...</td>\n",
              "      <td>[{\"iso_639_1\": \"en\", \"name\": \"English\"}]</td>\n",
              "      <td>There are 3.7 trillion fish in the ocean, they...</td>\n",
              "      <td>Albert Brooks Ellen DeGeneres Alexander Gould ...</td>\n",
              "      <td>[{'name': 'Andrew Stanton', 'gender': 2, 'depa...</td>\n",
              "      <td>Andrew Stanton</td>\n",
              "    </tr>\n",
              "    <tr>\n",
              "      <th>3</th>\n",
              "      <td>4</td>\n",
              "      <td>Forrest Gump</td>\n",
              "      <td>Comedy Drama Romance</td>\n",
              "      <td>en</td>\n",
              "      <td>55000000</td>\n",
              "      <td>138.133331</td>\n",
              "      <td>06-07-1994</td>\n",
              "      <td>677945399</td>\n",
              "      <td>142.0</td>\n",
              "      <td>8.2</td>\n",
              "      <td>...</td>\n",
              "      <td>NaN</td>\n",
              "      <td>vietnam veteran hippie mentally disabled runni...</td>\n",
              "      <td>A man with a low IQ has accomplished great thi...</td>\n",
              "      <td>[{\"name\": \"Paramount Pictures\", \"id\": 4}]</td>\n",
              "      <td>[{\"iso_3166_1\": \"US\", \"name\": \"United States o...</td>\n",
              "      <td>[{\"iso_639_1\": \"en\", \"name\": \"English\"}]</td>\n",
              "      <td>The world will never be the same, once you've ...</td>\n",
              "      <td>Tom Hanks Robin Wright Gary Sinise Mykelti Wil...</td>\n",
              "      <td>[{'name': 'Alan Silvestri', 'gender': 2, 'depa...</td>\n",
              "      <td>Robert Zemeckis</td>\n",
              "    </tr>\n",
              "    <tr>\n",
              "      <th>4</th>\n",
              "      <td>5</td>\n",
              "      <td>American Beauty</td>\n",
              "      <td>Drama</td>\n",
              "      <td>en</td>\n",
              "      <td>15000000</td>\n",
              "      <td>80.878605</td>\n",
              "      <td>15-09-1999</td>\n",
              "      <td>356296601</td>\n",
              "      <td>122.0</td>\n",
              "      <td>7.9</td>\n",
              "      <td>...</td>\n",
              "      <td>http://www.dreamworks.com/ab/</td>\n",
              "      <td>male nudity female nudity adultery midlife cri...</td>\n",
              "      <td>Lester Burnham, a depressed suburban father in...</td>\n",
              "      <td>[{\"name\": \"DreamWorks SKG\", \"id\": 27}, {\"name\"...</td>\n",
              "      <td>[{\"iso_3166_1\": \"US\", \"name\": \"United States o...</td>\n",
              "      <td>[{\"iso_639_1\": \"en\", \"name\": \"English\"}]</td>\n",
              "      <td>Look closer.</td>\n",
              "      <td>Kevin Spacey Annette Bening Thora Birch Wes Be...</td>\n",
              "      <td>[{'name': 'Thomas Newman', 'gender': 2, 'depar...</td>\n",
              "      <td>Sam Mendes</td>\n",
              "    </tr>\n",
              "  </tbody>\n",
              "</table>\n",
              "<p>5 rows × 21 columns</p>\n",
              "</div>\n",
              "    <div class=\"colab-df-buttons\">\n",
              "\n",
              "  <div class=\"colab-df-container\">\n",
              "    <button class=\"colab-df-convert\" onclick=\"convertToInteractive('df-d497805f-65f5-4cf9-843b-9bf1e77f21ae')\"\n",
              "            title=\"Convert this dataframe to an interactive table.\"\n",
              "            style=\"display:none;\">\n",
              "\n",
              "  <svg xmlns=\"http://www.w3.org/2000/svg\" height=\"24px\" viewBox=\"0 -960 960 960\">\n",
              "    <path d=\"M120-120v-720h720v720H120Zm60-500h600v-160H180v160Zm220 220h160v-160H400v160Zm0 220h160v-160H400v160ZM180-400h160v-160H180v160Zm440 0h160v-160H620v160ZM180-180h160v-160H180v160Zm440 0h160v-160H620v160Z\"/>\n",
              "  </svg>\n",
              "    </button>\n",
              "\n",
              "  <style>\n",
              "    .colab-df-container {\n",
              "      display:flex;\n",
              "      gap: 12px;\n",
              "    }\n",
              "\n",
              "    .colab-df-convert {\n",
              "      background-color: #E8F0FE;\n",
              "      border: none;\n",
              "      border-radius: 50%;\n",
              "      cursor: pointer;\n",
              "      display: none;\n",
              "      fill: #1967D2;\n",
              "      height: 32px;\n",
              "      padding: 0 0 0 0;\n",
              "      width: 32px;\n",
              "    }\n",
              "\n",
              "    .colab-df-convert:hover {\n",
              "      background-color: #E2EBFA;\n",
              "      box-shadow: 0px 1px 2px rgba(60, 64, 67, 0.3), 0px 1px 3px 1px rgba(60, 64, 67, 0.15);\n",
              "      fill: #174EA6;\n",
              "    }\n",
              "\n",
              "    .colab-df-buttons div {\n",
              "      margin-bottom: 4px;\n",
              "    }\n",
              "\n",
              "    [theme=dark] .colab-df-convert {\n",
              "      background-color: #3B4455;\n",
              "      fill: #D2E3FC;\n",
              "    }\n",
              "\n",
              "    [theme=dark] .colab-df-convert:hover {\n",
              "      background-color: #434B5C;\n",
              "      box-shadow: 0px 1px 3px 1px rgba(0, 0, 0, 0.15);\n",
              "      filter: drop-shadow(0px 1px 2px rgba(0, 0, 0, 0.3));\n",
              "      fill: #FFFFFF;\n",
              "    }\n",
              "  </style>\n",
              "\n",
              "    <script>\n",
              "      const buttonEl =\n",
              "        document.querySelector('#df-d497805f-65f5-4cf9-843b-9bf1e77f21ae button.colab-df-convert');\n",
              "      buttonEl.style.display =\n",
              "        google.colab.kernel.accessAllowed ? 'block' : 'none';\n",
              "\n",
              "      async function convertToInteractive(key) {\n",
              "        const element = document.querySelector('#df-d497805f-65f5-4cf9-843b-9bf1e77f21ae');\n",
              "        const dataTable =\n",
              "          await google.colab.kernel.invokeFunction('convertToInteractive',\n",
              "                                                    [key], {});\n",
              "        if (!dataTable) return;\n",
              "\n",
              "        const docLinkHtml = 'Like what you see? Visit the ' +\n",
              "          '<a target=\"_blank\" href=https://colab.research.google.com/notebooks/data_table.ipynb>data table notebook</a>'\n",
              "          + ' to learn more about interactive tables.';\n",
              "        element.innerHTML = '';\n",
              "        dataTable['output_type'] = 'display_data';\n",
              "        await google.colab.output.renderOutput(dataTable, element);\n",
              "        const docLink = document.createElement('div');\n",
              "        docLink.innerHTML = docLinkHtml;\n",
              "        element.appendChild(docLink);\n",
              "      }\n",
              "    </script>\n",
              "  </div>\n",
              "\n",
              "\n",
              "<div id=\"df-9b8b01aa-275b-41f4-a55c-7d6926f6dca7\">\n",
              "  <button class=\"colab-df-quickchart\" onclick=\"quickchart('df-9b8b01aa-275b-41f4-a55c-7d6926f6dca7')\"\n",
              "            title=\"Suggest charts.\"\n",
              "            style=\"display:none;\">\n",
              "\n",
              "<svg xmlns=\"http://www.w3.org/2000/svg\" height=\"24px\"viewBox=\"0 0 24 24\"\n",
              "     width=\"24px\">\n",
              "    <g>\n",
              "        <path d=\"M19 3H5c-1.1 0-2 .9-2 2v14c0 1.1.9 2 2 2h14c1.1 0 2-.9 2-2V5c0-1.1-.9-2-2-2zM9 17H7v-7h2v7zm4 0h-2V7h2v10zm4 0h-2v-4h2v4z\"/>\n",
              "    </g>\n",
              "</svg>\n",
              "  </button>\n",
              "\n",
              "<style>\n",
              "  .colab-df-quickchart {\n",
              "      --bg-color: #E8F0FE;\n",
              "      --fill-color: #1967D2;\n",
              "      --hover-bg-color: #E2EBFA;\n",
              "      --hover-fill-color: #174EA6;\n",
              "      --disabled-fill-color: #AAA;\n",
              "      --disabled-bg-color: #DDD;\n",
              "  }\n",
              "\n",
              "  [theme=dark] .colab-df-quickchart {\n",
              "      --bg-color: #3B4455;\n",
              "      --fill-color: #D2E3FC;\n",
              "      --hover-bg-color: #434B5C;\n",
              "      --hover-fill-color: #FFFFFF;\n",
              "      --disabled-bg-color: #3B4455;\n",
              "      --disabled-fill-color: #666;\n",
              "  }\n",
              "\n",
              "  .colab-df-quickchart {\n",
              "    background-color: var(--bg-color);\n",
              "    border: none;\n",
              "    border-radius: 50%;\n",
              "    cursor: pointer;\n",
              "    display: none;\n",
              "    fill: var(--fill-color);\n",
              "    height: 32px;\n",
              "    padding: 0;\n",
              "    width: 32px;\n",
              "  }\n",
              "\n",
              "  .colab-df-quickchart:hover {\n",
              "    background-color: var(--hover-bg-color);\n",
              "    box-shadow: 0 1px 2px rgba(60, 64, 67, 0.3), 0 1px 3px 1px rgba(60, 64, 67, 0.15);\n",
              "    fill: var(--button-hover-fill-color);\n",
              "  }\n",
              "\n",
              "  .colab-df-quickchart-complete:disabled,\n",
              "  .colab-df-quickchart-complete:disabled:hover {\n",
              "    background-color: var(--disabled-bg-color);\n",
              "    fill: var(--disabled-fill-color);\n",
              "    box-shadow: none;\n",
              "  }\n",
              "\n",
              "  .colab-df-spinner {\n",
              "    border: 2px solid var(--fill-color);\n",
              "    border-color: transparent;\n",
              "    border-bottom-color: var(--fill-color);\n",
              "    animation:\n",
              "      spin 1s steps(1) infinite;\n",
              "  }\n",
              "\n",
              "  @keyframes spin {\n",
              "    0% {\n",
              "      border-color: transparent;\n",
              "      border-bottom-color: var(--fill-color);\n",
              "      border-left-color: var(--fill-color);\n",
              "    }\n",
              "    20% {\n",
              "      border-color: transparent;\n",
              "      border-left-color: var(--fill-color);\n",
              "      border-top-color: var(--fill-color);\n",
              "    }\n",
              "    30% {\n",
              "      border-color: transparent;\n",
              "      border-left-color: var(--fill-color);\n",
              "      border-top-color: var(--fill-color);\n",
              "      border-right-color: var(--fill-color);\n",
              "    }\n",
              "    40% {\n",
              "      border-color: transparent;\n",
              "      border-right-color: var(--fill-color);\n",
              "      border-top-color: var(--fill-color);\n",
              "    }\n",
              "    60% {\n",
              "      border-color: transparent;\n",
              "      border-right-color: var(--fill-color);\n",
              "    }\n",
              "    80% {\n",
              "      border-color: transparent;\n",
              "      border-right-color: var(--fill-color);\n",
              "      border-bottom-color: var(--fill-color);\n",
              "    }\n",
              "    90% {\n",
              "      border-color: transparent;\n",
              "      border-bottom-color: var(--fill-color);\n",
              "    }\n",
              "  }\n",
              "</style>\n",
              "\n",
              "  <script>\n",
              "    async function quickchart(key) {\n",
              "      const quickchartButtonEl =\n",
              "        document.querySelector('#' + key + ' button');\n",
              "      quickchartButtonEl.disabled = true;  // To prevent multiple clicks.\n",
              "      quickchartButtonEl.classList.add('colab-df-spinner');\n",
              "      try {\n",
              "        const charts = await google.colab.kernel.invokeFunction(\n",
              "            'suggestCharts', [key], {});\n",
              "      } catch (error) {\n",
              "        console.error('Error during call to suggestCharts:', error);\n",
              "      }\n",
              "      quickchartButtonEl.classList.remove('colab-df-spinner');\n",
              "      quickchartButtonEl.classList.add('colab-df-quickchart-complete');\n",
              "    }\n",
              "    (() => {\n",
              "      let quickchartButtonEl =\n",
              "        document.querySelector('#df-9b8b01aa-275b-41f4-a55c-7d6926f6dca7 button');\n",
              "      quickchartButtonEl.style.display =\n",
              "        google.colab.kernel.accessAllowed ? 'block' : 'none';\n",
              "    })();\n",
              "  </script>\n",
              "</div>\n",
              "    </div>\n",
              "  </div>\n"
            ]
          },
          "metadata": {},
          "execution_count": 17
        }
      ]
    },
    {
      "cell_type": "code",
      "source": [
        "df.info()"
      ],
      "metadata": {
        "colab": {
          "base_uri": "https://localhost:8080/"
        },
        "id": "3fXImm2-_oGm",
        "outputId": "438a7004-c3d0-4e2a-edda-7a4edea41284"
      },
      "execution_count": 18,
      "outputs": [
        {
          "output_type": "stream",
          "name": "stdout",
          "text": [
            "<class 'pandas.core.frame.DataFrame'>\n",
            "RangeIndex: 4760 entries, 0 to 4759\n",
            "Data columns (total 21 columns):\n",
            " #   Column                    Non-Null Count  Dtype  \n",
            "---  ------                    --------------  -----  \n",
            " 0   Movie_ID                  4760 non-null   int64  \n",
            " 1   Movie_Title               4760 non-null   object \n",
            " 2   Movie_Genre               4760 non-null   object \n",
            " 3   Movie_Language            4760 non-null   object \n",
            " 4   Movie_Budget              4760 non-null   int64  \n",
            " 5   Movie_Popularity          4760 non-null   float64\n",
            " 6   Movie_Release_Date        4760 non-null   object \n",
            " 7   Movie_Revenue             4760 non-null   int64  \n",
            " 8   Movie_Runtime             4758 non-null   float64\n",
            " 9   Movie_Vote                4760 non-null   float64\n",
            " 10  Movie_Vote_Count          4760 non-null   int64  \n",
            " 11  Movie_Homepage            1699 non-null   object \n",
            " 12  Movie_Keywords            4373 non-null   object \n",
            " 13  Movie_Overview            4757 non-null   object \n",
            " 14  Movie_Production_House    4760 non-null   object \n",
            " 15  Movie_Production_Country  4760 non-null   object \n",
            " 16  Movie_Spoken_Language     4760 non-null   object \n",
            " 17  Movie_Tagline             3942 non-null   object \n",
            " 18  Movie_Cast                4733 non-null   object \n",
            " 19  Movie_Crew                4760 non-null   object \n",
            " 20  Movie_Director            4738 non-null   object \n",
            "dtypes: float64(3), int64(4), object(14)\n",
            "memory usage: 781.1+ KB\n"
          ]
        }
      ]
    },
    {
      "cell_type": "markdown",
      "source": [
        "## **Data Visualization**"
      ],
      "metadata": {
        "id": "oBGX4Ekniriz"
      }
    },
    {
      "cell_type": "code",
      "source": [
        "df.shape"
      ],
      "metadata": {
        "id": "lW-OIRK0iuzO",
        "colab": {
          "base_uri": "https://localhost:8080/"
        },
        "outputId": "d797af06-c6f3-4367-c81a-ba66a8abc783"
      },
      "execution_count": 20,
      "outputs": [
        {
          "output_type": "execute_result",
          "data": {
            "text/plain": [
              "(4760, 21)"
            ]
          },
          "metadata": {},
          "execution_count": 20
        }
      ]
    },
    {
      "cell_type": "code",
      "source": [
        "df.columns"
      ],
      "metadata": {
        "colab": {
          "base_uri": "https://localhost:8080/"
        },
        "id": "NGHbniG9AQ2J",
        "outputId": "aa7c083c-1274-49c7-ac1c-0de66c2df985"
      },
      "execution_count": 22,
      "outputs": [
        {
          "output_type": "execute_result",
          "data": {
            "text/plain": [
              "Index(['Movie_ID', 'Movie_Title', 'Movie_Genre', 'Movie_Language',\n",
              "       'Movie_Budget', 'Movie_Popularity', 'Movie_Release_Date',\n",
              "       'Movie_Revenue', 'Movie_Runtime', 'Movie_Vote', 'Movie_Vote_Count',\n",
              "       'Movie_Homepage', 'Movie_Keywords', 'Movie_Overview',\n",
              "       'Movie_Production_House', 'Movie_Production_Country',\n",
              "       'Movie_Spoken_Language', 'Movie_Tagline', 'Movie_Cast', 'Movie_Crew',\n",
              "       'Movie_Director'],\n",
              "      dtype='object')"
            ]
          },
          "metadata": {},
          "execution_count": 22
        }
      ]
    },
    {
      "cell_type": "markdown",
      "source": [
        "## **Data Preprocessing**"
      ],
      "metadata": {
        "id": "UqfyPOCYiiww"
      }
    },
    {
      "cell_type": "code",
      "source": [
        "df_features = df[['Movie_Genre','Movie_Keywords','Movie_Tagline','Movie_Cast','Movie_Director']].fillna('')"
      ],
      "metadata": {
        "id": "3cyr3fbGin0A"
      },
      "execution_count": 21,
      "outputs": []
    },
    {
      "cell_type": "code",
      "source": [
        "df_features.shape"
      ],
      "metadata": {
        "colab": {
          "base_uri": "https://localhost:8080/"
        },
        "id": "x_Oysq9GAnoF",
        "outputId": "0d787619-3599-48ab-e27f-e63964b8a362"
      },
      "execution_count": 23,
      "outputs": [
        {
          "output_type": "execute_result",
          "data": {
            "text/plain": [
              "(4760, 5)"
            ]
          },
          "metadata": {},
          "execution_count": 23
        }
      ]
    },
    {
      "cell_type": "code",
      "source": [
        "df_features"
      ],
      "metadata": {
        "colab": {
          "base_uri": "https://localhost:8080/",
          "height": 493
        },
        "id": "_-BCGi5SAqDA",
        "outputId": "3e52918d-3e26-4619-ff1b-168185584606"
      },
      "execution_count": 24,
      "outputs": [
        {
          "output_type": "execute_result",
          "data": {
            "text/plain": [
              "                           Movie_Genre  \\\n",
              "0                         Crime Comedy   \n",
              "1     Adventure Action Science Fiction   \n",
              "2                     Animation Family   \n",
              "3                 Comedy Drama Romance   \n",
              "4                                Drama   \n",
              "...                                ...   \n",
              "4755                            Horror   \n",
              "4756               Comedy Family Drama   \n",
              "4757                    Thriller Drama   \n",
              "4758                            Family   \n",
              "4759                       Documentary   \n",
              "\n",
              "                                         Movie_Keywords  \\\n",
              "0             hotel new year's eve witch bet hotel room   \n",
              "1           android galaxy hermit death star lightsaber   \n",
              "2     father son relationship harbor underwater fish...   \n",
              "3     vietnam veteran hippie mentally disabled runni...   \n",
              "4     male nudity female nudity adultery midlife cri...   \n",
              "...                                                 ...   \n",
              "4755                                                      \n",
              "4756                                                      \n",
              "4757                     christian film sex trafficking   \n",
              "4758                                                      \n",
              "4759  music actors legendary perfomer classic hollyw...   \n",
              "\n",
              "                                          Movie_Tagline  \\\n",
              "0     Twelve outrageous guests. Four scandalous requ...   \n",
              "1          A long time ago in a galaxy far, far away...   \n",
              "2     There are 3.7 trillion fish in the ocean, they...   \n",
              "3     The world will never be the same, once you've ...   \n",
              "4                                          Look closer.   \n",
              "...                                                 ...   \n",
              "4755                The hot spot where Satan's waitin'.   \n",
              "4756           It’s better to stand out than to fit in.   \n",
              "4757           She never knew it could happen to her...   \n",
              "4758                                                      \n",
              "4759                                                      \n",
              "\n",
              "                                             Movie_Cast     Movie_Director  \n",
              "0     Tim Roth Antonio Banderas Jennifer Beals Madon...     Allison Anders  \n",
              "1     Mark Hamill Harrison Ford Carrie Fisher Peter ...       George Lucas  \n",
              "2     Albert Brooks Ellen DeGeneres Alexander Gould ...     Andrew Stanton  \n",
              "3     Tom Hanks Robin Wright Gary Sinise Mykelti Wil...    Robert Zemeckis  \n",
              "4     Kevin Spacey Annette Bening Thora Birch Wes Be...         Sam Mendes  \n",
              "...                                                 ...                ...  \n",
              "4755  Lisa Hart Carroll Michael Des Barres Paul Drak...         Pece Dingo  \n",
              "4756  Roni Akurati Brighton Sharbino Jason Lee Anjul...       Frank Lotito  \n",
              "4757  Nicole Smolen Kim Baldwin Ariana Stephens Brys...       Jaco Booyens  \n",
              "4758                                                                        \n",
              "4759                                    Tony Oppedisano  Simon Napier-Bell  \n",
              "\n",
              "[4760 rows x 5 columns]"
            ],
            "text/html": [
              "\n",
              "  <div id=\"df-a709d460-1034-47ce-985f-8912f39ff5e1\" class=\"colab-df-container\">\n",
              "    <div>\n",
              "<style scoped>\n",
              "    .dataframe tbody tr th:only-of-type {\n",
              "        vertical-align: middle;\n",
              "    }\n",
              "\n",
              "    .dataframe tbody tr th {\n",
              "        vertical-align: top;\n",
              "    }\n",
              "\n",
              "    .dataframe thead th {\n",
              "        text-align: right;\n",
              "    }\n",
              "</style>\n",
              "<table border=\"1\" class=\"dataframe\">\n",
              "  <thead>\n",
              "    <tr style=\"text-align: right;\">\n",
              "      <th></th>\n",
              "      <th>Movie_Genre</th>\n",
              "      <th>Movie_Keywords</th>\n",
              "      <th>Movie_Tagline</th>\n",
              "      <th>Movie_Cast</th>\n",
              "      <th>Movie_Director</th>\n",
              "    </tr>\n",
              "  </thead>\n",
              "  <tbody>\n",
              "    <tr>\n",
              "      <th>0</th>\n",
              "      <td>Crime Comedy</td>\n",
              "      <td>hotel new year's eve witch bet hotel room</td>\n",
              "      <td>Twelve outrageous guests. Four scandalous requ...</td>\n",
              "      <td>Tim Roth Antonio Banderas Jennifer Beals Madon...</td>\n",
              "      <td>Allison Anders</td>\n",
              "    </tr>\n",
              "    <tr>\n",
              "      <th>1</th>\n",
              "      <td>Adventure Action Science Fiction</td>\n",
              "      <td>android galaxy hermit death star lightsaber</td>\n",
              "      <td>A long time ago in a galaxy far, far away...</td>\n",
              "      <td>Mark Hamill Harrison Ford Carrie Fisher Peter ...</td>\n",
              "      <td>George Lucas</td>\n",
              "    </tr>\n",
              "    <tr>\n",
              "      <th>2</th>\n",
              "      <td>Animation Family</td>\n",
              "      <td>father son relationship harbor underwater fish...</td>\n",
              "      <td>There are 3.7 trillion fish in the ocean, they...</td>\n",
              "      <td>Albert Brooks Ellen DeGeneres Alexander Gould ...</td>\n",
              "      <td>Andrew Stanton</td>\n",
              "    </tr>\n",
              "    <tr>\n",
              "      <th>3</th>\n",
              "      <td>Comedy Drama Romance</td>\n",
              "      <td>vietnam veteran hippie mentally disabled runni...</td>\n",
              "      <td>The world will never be the same, once you've ...</td>\n",
              "      <td>Tom Hanks Robin Wright Gary Sinise Mykelti Wil...</td>\n",
              "      <td>Robert Zemeckis</td>\n",
              "    </tr>\n",
              "    <tr>\n",
              "      <th>4</th>\n",
              "      <td>Drama</td>\n",
              "      <td>male nudity female nudity adultery midlife cri...</td>\n",
              "      <td>Look closer.</td>\n",
              "      <td>Kevin Spacey Annette Bening Thora Birch Wes Be...</td>\n",
              "      <td>Sam Mendes</td>\n",
              "    </tr>\n",
              "    <tr>\n",
              "      <th>...</th>\n",
              "      <td>...</td>\n",
              "      <td>...</td>\n",
              "      <td>...</td>\n",
              "      <td>...</td>\n",
              "      <td>...</td>\n",
              "    </tr>\n",
              "    <tr>\n",
              "      <th>4755</th>\n",
              "      <td>Horror</td>\n",
              "      <td></td>\n",
              "      <td>The hot spot where Satan's waitin'.</td>\n",
              "      <td>Lisa Hart Carroll Michael Des Barres Paul Drak...</td>\n",
              "      <td>Pece Dingo</td>\n",
              "    </tr>\n",
              "    <tr>\n",
              "      <th>4756</th>\n",
              "      <td>Comedy Family Drama</td>\n",
              "      <td></td>\n",
              "      <td>It’s better to stand out than to fit in.</td>\n",
              "      <td>Roni Akurati Brighton Sharbino Jason Lee Anjul...</td>\n",
              "      <td>Frank Lotito</td>\n",
              "    </tr>\n",
              "    <tr>\n",
              "      <th>4757</th>\n",
              "      <td>Thriller Drama</td>\n",
              "      <td>christian film sex trafficking</td>\n",
              "      <td>She never knew it could happen to her...</td>\n",
              "      <td>Nicole Smolen Kim Baldwin Ariana Stephens Brys...</td>\n",
              "      <td>Jaco Booyens</td>\n",
              "    </tr>\n",
              "    <tr>\n",
              "      <th>4758</th>\n",
              "      <td>Family</td>\n",
              "      <td></td>\n",
              "      <td></td>\n",
              "      <td></td>\n",
              "      <td></td>\n",
              "    </tr>\n",
              "    <tr>\n",
              "      <th>4759</th>\n",
              "      <td>Documentary</td>\n",
              "      <td>music actors legendary perfomer classic hollyw...</td>\n",
              "      <td></td>\n",
              "      <td>Tony Oppedisano</td>\n",
              "      <td>Simon Napier-Bell</td>\n",
              "    </tr>\n",
              "  </tbody>\n",
              "</table>\n",
              "<p>4760 rows × 5 columns</p>\n",
              "</div>\n",
              "    <div class=\"colab-df-buttons\">\n",
              "\n",
              "  <div class=\"colab-df-container\">\n",
              "    <button class=\"colab-df-convert\" onclick=\"convertToInteractive('df-a709d460-1034-47ce-985f-8912f39ff5e1')\"\n",
              "            title=\"Convert this dataframe to an interactive table.\"\n",
              "            style=\"display:none;\">\n",
              "\n",
              "  <svg xmlns=\"http://www.w3.org/2000/svg\" height=\"24px\" viewBox=\"0 -960 960 960\">\n",
              "    <path d=\"M120-120v-720h720v720H120Zm60-500h600v-160H180v160Zm220 220h160v-160H400v160Zm0 220h160v-160H400v160ZM180-400h160v-160H180v160Zm440 0h160v-160H620v160ZM180-180h160v-160H180v160Zm440 0h160v-160H620v160Z\"/>\n",
              "  </svg>\n",
              "    </button>\n",
              "\n",
              "  <style>\n",
              "    .colab-df-container {\n",
              "      display:flex;\n",
              "      gap: 12px;\n",
              "    }\n",
              "\n",
              "    .colab-df-convert {\n",
              "      background-color: #E8F0FE;\n",
              "      border: none;\n",
              "      border-radius: 50%;\n",
              "      cursor: pointer;\n",
              "      display: none;\n",
              "      fill: #1967D2;\n",
              "      height: 32px;\n",
              "      padding: 0 0 0 0;\n",
              "      width: 32px;\n",
              "    }\n",
              "\n",
              "    .colab-df-convert:hover {\n",
              "      background-color: #E2EBFA;\n",
              "      box-shadow: 0px 1px 2px rgba(60, 64, 67, 0.3), 0px 1px 3px 1px rgba(60, 64, 67, 0.15);\n",
              "      fill: #174EA6;\n",
              "    }\n",
              "\n",
              "    .colab-df-buttons div {\n",
              "      margin-bottom: 4px;\n",
              "    }\n",
              "\n",
              "    [theme=dark] .colab-df-convert {\n",
              "      background-color: #3B4455;\n",
              "      fill: #D2E3FC;\n",
              "    }\n",
              "\n",
              "    [theme=dark] .colab-df-convert:hover {\n",
              "      background-color: #434B5C;\n",
              "      box-shadow: 0px 1px 3px 1px rgba(0, 0, 0, 0.15);\n",
              "      filter: drop-shadow(0px 1px 2px rgba(0, 0, 0, 0.3));\n",
              "      fill: #FFFFFF;\n",
              "    }\n",
              "  </style>\n",
              "\n",
              "    <script>\n",
              "      const buttonEl =\n",
              "        document.querySelector('#df-a709d460-1034-47ce-985f-8912f39ff5e1 button.colab-df-convert');\n",
              "      buttonEl.style.display =\n",
              "        google.colab.kernel.accessAllowed ? 'block' : 'none';\n",
              "\n",
              "      async function convertToInteractive(key) {\n",
              "        const element = document.querySelector('#df-a709d460-1034-47ce-985f-8912f39ff5e1');\n",
              "        const dataTable =\n",
              "          await google.colab.kernel.invokeFunction('convertToInteractive',\n",
              "                                                    [key], {});\n",
              "        if (!dataTable) return;\n",
              "\n",
              "        const docLinkHtml = 'Like what you see? Visit the ' +\n",
              "          '<a target=\"_blank\" href=https://colab.research.google.com/notebooks/data_table.ipynb>data table notebook</a>'\n",
              "          + ' to learn more about interactive tables.';\n",
              "        element.innerHTML = '';\n",
              "        dataTable['output_type'] = 'display_data';\n",
              "        await google.colab.output.renderOutput(dataTable, element);\n",
              "        const docLink = document.createElement('div');\n",
              "        docLink.innerHTML = docLinkHtml;\n",
              "        element.appendChild(docLink);\n",
              "      }\n",
              "    </script>\n",
              "  </div>\n",
              "\n",
              "\n",
              "<div id=\"df-4d993b0b-63b0-4d5d-bc3e-8892fccf7f4e\">\n",
              "  <button class=\"colab-df-quickchart\" onclick=\"quickchart('df-4d993b0b-63b0-4d5d-bc3e-8892fccf7f4e')\"\n",
              "            title=\"Suggest charts.\"\n",
              "            style=\"display:none;\">\n",
              "\n",
              "<svg xmlns=\"http://www.w3.org/2000/svg\" height=\"24px\"viewBox=\"0 0 24 24\"\n",
              "     width=\"24px\">\n",
              "    <g>\n",
              "        <path d=\"M19 3H5c-1.1 0-2 .9-2 2v14c0 1.1.9 2 2 2h14c1.1 0 2-.9 2-2V5c0-1.1-.9-2-2-2zM9 17H7v-7h2v7zm4 0h-2V7h2v10zm4 0h-2v-4h2v4z\"/>\n",
              "    </g>\n",
              "</svg>\n",
              "  </button>\n",
              "\n",
              "<style>\n",
              "  .colab-df-quickchart {\n",
              "      --bg-color: #E8F0FE;\n",
              "      --fill-color: #1967D2;\n",
              "      --hover-bg-color: #E2EBFA;\n",
              "      --hover-fill-color: #174EA6;\n",
              "      --disabled-fill-color: #AAA;\n",
              "      --disabled-bg-color: #DDD;\n",
              "  }\n",
              "\n",
              "  [theme=dark] .colab-df-quickchart {\n",
              "      --bg-color: #3B4455;\n",
              "      --fill-color: #D2E3FC;\n",
              "      --hover-bg-color: #434B5C;\n",
              "      --hover-fill-color: #FFFFFF;\n",
              "      --disabled-bg-color: #3B4455;\n",
              "      --disabled-fill-color: #666;\n",
              "  }\n",
              "\n",
              "  .colab-df-quickchart {\n",
              "    background-color: var(--bg-color);\n",
              "    border: none;\n",
              "    border-radius: 50%;\n",
              "    cursor: pointer;\n",
              "    display: none;\n",
              "    fill: var(--fill-color);\n",
              "    height: 32px;\n",
              "    padding: 0;\n",
              "    width: 32px;\n",
              "  }\n",
              "\n",
              "  .colab-df-quickchart:hover {\n",
              "    background-color: var(--hover-bg-color);\n",
              "    box-shadow: 0 1px 2px rgba(60, 64, 67, 0.3), 0 1px 3px 1px rgba(60, 64, 67, 0.15);\n",
              "    fill: var(--button-hover-fill-color);\n",
              "  }\n",
              "\n",
              "  .colab-df-quickchart-complete:disabled,\n",
              "  .colab-df-quickchart-complete:disabled:hover {\n",
              "    background-color: var(--disabled-bg-color);\n",
              "    fill: var(--disabled-fill-color);\n",
              "    box-shadow: none;\n",
              "  }\n",
              "\n",
              "  .colab-df-spinner {\n",
              "    border: 2px solid var(--fill-color);\n",
              "    border-color: transparent;\n",
              "    border-bottom-color: var(--fill-color);\n",
              "    animation:\n",
              "      spin 1s steps(1) infinite;\n",
              "  }\n",
              "\n",
              "  @keyframes spin {\n",
              "    0% {\n",
              "      border-color: transparent;\n",
              "      border-bottom-color: var(--fill-color);\n",
              "      border-left-color: var(--fill-color);\n",
              "    }\n",
              "    20% {\n",
              "      border-color: transparent;\n",
              "      border-left-color: var(--fill-color);\n",
              "      border-top-color: var(--fill-color);\n",
              "    }\n",
              "    30% {\n",
              "      border-color: transparent;\n",
              "      border-left-color: var(--fill-color);\n",
              "      border-top-color: var(--fill-color);\n",
              "      border-right-color: var(--fill-color);\n",
              "    }\n",
              "    40% {\n",
              "      border-color: transparent;\n",
              "      border-right-color: var(--fill-color);\n",
              "      border-top-color: var(--fill-color);\n",
              "    }\n",
              "    60% {\n",
              "      border-color: transparent;\n",
              "      border-right-color: var(--fill-color);\n",
              "    }\n",
              "    80% {\n",
              "      border-color: transparent;\n",
              "      border-right-color: var(--fill-color);\n",
              "      border-bottom-color: var(--fill-color);\n",
              "    }\n",
              "    90% {\n",
              "      border-color: transparent;\n",
              "      border-bottom-color: var(--fill-color);\n",
              "    }\n",
              "  }\n",
              "</style>\n",
              "\n",
              "  <script>\n",
              "    async function quickchart(key) {\n",
              "      const quickchartButtonEl =\n",
              "        document.querySelector('#' + key + ' button');\n",
              "      quickchartButtonEl.disabled = true;  // To prevent multiple clicks.\n",
              "      quickchartButtonEl.classList.add('colab-df-spinner');\n",
              "      try {\n",
              "        const charts = await google.colab.kernel.invokeFunction(\n",
              "            'suggestCharts', [key], {});\n",
              "      } catch (error) {\n",
              "        console.error('Error during call to suggestCharts:', error);\n",
              "      }\n",
              "      quickchartButtonEl.classList.remove('colab-df-spinner');\n",
              "      quickchartButtonEl.classList.add('colab-df-quickchart-complete');\n",
              "    }\n",
              "    (() => {\n",
              "      let quickchartButtonEl =\n",
              "        document.querySelector('#df-4d993b0b-63b0-4d5d-bc3e-8892fccf7f4e button');\n",
              "      quickchartButtonEl.style.display =\n",
              "        google.colab.kernel.accessAllowed ? 'block' : 'none';\n",
              "    })();\n",
              "  </script>\n",
              "</div>\n",
              "    </div>\n",
              "  </div>\n"
            ]
          },
          "metadata": {},
          "execution_count": 24
        }
      ]
    },
    {
      "cell_type": "markdown",
      "source": [
        "## **Feature Selection**"
      ],
      "metadata": {
        "id": "2jXJpdAuiwYW"
      }
    },
    {
      "cell_type": "code",
      "source": [
        "X=df_features['Movie_Genre']+' '+df_features['Movie_Keywords']+' '+df_features['Movie_Tagline']+' '+df_features['Movie_Cast']+' '+df_features['Movie_Director']"
      ],
      "metadata": {
        "id": "QBCakTuli57t"
      },
      "execution_count": 26,
      "outputs": []
    },
    {
      "cell_type": "code",
      "source": [
        "X.shape"
      ],
      "metadata": {
        "colab": {
          "base_uri": "https://localhost:8080/"
        },
        "id": "VaMa3It7CAGZ",
        "outputId": "c1571c38-5000-45d5-c88b-1e67bad75d9f"
      },
      "execution_count": 27,
      "outputs": [
        {
          "output_type": "execute_result",
          "data": {
            "text/plain": [
              "(4760,)"
            ]
          },
          "metadata": {},
          "execution_count": 27
        }
      ]
    },
    {
      "cell_type": "markdown",
      "source": [
        "## **Get Feature Text Conversion to Tokens**"
      ],
      "metadata": {
        "id": "90_0q_Pbi658"
      }
    },
    {
      "cell_type": "code",
      "source": [
        "from sklearn.feature_extraction.text import TfidfVectorizer"
      ],
      "metadata": {
        "id": "u60YYaOFi-Dw"
      },
      "execution_count": 28,
      "outputs": []
    },
    {
      "cell_type": "code",
      "source": [
        "tfidf = TfidfVectorizer()"
      ],
      "metadata": {
        "id": "42870EYbCWKV"
      },
      "execution_count": 29,
      "outputs": []
    },
    {
      "cell_type": "code",
      "source": [
        "X = tfidf.fit_transform(X)"
      ],
      "metadata": {
        "id": "1pqbuRY8Cao_"
      },
      "execution_count": 31,
      "outputs": []
    },
    {
      "cell_type": "code",
      "source": [
        "X.shape"
      ],
      "metadata": {
        "colab": {
          "base_uri": "https://localhost:8080/"
        },
        "id": "WrJ_MM_yCfvQ",
        "outputId": "d68ef015-8675-4853-a80a-6d772b0995a3"
      },
      "execution_count": 32,
      "outputs": [
        {
          "output_type": "execute_result",
          "data": {
            "text/plain": [
              "(4760, 17258)"
            ]
          },
          "metadata": {},
          "execution_count": 32
        }
      ]
    },
    {
      "cell_type": "code",
      "source": [
        "print(X)"
      ],
      "metadata": {
        "colab": {
          "base_uri": "https://localhost:8080/"
        },
        "id": "wOFLPZYpC_J4",
        "outputId": "3bd87394-4cf2-4a8c-e77d-a91b655217cd"
      },
      "execution_count": 33,
      "outputs": [
        {
          "output_type": "stream",
          "name": "stdout",
          "text": [
            "  (0, 617)\t0.1633382144407513\n",
            "  (0, 492)\t0.1432591540388685\n",
            "  (0, 15413)\t0.1465525095337543\n",
            "  (0, 9675)\t0.14226057295252661\n",
            "  (0, 9465)\t0.1659841367820977\n",
            "  (0, 1390)\t0.16898383612799558\n",
            "  (0, 7825)\t0.09799561597509843\n",
            "  (0, 1214)\t0.13865857545144072\n",
            "  (0, 729)\t0.13415063359531618\n",
            "  (0, 13093)\t0.1432591540388685\n",
            "  (0, 15355)\t0.10477815972666779\n",
            "  (0, 9048)\t0.0866842116160778\n",
            "  (0, 11161)\t0.06250380151644369\n",
            "  (0, 16773)\t0.17654247479915475\n",
            "  (0, 5612)\t0.08603537588547631\n",
            "  (0, 16735)\t0.10690083751525419\n",
            "  (0, 7904)\t0.13348000542112332\n",
            "  (0, 15219)\t0.09800472886453934\n",
            "  (0, 11242)\t0.07277788238484746\n",
            "  (0, 3878)\t0.11998399582562203\n",
            "  (0, 5499)\t0.11454057510303811\n",
            "  (0, 7071)\t0.19822417598406614\n",
            "  (0, 7454)\t0.14745635785412262\n",
            "  (0, 1495)\t0.19712637387361423\n",
            "  (0, 9206)\t0.15186283580984414\n",
            "  :\t:\n",
            "  (4757, 5455)\t0.12491480594769522\n",
            "  (4757, 2967)\t0.16273475835631626\n",
            "  (4757, 8464)\t0.23522565554066333\n",
            "  (4757, 6938)\t0.17088173678136628\n",
            "  (4757, 8379)\t0.17480603856721913\n",
            "  (4757, 15303)\t0.07654356007668191\n",
            "  (4757, 15384)\t0.09754322497537371\n",
            "  (4757, 7649)\t0.11479421494340192\n",
            "  (4757, 10896)\t0.14546473055066447\n",
            "  (4757, 4494)\t0.05675298448720501\n",
            "  (4758, 5238)\t1.0\n",
            "  (4759, 11264)\t0.33947721804318337\n",
            "  (4759, 11708)\t0.33947721804318337\n",
            "  (4759, 205)\t0.3237911628497312\n",
            "  (4759, 8902)\t0.3040290704566037\n",
            "  (4759, 14062)\t0.3237911628497312\n",
            "  (4759, 3058)\t0.2812896191863103\n",
            "  (4759, 7130)\t0.26419662449963793\n",
            "  (4759, 10761)\t0.3126617295732147\n",
            "  (4759, 4358)\t0.18306542312175342\n",
            "  (4759, 14051)\t0.20084315377640435\n",
            "  (4759, 5690)\t0.19534291014627303\n",
            "  (4759, 15431)\t0.19628653185946862\n",
            "  (4759, 1490)\t0.21197258705292082\n",
            "  (4759, 10666)\t0.15888268987343043\n"
          ]
        }
      ]
    },
    {
      "cell_type": "markdown",
      "source": [
        "## **Modeling**"
      ],
      "metadata": {
        "id": "cIhyseNria7W"
      }
    },
    {
      "cell_type": "markdown",
      "source": [
        "**Similiarity Score using Cosine Similarity**"
      ],
      "metadata": {
        "id": "9vC3emQYDFQn"
      }
    },
    {
      "cell_type": "code",
      "source": [
        "from sklearn.metrics.pairwise import cosine_similarity"
      ],
      "metadata": {
        "id": "Toq58wpkjCw7"
      },
      "execution_count": 35,
      "outputs": []
    },
    {
      "cell_type": "code",
      "source": [
        "Similarity_Score = cosine_similarity(X)"
      ],
      "metadata": {
        "id": "bE-nZxRjDeMv"
      },
      "execution_count": 40,
      "outputs": []
    },
    {
      "cell_type": "code",
      "source": [
        "Similarity_Score"
      ],
      "metadata": {
        "colab": {
          "base_uri": "https://localhost:8080/"
        },
        "id": "x4g1F3k3DlzM",
        "outputId": "61e3394f-ca6f-4c21-fc35-cd989eaf41bd"
      },
      "execution_count": 41,
      "outputs": [
        {
          "output_type": "execute_result",
          "data": {
            "text/plain": [
              "array([[1.        , 0.01351235, 0.03570468, ..., 0.        , 0.        ,\n",
              "        0.        ],\n",
              "       [0.01351235, 1.        , 0.00806674, ..., 0.        , 0.        ,\n",
              "        0.        ],\n",
              "       [0.03570468, 0.00806674, 1.        , ..., 0.        , 0.08014876,\n",
              "        0.        ],\n",
              "       ...,\n",
              "       [0.        , 0.        , 0.        , ..., 1.        , 0.        ,\n",
              "        0.        ],\n",
              "       [0.        , 0.        , 0.08014876, ..., 0.        , 1.        ,\n",
              "        0.        ],\n",
              "       [0.        , 0.        , 0.        , ..., 0.        , 0.        ,\n",
              "        1.        ]])"
            ]
          },
          "metadata": {},
          "execution_count": 41
        }
      ]
    },
    {
      "cell_type": "code",
      "source": [
        "Similarity_Score.shape"
      ],
      "metadata": {
        "colab": {
          "base_uri": "https://localhost:8080/"
        },
        "id": "wVRzIlVBDo3X",
        "outputId": "f22d1951-0603-4c07-ddea-fd6655716d88"
      },
      "execution_count": 42,
      "outputs": [
        {
          "output_type": "execute_result",
          "data": {
            "text/plain": [
              "(4760, 4760)"
            ]
          },
          "metadata": {},
          "execution_count": 42
        }
      ]
    },
    {
      "cell_type": "markdown",
      "source": [
        "\n",
        "\n",
        " ## **Model Evaluation**"
      ],
      "metadata": {
        "id": "vhAwWfG0jFun"
      }
    },
    {
      "cell_type": "markdown",
      "source": [
        "**Movie Name as Input from user and Validate for Closest Spelling**"
      ],
      "metadata": {
        "id": "LDSTRU0UEWHN"
      }
    },
    {
      "cell_type": "code",
      "source": [
        "Favourite_Movie_Name = input('Enter your favourite movie name : ')"
      ],
      "metadata": {
        "id": "lND3jJj_jhx4",
        "colab": {
          "base_uri": "https://localhost:8080/"
        },
        "outputId": "84eecd7b-887d-4b07-f663-3472c75bc727"
      },
      "execution_count": 44,
      "outputs": [
        {
          "name": "stdout",
          "output_type": "stream",
          "text": [
            "Enter your favourite movie name : Dhoom\n"
          ]
        }
      ]
    },
    {
      "cell_type": "code",
      "source": [
        "All_Movies_Title_List = df['Movie_Title'].tolist()"
      ],
      "metadata": {
        "id": "7TGPhPcaEsYe"
      },
      "execution_count": 45,
      "outputs": []
    },
    {
      "cell_type": "code",
      "source": [
        "import difflib"
      ],
      "metadata": {
        "id": "XZg11WzKE4mY"
      },
      "execution_count": 46,
      "outputs": []
    },
    {
      "cell_type": "code",
      "source": [
        "Movie_Recommendation = difflib.get_close_matches(Favourite_Movie_Name, All_Movies_Title_List)\n",
        "print(Movie_Recommendation)"
      ],
      "metadata": {
        "colab": {
          "base_uri": "https://localhost:8080/"
        },
        "id": "YCOGmcORE7Q_",
        "outputId": "8f5c7aa4-d19e-4875-dc32-86129295ad27"
      },
      "execution_count": 47,
      "outputs": [
        {
          "output_type": "stream",
          "name": "stdout",
          "text": [
            "['Doom', 'Zoom', 'Room']\n"
          ]
        }
      ]
    },
    {
      "cell_type": "code",
      "source": [
        "Close_Match = Movie_Recommendation[0]\n",
        "print(Close_Match)"
      ],
      "metadata": {
        "colab": {
          "base_uri": "https://localhost:8080/"
        },
        "id": "4CUGFQCUFN50",
        "outputId": "62a7117b-b51e-4f12-ae2d-29b30c8fecef"
      },
      "execution_count": 48,
      "outputs": [
        {
          "output_type": "stream",
          "name": "stdout",
          "text": [
            "Doom\n"
          ]
        }
      ]
    },
    {
      "cell_type": "code",
      "source": [
        "Index_of_Close_Match_Movie = df[df.Movie_Title == Close_Match]['Movie_ID'].values[0]\n",
        "print(Index_of_Close_Match_Movie)"
      ],
      "metadata": {
        "colab": {
          "base_uri": "https://localhost:8080/"
        },
        "id": "N9F0C_HXFWIc",
        "outputId": "ef8f64ad-43bc-4607-99a1-f4ece78b5cdc"
      },
      "execution_count": 49,
      "outputs": [
        {
          "output_type": "stream",
          "name": "stdout",
          "text": [
            "1136\n"
          ]
        }
      ]
    },
    {
      "cell_type": "code",
      "source": [
        "Recommendation_Score = list(enumerate(Similarity_Score[Index_of_Close_Match_Movie]))"
      ],
      "metadata": {
        "id": "ToW03E2MFqVu"
      },
      "execution_count": 51,
      "outputs": []
    },
    {
      "cell_type": "code",
      "source": [
        "len(Recommendation_Score)"
      ],
      "metadata": {
        "colab": {
          "base_uri": "https://localhost:8080/"
        },
        "id": "XNeWtiaMF0H3",
        "outputId": "ff7701ec-f649-4385-98b9-0aa5a63afee7"
      },
      "execution_count": 52,
      "outputs": [
        {
          "output_type": "execute_result",
          "data": {
            "text/plain": [
              "4760"
            ]
          },
          "metadata": {},
          "execution_count": 52
        }
      ]
    },
    {
      "cell_type": "markdown",
      "source": [
        "## **Prediction**"
      ],
      "metadata": {
        "id": "8AzwG7oLjiQI"
      }
    },
    {
      "cell_type": "markdown",
      "source": [
        "**All Movies Sort Based on Recommendation Score w.r.t Favourite Movie**"
      ],
      "metadata": {
        "id": "f8tNg5GoF30a"
      }
    },
    {
      "cell_type": "code",
      "source": [
        "Sorted_Similiar_Movies = sorted(Recommendation_Score,key = lambda x:x[1], reverse = True)\n",
        "print(Sorted_Similiar_Movies)"
      ],
      "metadata": {
        "colab": {
          "base_uri": "https://localhost:8080/"
        },
        "id": "7aczcFqFGAub",
        "outputId": "125a1fe8-a440-4d37-aa29-28ba428e122f"
      },
      "execution_count": 53,
      "outputs": [
        {
          "output_type": "stream",
          "name": "stdout",
          "text": [
            "[(1136, 1.0000000000000002), (4179, 0.1427688715298886), (0, 0.1369869939136102), (3178, 0.10394912612801788), (2438, 0.10330384206002857), (1060, 0.10278580292992062), (941, 0.10150379367237303), (3612, 0.09735738795655771), (1875, 0.09692387625032349), (484, 0.09510103423519702), (3752, 0.0944180515876471), (1216, 0.09302364374237451), (2722, 0.09229718819646503), (3040, 0.09181655657720822), (79, 0.09081416425137309), (1701, 0.0905315065973029), (403, 0.09042058374503802), (400, 0.0893994719709043), (3010, 0.089312288714094), (1552, 0.08848229237617075), (1412, 0.08828517845065507), (2118, 0.08767673815736976), (566, 0.08724555042731634), (1456, 0.08680607690251421), (3677, 0.08628109001148622), (2165, 0.08563401643337576), (327, 0.0853001399383268), (2634, 0.08430742620699104), (4205, 0.08341329145391134), (4563, 0.081686055940211), (1713, 0.07928033453358746), (1703, 0.07786231043967104), (1636, 0.07680417671431439), (363, 0.07629186899406555), (2563, 0.0741825286037542), (2430, 0.07404019508506111), (821, 0.07295531307470712), (372, 0.07273915151406046), (1997, 0.07258175928998192), (22, 0.07250581357948799), (1029, 0.07221564408514203), (610, 0.07092866476956974), (362, 0.06976304146953555), (3304, 0.06973897435304803), (2510, 0.0693277998137729), (3578, 0.06931989268403273), (2739, 0.06876981840043303), (660, 0.06867774164003419), (1777, 0.0682071720299262), (2878, 0.06753583511588321), (1054, 0.06736256590059123), (1251, 0.06706567630106385), (548, 0.06689734625653504), (275, 0.06681905526819854), (1328, 0.06663230705281406), (4685, 0.0665361762640787), (1022, 0.06537362034474611), (2867, 0.06438060836850781), (1787, 0.06437957802256467), (3149, 0.06405324897575133), (2614, 0.064048808322616), (1285, 0.06356204705620527), (657, 0.06321532358804272), (2553, 0.0630577753480338), (934, 0.06300454249379238), (2582, 0.0626524660364645), (1263, 0.06231017985271158), (4754, 0.06221762633546976), (3924, 0.06141283427788876), (3407, 0.06111486897919756), (1297, 0.06015531754812901), (1915, 0.05998269652133005), (269, 0.05788367115732588), (2125, 0.05778933426606818), (4628, 0.0577535428361752), (3731, 0.05772735749104672), (1316, 0.05749189716214072), (1236, 0.05746347030913133), (4492, 0.05740818254666218), (228, 0.057223065233481196), (2873, 0.05693972989334124), (555, 0.056721488003473985), (2301, 0.05657613896439058), (3751, 0.056548844294977405), (4025, 0.05639643287406178), (1601, 0.056085918610537334), (1951, 0.05590633874053514), (1323, 0.055740563629832325), (1788, 0.0556084055560377), (335, 0.05559739757117572), (2872, 0.05526915056625448), (4468, 0.05516908712765889), (3754, 0.05496658360502017), (551, 0.05491223839138548), (212, 0.054520840282302016), (1707, 0.05428680690185174), (2754, 0.054123579258221616), (3240, 0.05339389481386046), (1670, 0.05315257544936931), (4544, 0.05303364557392135), (1090, 0.053030965597045544), (585, 0.05283274672964203), (631, 0.052315547416408745), (694, 0.052160234981434336), (4504, 0.05213401654716702), (561, 0.05197363418311688), (2315, 0.05157434127283894), (3820, 0.0513866547589572), (4541, 0.051027570792915936), (1033, 0.05100253872934589), (2294, 0.05046749651681228), (2668, 0.04999086557515776), (2939, 0.049759209579332046), (2665, 0.049497617259348314), (2912, 0.04946177774020533), (1688, 0.04917434472720357), (215, 0.048963961886201154), (1125, 0.048457415212845203), (1808, 0.04844370134847278), (523, 0.048381503065409115), (1304, 0.04827107840681204), (951, 0.04808621527075535), (23, 0.047839478668999715), (1329, 0.047514799955409026), (2037, 0.04751435936030813), (214, 0.04742097639546168), (124, 0.047255046027228326), (3121, 0.04716399542008262), (4576, 0.04683886764289936), (2011, 0.046800602030778696), (3457, 0.046533187141194116), (3456, 0.046513620021214196), (4551, 0.04642989858126911), (496, 0.04626866275281849), (3633, 0.04626107534855505), (4511, 0.04599332971980924), (4110, 0.045973577914570476), (209, 0.0458882291015322), (1208, 0.04580255303693268), (719, 0.045581927689147456), (2291, 0.045568909034983375), (282, 0.04550893212004786), (2027, 0.04539924419869986), (4175, 0.045267942251067075), (1404, 0.04510352678324138), (2064, 0.044954352301189084), (609, 0.044896917281718685), (3228, 0.04486281743507213), (4241, 0.04465765347924508), (177, 0.044158918121604954), (3402, 0.04398915944842442), (752, 0.04393084700442659), (108, 0.043895404032671635), (3073, 0.043842405992345464), (3294, 0.04371232988312701), (1401, 0.043711354477760735), (3960, 0.04369266922410229), (3783, 0.043552740132803594), (94, 0.04352695733125569), (2851, 0.04349104264383766), (305, 0.043458832214911834), (4596, 0.04335563310398794), (1503, 0.043274447999303564), (2829, 0.04326178777969598), (2000, 0.04318707698075503), (1555, 0.04287991438874833), (4038, 0.042873204806346155), (3458, 0.042828086496048454), (1506, 0.04280984359014998), (3284, 0.04277393602538086), (3944, 0.04271362384767179), (706, 0.04252850691860745), (3401, 0.04234708126360139), (3913, 0.04234176407908802), (2055, 0.04232839436048068), (3048, 0.042320953602622544), (202, 0.04209607477764274), (521, 0.04205709612577396), (192, 0.04201303224962337), (968, 0.04200735755613493), (3017, 0.04199857368435478), (2049, 0.04199238085695823), (1610, 0.04193104310333104), (211, 0.041917394922801804), (3360, 0.041806525047428794), (1015, 0.0417062898793547), (2016, 0.041631681677439865), (2474, 0.04157905096893415), (3316, 0.04152709827356485), (2587, 0.04147349713988686), (3205, 0.041317004938002555), (4522, 0.04131252609599598), (4660, 0.041235287708950706), (2513, 0.041134705663243176), (588, 0.041125332674202264), (483, 0.041013349099044256), (1526, 0.04101064384325646), (330, 0.04097795505908495), (1691, 0.04075423403592167), (3907, 0.04049505183142347), (3965, 0.04044600816928886), (208, 0.04040294566297675), (924, 0.04027940252587886), (1511, 0.04019542204038576), (899, 0.04019047544585833), (1114, 0.040157691242049244), (2714, 0.040120688660408174), (3696, 0.040110405184096184), (2168, 0.04002075691526501), (487, 0.04002041083143091), (1922, 0.03993771864708614), (2224, 0.039810197052587995), (911, 0.03974627112147238), (2350, 0.03973616659252651), (3395, 0.03948697512485356), (4032, 0.03926380947896474), (2123, 0.03923848280473114), (928, 0.03917730935600669), (3735, 0.039115991224717254), (2145, 0.03909258376902229), (175, 0.03901872949192064), (491, 0.03900654818185477), (184, 0.03896538305956175), (4751, 0.038815171916788564), (3000, 0.038814063865480405), (4328, 0.038785600431532785), (652, 0.03877532241851909), (2963, 0.03874136396323167), (1597, 0.03863056060866958), (1919, 0.038545893593589495), (3903, 0.03854231703063009), (3265, 0.03852727298876225), (3166, 0.03852556574692918), (3928, 0.038475801305697055), (1241, 0.03838489665332408), (2730, 0.038384756375152734), (4207, 0.038362782070018524), (1859, 0.038259876667240365), (28, 0.038116970848559965), (3803, 0.03806025535413251), (761, 0.03791485936560656), (1374, 0.03790008190897705), (4658, 0.03788863960991749), (962, 0.03787728517173647), (1206, 0.037797511678773196), (2404, 0.037776307393751526), (1341, 0.03777478014043224), (4282, 0.037677410464918584), (1954, 0.03765872604755248), (3296, 0.03765799448855236), (3327, 0.037631035197589105), (1586, 0.03759554174026882), (93, 0.0375893772329974), (1115, 0.0375790618920823), (1071, 0.03753146775942253), (895, 0.03752807055149719), (3031, 0.03749216679088537), (3841, 0.03700319712009953), (2934, 0.03689934839000528), (4652, 0.036860015009585655), (2351, 0.03685808317265751), (4706, 0.036784645604017056), (1199, 0.03677445575302678), (3516, 0.03676140574489303), (416, 0.03674907579894427), (346, 0.03673334059364326), (2325, 0.036696534287249324), (1642, 0.036628897326832534), (266, 0.03659641674203991), (3271, 0.03652240683530801), (3951, 0.03647301630481076), (3202, 0.036463077824414165), (2306, 0.03645683341798642), (1888, 0.036395643556200105), (3644, 0.03636851125055747), (3211, 0.0363243366324735), (562, 0.03619910321943712), (504, 0.03614322621478186), (1435, 0.03613933030106183), (1270, 0.03611425266882913), (569, 0.0360947761363126), (219, 0.0359657709137487), (1179, 0.03592112848944033), (1489, 0.03590157681113923), (135, 0.035896686479539), (4682, 0.03575683351736968), (2409, 0.03575608529118138), (2486, 0.03566889151419327), (1442, 0.03564071819298935), (2816, 0.0356009396655431), (3025, 0.03559477377681329), (428, 0.03558123368569685), (1723, 0.035553272773339084), (4603, 0.0355305348888145), (2012, 0.03551182727529325), (2189, 0.035496887794281076), (2838, 0.03549429558505863), (576, 0.035462650128018844), (222, 0.03545365618530697), (3861, 0.03537652739434652), (3464, 0.035361660464865774), (1817, 0.03535241034057273), (2360, 0.035308613578931225), (684, 0.03529374489098379), (4218, 0.03519401289827283), (2907, 0.035158389596111), (519, 0.035089698262408264), (2502, 0.03505908939783302), (2421, 0.03505669472370543), (3420, 0.034924240124119474), (1881, 0.034898400375830696), (4069, 0.03486602773655263), (4143, 0.034643556108840685), (3027, 0.03463386584835575), (2376, 0.03461867477268096), (578, 0.03457353061645555), (766, 0.03453493097721987), (2844, 0.03452422785109308), (3914, 0.03448270508656427), (4624, 0.03437237132089029), (607, 0.034371737651741174), (4306, 0.03433736194057713), (854, 0.03428620326611806), (3561, 0.034279717030039264), (130, 0.034244048478556825), (67, 0.03420459419886593), (3739, 0.034173031932476325), (1764, 0.03416155588071297), (1471, 0.034143199311746225), (3551, 0.03411521340034728), (2750, 0.03409056723381188), (246, 0.03397847411385545), (3544, 0.033807843325516174), (2417, 0.03373835746675698), (2736, 0.03365843686438817), (2260, 0.0336524673987231), (3904, 0.03364814101473455), (3264, 0.033570964406667056), (3435, 0.03347288732271327), (2673, 0.03347199730262679), (3865, 0.0334527173315669), (3313, 0.03344517605637162), (2817, 0.033312432223903406), (1500, 0.03324707975960564), (2317, 0.0332413266575929), (972, 0.033202215715578146), (210, 0.03307849366925881), (1278, 0.0330621583331835), (4161, 0.03301874879469191), (2416, 0.03295740855919162), (2254, 0.032935678418777904), (1254, 0.03292811651975893), (2737, 0.03280919201664618), (749, 0.0327985214831424), (3282, 0.032794175876248534), (3902, 0.032731731701242446), (753, 0.03261037446589237), (1421, 0.032585725904854146), (441, 0.03256751361160286), (1122, 0.03252842551475266), (1554, 0.032358424421540244), (871, 0.03232298272338632), (407, 0.03232005187581551), (298, 0.03225677884655072), (757, 0.032175789687872686), (429, 0.032166262111399904), (1985, 0.03212645654826247), (3848, 0.03208191300823946), (4191, 0.03201924313248027), (2977, 0.03200553941936253), (2313, 0.03193886400357468), (3475, 0.03189771204446252), (1279, 0.03188646489255733), (4026, 0.03183887046859335), (850, 0.03182205193930911), (2422, 0.031818455927423654), (3087, 0.03180924941260495), (4009, 0.03179158409442697), (1786, 0.0317455802030963), (1660, 0.031695764221508806), (221, 0.031674498089694074), (1257, 0.03165980991363804), (682, 0.031638961580829655), (510, 0.03163527790661381), (287, 0.031573617271298496), (3875, 0.031504610976229704), (2124, 0.031496937040757025), (1491, 0.03149182821643971), (3684, 0.03148942205335617), (1989, 0.03148587402414223), (4399, 0.031484200434990395), (2969, 0.03142556802134992), (3850, 0.031408579466929626), (2069, 0.03139184724550756), (4635, 0.03138615061611288), (413, 0.03135000829979672), (113, 0.031322683822748734), (938, 0.031315003371400044), (798, 0.031280842357475955), (2550, 0.0312582673631543), (4006, 0.031222540401567953), (57, 0.03110913658575447), (4380, 0.031089366669835347), (2625, 0.031040509397418113), (2501, 0.031027789006300883), (347, 0.030983829253238566), (853, 0.030982373321580974), (1420, 0.030962118218305086), (2660, 0.03094676521063902), (2606, 0.030904181178484258), (978, 0.0308615765210844), (664, 0.03084215995717627), (2811, 0.030806854223569404), (1488, 0.03076937779684941), (1779, 0.03067857474861566), (3046, 0.03065802537021803), (2944, 0.030604975917303576), (1595, 0.030589278531079594), (2014, 0.03058742865559414), (2766, 0.030539471395623297), (4027, 0.03051464180118044), (2375, 0.030512240419786264), (1443, 0.030506172944235268), (2309, 0.030490971045613872), (2114, 0.03047598310674244), (3957, 0.03047044234285141), (553, 0.030459852660971648), (2318, 0.03042607689474754), (2143, 0.03039759554909869), (452, 0.030338309005163256), (4338, 0.03033745483632537), (2239, 0.03032545119999584), (1784, 0.030297559387117028), (1008, 0.030289905214231617), (1309, 0.030253306771548243), (597, 0.030247953881708475), (2706, 0.030226008988473697), (2961, 0.030210918074167082), (3093, 0.03020543654446103), (1941, 0.03017730564520151), (4433, 0.030149565148387278), (1710, 0.030116708174666353), (127, 0.03010966918038076), (2812, 0.029962896668812817), (799, 0.029920224408341974), (2965, 0.029883242212380343), (1118, 0.029870866811539287), (2469, 0.02982232430698844), (373, 0.02981386205495067), (284, 0.029793849288730377), (205, 0.029788491103566732), (1302, 0.02977679213650164), (59, 0.029773366846024368), (168, 0.029765236297198336), (3260, 0.029763486206546973), (3784, 0.029752676447145087), (818, 0.029719011419534678), (2235, 0.02965965028347664), (4594, 0.029637228823651475), (3786, 0.029628407061345702), (3712, 0.029592883509108037), (3, 0.02958124599294487), (1129, 0.029579290653919087), (4678, 0.029500875736560687), (1357, 0.029443840116883658), (2689, 0.029443323537762182), (3518, 0.029430926864906733), (2734, 0.029420729209053927), (263, 0.029420004993888724), (3145, 0.029363148152177873), (374, 0.029340036006387793), (1918, 0.029336904749770285), (1578, 0.0292536099361261), (1444, 0.02924506199813547), (4002, 0.029221321351872755), (3399, 0.02920347803629863), (4201, 0.02920183602673486), (4316, 0.029170096740052668), (2682, 0.029147466677623822), (1542, 0.02912618175332995), (2300, 0.0290182810512545), (4407, 0.029016540491252803), (1867, 0.028994452924658347), (1656, 0.02899182347272418), (2497, 0.028853284659952773), (1628, 0.02878433953582373), (3740, 0.028762503790124117), (1306, 0.028729730259415644), (328, 0.028716986323500365), (2175, 0.028707908048647646), (35, 0.028686339036912825), (3556, 0.02856788075927942), (1558, 0.0285308287542422), (165, 0.0283360220843295), (4368, 0.02831830359610947), (4634, 0.028306618543603043), (2659, 0.0282658393468378), (3804, 0.028208419951340675), (1698, 0.028166832611563938), (217, 0.02816643662858393), (3674, 0.028164787206429565), (2852, 0.028156530927451812), (3137, 0.028154339351615237), (2585, 0.02815040699124417), (2574, 0.028136408543155182), (1474, 0.02806070143795626), (618, 0.02801620449146336), (3932, 0.027978263340481542), (1039, 0.02795863212780618), (1407, 0.027901024755896783), (1684, 0.027894889542555236), (1830, 0.027874200465171008), (1465, 0.02785485326407422), (4715, 0.027845462508510988), (468, 0.027811273887366216), (1349, 0.027747789454629912), (3443, 0.027747591185619213), (3343, 0.02774719174216512), (2930, 0.0277215435549145), (2999, 0.02761631954242022), (4752, 0.02760664053313343), (2240, 0.027606368642247258), (2868, 0.02751291652610635), (75, 0.027388893648442707), (1509, 0.027374812100118127), (2485, 0.027370892596121167), (1472, 0.02733149123829956), (2805, 0.027318802751095397), (283, 0.027313766841013172), (1217, 0.027281596994363954), (49, 0.02726779504677289), (573, 0.02725209227534264), (3368, 0.027117532522036407), (1772, 0.02710976124278349), (371, 0.027098766515916247), (3411, 0.02709191441935401), (3175, 0.027017819569851078), (702, 0.02700499856072572), (4381, 0.026925623138315737), (1615, 0.026913626676870063), (3985, 0.026892835302197278), (3738, 0.026882089706732056), (162, 0.02686192952883805), (546, 0.026849117778259574), (3317, 0.02684761185781083), (4156, 0.026830362779675876), (3424, 0.026795601677766585), (3829, 0.026785469961475218), (1340, 0.02671588851613092), (2619, 0.026714425758676462), (1192, 0.026713711542585686), (2221, 0.02670978175599812), (2603, 0.026702702476283226), (2771, 0.02669342753815842), (4033, 0.02667750915815917), (1211, 0.026656342855150065), (2635, 0.026629745972752795), (4165, 0.02661793413817656), (3567, 0.026611265981147034), (2005, 0.026587326144197905), (1319, 0.02650673922085214), (2157, 0.026452223229902427), (3769, 0.02636247622695477), (4164, 0.026360033140241063), (25, 0.026299579033412797), (1367, 0.0262706874217932), (1774, 0.02627012290486904), (1494, 0.026266614978132694), (3667, 0.026265061698845956), (575, 0.026208306922762922), (792, 0.026195905382343208), (3778, 0.026136034982792787), (2311, 0.0261277437226777), (1896, 0.026125163526396454), (3118, 0.02610597572139047), (2429, 0.026077363353360923), (3920, 0.026062645947987666), (1847, 0.026031924672734668), (426, 0.025979305373406557), (865, 0.025965117176977626), (2256, 0.025964922497592562), (1334, 0.02595892309945425), (4366, 0.025953039973783808), (1138, 0.02594587888093757), (1087, 0.025921420058537786), (71, 0.025906147874187456), (2798, 0.025891255785023888), (1413, 0.025876222382079886), (1948, 0.025846750904172287), (852, 0.025844168814237126), (731, 0.025844091448221248), (1981, 0.025787606531059035), (2138, 0.02575856543207909), (2269, 0.025746442028966355), (383, 0.02572468791246794), (881, 0.02572347304259524), (1773, 0.025723368213283075), (182, 0.025700156431634646), (4629, 0.025690151445279703), (762, 0.025629031057846127), (2712, 0.025617483114339003), (3303, 0.025605568264803834), (2072, 0.02551823356785836), (2396, 0.025517278436973812), (195, 0.025498190325108725), (2192, 0.025465827489014183), (2441, 0.02544679562473171), (2654, 0.025313138188391964), (302, 0.025292042592749156), (4084, 0.025232419068577414), (4016, 0.025217829302734647), (319, 0.02519850986540574), (3001, 0.025185467000542798), (935, 0.025129579243027923), (1799, 0.02512090253779338), (4283, 0.02510289333817676), (4061, 0.02505327100076905), (635, 0.02504141472582742), (3938, 0.025033901205703507), (119, 0.02501471556022901), (4394, 0.024968348172911485), (2534, 0.024943279519794283), (3515, 0.024936899526980028), (2632, 0.024897527456474604), (4137, 0.024852560054292497), (1957, 0.02484061592128965), (2356, 0.024798639787571578), (2169, 0.024785702961116627), (3685, 0.02473525112306579), (341, 0.024696367272516374), (2601, 0.024655386301909776), (1675, 0.024612754600116676), (688, 0.024574181334571798), (1960, 0.024561342166126262), (1812, 0.024501564445823985), (988, 0.024460470875705152), (3226, 0.024406711592995775), (538, 0.02439057482765758), (82, 0.02438090088633112), (2031, 0.024379991569986884), (348, 0.024378167606485583), (788, 0.024365114942224892), (3582, 0.024289260848978197), (952, 0.024274423888541768), (1463, 0.024259934888083597), (3362, 0.024237138108709186), (1510, 0.024204954507046354), (343, 0.024158129913413012), (3588, 0.024109654091154502), (1067, 0.02404752882281082), (1396, 0.023986360352668226), (995, 0.02395887722530887), (4725, 0.023954423709875886), (3103, 0.023879457517083657), (4378, 0.023877074714487634), (656, 0.023876631774859994), (963, 0.023833334022699135), (3299, 0.023824791111297164), (4518, 0.02382115719353748), (440, 0.02381050924607815), (3028, 0.023797770579824164), (1883, 0.023796795335149987), (2380, 0.023772196355427405), (1969, 0.02376584571204188), (3591, 0.023719891110911218), (1210, 0.02371207292194034), (249, 0.02369410758881612), (2345, 0.023692454645333795), (840, 0.02367829542655174), (2831, 0.0236683944936368), (13, 0.02365016835153099), (1650, 0.023642750391126413), (4390, 0.023616811803146332), (3018, 0.023603131907875243), (1202, 0.023558373372160896), (1477, 0.023517245655716192), (653, 0.02350656613318399), (4505, 0.023481134179478457), (2412, 0.023459298851882575), (3398, 0.023439325595074157), (1111, 0.02343832966632449), (1273, 0.023437501103382587), (2272, 0.02341938787058823), (1796, 0.02340244218438103), (3996, 0.023396847950030164), (2732, 0.02339177452146888), (56, 0.023352459864026343), (2222, 0.023345003943110752), (51, 0.02333960860114756), (2814, 0.023329433381324077), (4225, 0.023286626885239716), (1742, 0.023285121263332372), (387, 0.023225707186374386), (2274, 0.02319930066450509), (2236, 0.023136587288172417), (2087, 0.023122789697353183), (1106, 0.023104544331392484), (2904, 0.023073222612225525), (2931, 0.023063976005608153), (1579, 0.02298872755021935), (4001, 0.022974976596216855), (3736, 0.022967848831296708), (2285, 0.02294260077944142), (1709, 0.022927438851116838), (2251, 0.022921722086997044), (410, 0.022911069612898044), (3650, 0.022901018537179102), (1365, 0.022814628207465194), (1366, 0.022810389592999816), (665, 0.02277770109461975), (1418, 0.022727915514121743), (3662, 0.02271559039133324), (2482, 0.02269954508896664), (590, 0.022697363926934788), (3716, 0.022660970241288114), (2813, 0.022649490389105312), (4675, 0.022641522327642577), (775, 0.022620644897842667), (2584, 0.022550727093032373), (994, 0.022543754441416035), (2920, 0.022532337515286438), (1553, 0.022502480440021823), (1682, 0.022499737819552085), (2374, 0.02248211727050218), (233, 0.022430724952414164), (1982, 0.022401210986981373), (2975, 0.022399968328184847), (1259, 0.022353649304591022), (1584, 0.022335129996533545), (37, 0.022326319494127677), (197, 0.022322291988945725), (651, 0.022307696805587786), (1447, 0.02229260958845028), (4015, 0.022286744892328184), (2062, 0.022208994468466543), (831, 0.022184374166237142), (2043, 0.022146996890486482), (722, 0.022127927461776765), (4589, 0.022080795817083984), (4459, 0.022065655257208827), (4590, 0.022051623658209077), (3232, 0.022044506964650677), (874, 0.021987860103000134), (2680, 0.021985822579341275), (3838, 0.021958665767489775), (129, 0.021943731833994264), (2320, 0.021931085484354844), (3964, 0.021915586622083896), (4473, 0.021914259270259067), (2427, 0.02191311025626732), (3963, 0.021900860535900943), (957, 0.021893212479510413), (773, 0.021863993555446316), (803, 0.0218588942252011), (251, 0.021853394307221167), (4344, 0.02179508492168934), (365, 0.021791118383210642), (2981, 0.021780560954934844), (2161, 0.021776869395954145), (3409, 0.0217529147976855), (1882, 0.021735056776897545), (1818, 0.02173505014735581), (2226, 0.021691520764833754), (183, 0.02168173332140942), (4267, 0.021662215701866758), (3344, 0.021653513756819537), (763, 0.021653439911744926), (97, 0.021611447245269894), (1307, 0.02158451824369311), (2160, 0.02158283303171383), (1844, 0.02154384744508369), (1167, 0.02149816476051549), (1746, 0.021406204655918755), (386, 0.02139364065294317), (1925, 0.021349938891369692), (2643, 0.02130616518852259), (568, 0.021272798817432166), (2985, 0.02126721402712349), (1828, 0.021249293968052325), (3767, 0.02122520356116899), (1239, 0.021221283391484408), (2568, 0.021212957350403547), (813, 0.021188169966285416), (3393, 0.02118013852692112), (2611, 0.021127340100410577), (1594, 0.021121787945395196), (3414, 0.02111745649500513), (4007, 0.02102176403145866), (4062, 0.021007825565601445), (4400, 0.021000920788405937), (3004, 0.020950450886225918), (3356, 0.020949016555435216), (1352, 0.02091869689732626), (1109, 0.02091861271553109), (4298, 0.02086746232737901), (2004, 0.020849605982416038), (412, 0.020830258905875546), (936, 0.020790039011618324), (2996, 0.020760938662932545), (3825, 0.020708706128524046), (723, 0.02070391723548971), (661, 0.02069993437833169), (2058, 0.020698180571028665), (4055, 0.02068767576495312), (1794, 0.020680899218500762), (2127, 0.02067380859023783), (1389, 0.020663600722669546), (1493, 0.020646793546744886), (3098, 0.020646171205765382), (3234, 0.020620591679240796), (691, 0.020607086139999627), (2526, 0.020587159181052438), (2656, 0.020586091718449277), (4521, 0.02056287758173401), (4106, 0.020534636896077537), (1095, 0.020497591474608456), (2514, 0.020305412024799917), (1988, 0.02029442278807926), (309, 0.020279485305318347), (32, 0.020262558662814522), (2074, 0.020248547773599454), (2871, 0.020208067187413702), (95, 0.020185375985958088), (4431, 0.02017506383846471), (277, 0.0201614720591832), (4723, 0.020142485691494943), (2986, 0.020119554726042092), (4203, 0.020104863226154172), (2443, 0.02010165599454788), (4717, 0.020084498076095435), (74, 0.020063701658606867), (930, 0.02002362723728373), (3081, 0.020017823780938932), (2415, 0.01999030533215981), (2395, 0.019986717665988207), (3812, 0.019972729682915222), (2481, 0.019966650094546207), (159, 0.019955108612408203), (804, 0.01995229516101907), (3152, 0.019896477082527682), (847, 0.019889552252793655), (692, 0.019823782801720716), (2580, 0.019810595658285864), (3661, 0.019781374943651533), (4303, 0.01972913604509284), (2638, 0.019706923135279643), (616, 0.01970127879664059), (1157, 0.019649708951663035), (1369, 0.019623894356723626), (4736, 0.019611026621463763), (1714, 0.019579990795953454), (1886, 0.019573688177259244), (737, 0.01956279977860865), (2740, 0.019528836957525105), (511, 0.019504206259442453), (3570, 0.019500213583618947), (571, 0.019497017088631795), (1005, 0.019488446179592063), (288, 0.019478458777970473), (3822, 0.019474871426918075), (3639, 0.019466834481162223), (7, 0.019408267443989262), (2378, 0.019387664034667258), (2436, 0.01938541985124145), (545, 0.019384220391362058), (3350, 0.019358992028662488), (1927, 0.01933149988173063), (3867, 0.019322838180485493), (1748, 0.0192879176314899), (90, 0.019188739847373557), (1547, 0.019187375674387663), (1939, 0.019175462991196674), (2112, 0.019143535474856414), (3222, 0.019123572326569097), (2061, 0.019107500031555997), (4198, 0.019078830740699416), (1398, 0.01907083228145761), (4713, 0.019070793071820497), (3199, 0.019070597640952352), (1994, 0.0190549251108197), (3345, 0.01903503586550822), (3146, 0.019025927863553005), (2296, 0.01898582456117196), (2492, 0.018983152084328107), (3022, 0.018968221996906464), (1043, 0.018954003315504835), (444, 0.018952257184092543), (1191, 0.0189394826424584), (3741, 0.018939341295126495), (2478, 0.018911912253881513), (2918, 0.018905219190033677), (342, 0.018894459670018782), (721, 0.018875953471471068), (2758, 0.018840226550065214), (3921, 0.018787827643862474), (2159, 0.018756311801297984), (4739, 0.01874490642164861), (4263, 0.018734394492140694), (2494, 0.018699842881983605), (1344, 0.018669960739486412), (4446, 0.01865911435301366), (1798, 0.018619993483168985), (1666, 0.01860362841962193), (973, 0.01858615478576592), (3859, 0.018560578289051662), (419, 0.018554302457736833), (727, 0.018534583442800425), (2964, 0.01853432897829099), (2974, 0.018496108682101796), (3218, 0.018491050044308142), (1619, 0.018483842553149103), (596, 0.0184585550700613), (106, 0.018456599225586283), (1453, 0.018454606927703638), (2102, 0.018442693951285984), (3698, 0.018422223171856253), (2418, 0.018385101560541066), (3765, 0.018325226066593578), (4113, 0.018298057081289454), (477, 0.018295746343128486), (4170, 0.018286315576180937), (2013, 0.01827445320219178), (4192, 0.018268152925745067), (3890, 0.018251202135689957), (2935, 0.018247052221477315), (2633, 0.018208937790257305), (629, 0.01820353105098582), (857, 0.018192170433574652), (2022, 0.018190134820936683), (1580, 0.01817867004936523), (2640, 0.018147780486674342), (3919, 0.018131318331024663), (4119, 0.018121681341711153), (1006, 0.018120619796471546), (271, 0.018118153839708696), (3599, 0.018109838851048204), (2308, 0.018082458851152193), (101, 0.018078126335964943), (2367, 0.018058169336077297), (2821, 0.018057386051613195), (1197, 0.01804218601117031), (1048, 0.018023831863813518), (3326, 0.01801528158711615), (3122, 0.017996717430515306), (3536, 0.017996559066721308), (4286, 0.017983619764943767), (1001, 0.01797987251169084), (1002, 0.017974567665605134), (2951, 0.017962482536736872), (3749, 0.01796237139432756), (3044, 0.017957636111507018), (1242, 0.017951285770622702), (243, 0.017950555833346774), (1843, 0.017947757176326413), (3689, 0.01794027185425514), (982, 0.017935735491594565), (2835, 0.017932549461889425), (36, 0.017932225816134083), (2765, 0.01793200943803635), (3064, 0.017925925606850135), (4374, 0.0179074624543978), (4759, 0.017882040025155695), (472, 0.01785625951086367), (20, 0.01779131184202127), (4024, 0.017790476738447494), (3181, 0.017767079794013093), (3241, 0.01774527426557547), (1795, 0.01774325192057401), (3845, 0.01774170611513825), (4189, 0.01774152908932629), (1077, 0.017719414073476658), (1041, 0.017708176495020628), (4332, 0.017688918609669698), (1679, 0.017666146346842316), (4524, 0.017642303364001577), (2045, 0.017626894986750206), (3643, 0.01762026792080061), (353, 0.01761557287750394), (4118, 0.017582508503546115), (2277, 0.01758194792993858), (2862, 0.01758126119809315), (3386, 0.017574258975109752), (4287, 0.017572903006812524), (826, 0.017569606335579635), (2252, 0.017567310935226274), (864, 0.01752609178232744), (1717, 0.017517878287275537), (4312, 0.017517428093766538), (2389, 0.01750366434784727), (2193, 0.01750232071356485), (3590, 0.017499734109793205), (2109, 0.017483781650635594), (897, 0.017476451874538786), (2361, 0.017474204911484832), (62, 0.017470574651300412), (104, 0.01745404090894759), (4171, 0.01740453784442144), (2729, 0.01739472459142105), (3365, 0.017366711647621574), (3607, 0.01736119207853327), (3384, 0.017332377598794503), (1570, 0.017325477950367596), (524, 0.017306348088064822), (280, 0.017299194283860245), (564, 0.017259195464403368), (4265, 0.017255362543235255), (1403, 0.01725308779383098), (297, 0.017249459638772578), (689, 0.017249412970602854), (418, 0.017246247494619362), (1678, 0.017245448710608346), (2083, 0.017240510665791162), (220, 0.017237603292934247), (3559, 0.017220862202008382), (3237, 0.017131337677426098), (1689, 0.017106333179906286), (794, 0.017100976537370798), (3144, 0.01707790934272586), (5, 0.01706007965956871), (1964, 0.017053222280344532), (2463, 0.01704895050151292), (2344, 0.017044825448022844), (2338, 0.017044265128583744), (114, 0.017025647584026995), (1807, 0.01701287608301491), (981, 0.01698379869445199), (870, 0.016959815623678706), (2065, 0.016948776141693593), (3447, 0.016948384775085312), (1946, 0.01692873978803762), (2698, 0.01689884723237175), (2103, 0.01688884859444877), (3743, 0.016870415238026976), (594, 0.016861932657123102), (1438, 0.016845170846588382), (2386, 0.016842950128039734), (292, 0.016827944126079845), (969, 0.016814943093266175), (4151, 0.01681193044597479), (643, 0.01680732750442616), (2808, 0.016806542312204083), (593, 0.0168031750948541), (2339, 0.016791354698974005), (2724, 0.016763466536185746), (4487, 0.01675792525627108), (685, 0.016749025225371222), (3617, 0.01674365499994395), (3039, 0.016729545414474252), (3826, 0.016674607260250888), (2047, 0.016670408445388904), (3690, 0.01666249654974757), (2398, 0.016659806118471846), (1608, 0.016651890155502506), (782, 0.016643507377101206), (2017, 0.016639663512860302), (768, 0.016633111927948096), (3246, 0.01662759234442237), (1446, 0.016621255585775468), (3504, 0.01661299285799072), (1495, 0.016587983947978543), (4679, 0.016585396525261583), (696, 0.01658221749606672), (2067, 0.01657326275706723), (2279, 0.016573116635942443), (256, 0.016572957786988446), (2826, 0.016562182441561376), (2237, 0.016553810537386037), (1105, 0.01654669551280926), (356, 0.016544198344603245), (1131, 0.016529194151030633), (3403, 0.016527926970531886), (3151, 0.016521907739486173), (29, 0.01651698120687012), (4640, 0.01650468242641966), (349, 0.01649703472811898), (1424, 0.016496060315545923), (1522, 0.016464545671191815), (986, 0.01646163973133158), (1222, 0.01645003809587979), (336, 0.01644966475715533), (2859, 0.016443866411547457), (3473, 0.01641120051843428), (2357, 0.01640328024707533), (3649, 0.016391587132114704), (966, 0.016376315672374183), (39, 0.01637152507335842), (2303, 0.01635823423107948), (2793, 0.01635276535849779), (1483, 0.01634643565358797), (4257, 0.01633905659234314), (733, 0.01632258034068032), (3624, 0.016321557745560156), (785, 0.01631426304305624), (4520, 0.016308413517386922), (4070, 0.01630760257700117), (742, 0.016303828458553677), (2967, 0.0162985576501858), (4077, 0.016289981886348313), (1486, 0.016281498821572992), (357, 0.016279387501372995), (4228, 0.016275640234485116), (1793, 0.01625644039778922), (3238, 0.016234963105254126), (1517, 0.016232918690099258), (460, 0.01622881499184643), (2946, 0.01621274677783656), (259, 0.01621124389463898), (1583, 0.01619696063762976), (574, 0.01617870161056127), (2242, 0.01616745024804508), (4226, 0.01616251868960697), (3379, 0.016151457690619965), (4580, 0.016123601700200215), (3706, 0.01607766732528387), (2498, 0.01606028544417184), (530, 0.016049890375849148), (1459, 0.016048983579455226), (2777, 0.01604879995578836), (3682, 0.01604305212301083), (693, 0.016034231938146147), (4324, 0.016017893810587245), (669, 0.015958932799009937), (3389, 0.015951912039439443), (3454, 0.015949053017001957), (4436, 0.015941885539792422), (2616, 0.015941867742100345), (488, 0.01593470813767327), (4649, 0.01592854204823324), (2763, 0.015923055811360932), (232, 0.015917635468689077), (3541, 0.01591759855872879), (1308, 0.015912935298835078), (500, 0.015897952745755346), (4351, 0.01585438350378479), (1117, 0.01582603484421491), (52, 0.01575173422679225), (1416, 0.015742976875656033), (1113, 0.015739841964771132), (2287, 0.01573894372030969), (3141, 0.015708368847332684), (1668, 0.01569846325314806), (2593, 0.015693271949594127), (748, 0.015687715916177965), (3976, 0.015668185990186552), (2167, 0.015667514045769958), (310, 0.015665161859161482), (1123, 0.015656938067950602), (2845, 0.015655714138013255), (1220, 0.015654592987778923), (301, 0.015638742363144793), (1160, 0.01563675651300606), (3799, 0.015616242418767178), (1825, 0.015596520842610755), (1305, 0.01559598504794894), (787, 0.015595677816854833), (867, 0.015595272702598506), (3970, 0.015594118657150179), (4695, 0.015580709504004097), (2880, 0.0155728624820711), (3108, 0.015567123118306561), (2800, 0.015564532166098771), (600, 0.015556392722294983), (3014, 0.015552119409621422), (1700, 0.015538799250315342), (2962, 0.015515516045611157), (1755, 0.015515237394195393), (780, 0.015512600197563684), (2509, 0.015502885878302203), (1718, 0.015496446392543405), (1762, 0.015473108156999704), (1630, 0.015470615305564598), (1539, 0.015465922350821733), (1487, 0.01545864038505513), (1464, 0.015453188252204349), (285, 0.01540508755996612), (1884, 0.015397935162754613), (3539, 0.01539370930506335), (358, 0.015389961431699416), (2691, 0.015381092296266326), (1841, 0.015376552347683876), (1605, 0.015366791607031142), (1856, 0.015366050386210242), (329, 0.015350514590203805), (598, 0.015349395990732505), (1596, 0.015348325707392852), (3725, 0.015339434145948988), (515, 0.015332121416442005), (3823, 0.015330020961600908), (1195, 0.015324770841121419), (4486, 0.015323908526480415), (4591, 0.015321914458449033), (1496, 0.01532132446049591), (1451, 0.015315130141406987), (615, 0.015314567000066429), (1080, 0.015312479421016129), (2215, 0.015303985185835652), (3648, 0.01529677553625533), (2556, 0.015275868070315201), (4467, 0.015271213158221837), (4568, 0.01523975040360276), (137, 0.015220995134013508), (778, 0.015214592411584167), (4388, 0.015203361486708603), (620, 0.015198401543093461), (1674, 0.01517791378791419), (2071, 0.015168297036612965), (2674, 0.015164929274734047), (4674, 0.015151846440571024), (2347, 0.015144231881223241), (1193, 0.01514069649819446), (1291, 0.015102932174259183), (3380, 0.0150992608605961), (3655, 0.015094487908301422), (2841, 0.015090741910122663), (1823, 0.015085416142715488), (3253, 0.015083036392075266), (1266, 0.015082966910657776), (1250, 0.01506833672736587), (540, 0.015048071158854471), (3742, 0.01504791495991701), (1354, 0.015040840173620954), (1425, 0.015039694144621566), (306, 0.015022352321997234), (3711, 0.015022270655874657), (4748, 0.015021540850978923), (122, 0.015019478030547033), (1066, 0.015016588233866299), (437, 0.015014807424115616), (2942, 0.015008620180387604), (4210, 0.014995551464323676), (2487, 0.014982965909330652), (784, 0.014981719368094287), (83, 0.014981486310535464), (131, 0.014978324596814759), (1987, 0.014966510753669473), (2791, 0.014953027386070693), (1461, 0.01494948506159582), (961, 0.01494945278580703), (4297, 0.014941094181768423), (2670, 0.014892930226291574), (3895, 0.01488997153158797), (1515, 0.014880395008912748), (338, 0.014875502529403607), (1908, 0.014862633674060747), (1215, 0.014846294301037663), (2036, 0.014842199646290322), (2856, 0.014840948956109394), (60, 0.014836994448544132), (2070, 0.014835587706729268), (2198, 0.014812230964071787), (3926, 0.014807819611098269), (3579, 0.014804952024340108), (4099, 0.014780158868888914), (3033, 0.01477568531401426), (170, 0.014772925787463455), (1501, 0.014765348641044274), (1743, 0.014763497116098616), (134, 0.014760242125217395), (1262, 0.014744657200310218), (3795, 0.014736646810484312), (2933, 0.014729569868316422), (3594, 0.014725657247140287), (815, 0.01471797191171527), (4290, 0.014715756440479035), (856, 0.014705140219169072), (898, 0.01468783557125251), (1238, 0.014683282586712167), (1845, 0.014667345159287769), (699, 0.014662487832000299), (2503, 0.014660223616243053), (2480, 0.01465699718482166), (2586, 0.014639718747987288), (1312, 0.014637020371960567), (3397, 0.014632395119697796), (1692, 0.014627728459015391), (4485, 0.014625813436333361), (547, 0.014623347018339835), (1986, 0.014621056255765952), (3558, 0.014608928161889774), (1852, 0.014579017681929722), (1763, 0.014565989694962478), (1741, 0.014565895646933773), (398, 0.01454946508722674), (191, 0.014547358080695983), (3821, 0.014545914415309301), (2211, 0.014533244555133246), (3201, 0.014533037275974213), (1551, 0.014530363222270687), (3871, 0.014522160343936961), (1775, 0.014518293923262374), (92, 0.014497950296661457), (4247, 0.014479576983629373), (1162, 0.014470340100842858), (465, 0.014446577010314859), (3066, 0.014444290483821419), (3927, 0.014436709415360462), (4623, 0.01439681538093045), (3545, 0.014341584297311872), (1571, 0.014339829924533021), (2332, 0.014338249869493154), (4429, 0.014303887701107645), (1146, 0.014294730915477963), (1267, 0.014291747437562449), (2589, 0.014282933424594036), (2520, 0.014281199084215776), (4217, 0.014279213777293484), (2056, 0.014246487218884616), (3998, 0.014243052893747955), (4564, 0.014234998341054295), (161, 0.01422345190375237), (862, 0.014204239317546918), (3801, 0.014177210020387323), (1950, 0.014167310152364904), (528, 0.01416728427910234), (2743, 0.014124385039241436), (4141, 0.014108790320374884), (1541, 0.01409880184606216), (156, 0.014089960565926454), (1648, 0.014088221977506938), (4444, 0.014033153077079157), (4272, 0.014025465205791319), (2177, 0.01401712154509953), (252, 0.014016648227043777), (3129, 0.01400819773534736), (1377, 0.013991312468901942), (2094, 0.013990132209479866), (2809, 0.01397122642070366), (3427, 0.013966290824776857), (626, 0.013961151514991787), (267, 0.013960948744471393), (3410, 0.013957300505878414), (2035, 0.013956198514495522), (808, 0.013950160907909327), (231, 0.013908472501765074), (4636, 0.013892693299193069), (3566, 0.01388716566889317), (1781, 0.013873002256658313), (2039, 0.013857562037277012), (707, 0.013856487707164439), (317, 0.013855866050509421), (1903, 0.013829747448497843), (1144, 0.013828229498071358), (4253, 0.013822021288583258), (3909, 0.013793424498518982), (3340, 0.013792354626354078), (2645, 0.0137868392505155), (2992, 0.01378477433450456), (1662, 0.013779000905802754), (2107, 0.013763108391328095), (4733, 0.013745877223599604), (3575, 0.013741578999333382), (2950, 0.01373093964207218), (1209, 0.013728377661050348), (3533, 0.013725944505235557), (2874, 0.01372125578010366), (916, 0.01369887111247977), (819, 0.01369504246252019), (9, 0.013681238068936882), (1068, 0.013672296498873648), (1214, 0.013671712750347719), (640, 0.013649469809294738), (726, 0.013633172587188302), (3024, 0.013627973031763413), (814, 0.013624837980053024), (4342, 0.01362341389379845), (929, 0.013608603652639033), (354, 0.013529335687753375), (3319, 0.013509451934523905), (469, 0.013474343354371653), (1606, 0.013441387767685381), (738, 0.013431711327442284), (1935, 0.013419534632543036), (583, 0.013402564228554277), (1173, 0.0133790454763965), (1809, 0.013361072380578699), (3638, 0.013356405306253146), (4612, 0.013336400069796639), (3616, 0.01332177316915244), (4242, 0.01330877408098383), (2834, 0.013290605055298315), (3577, 0.01323922435664321), (2225, 0.013234273078348294), (906, 0.013208112555949836), (2929, 0.013185566854585398), (2156, 0.013164454279103281), (789, 0.013157983420132253), (4057, 0.013140859861079952), (3991, 0.013121433842235136), (3598, 0.013087211000981524), (3508, 0.013052919118027367), (2010, 0.013009925770203967), (3983, 0.01299394525208333), (2120, 0.012965273707497173), (433, 0.012943940349462984), (1194, 0.012916866481202313), (3301, 0.012900687926462985), (1018, 0.012892097713179543), (4582, 0.012888328064074537), (1168, 0.012864218256731315), (4237, 0.012863636508196375), (2767, 0.012852731624504869), (1467, 0.01282670596477707), (2366, 0.012813844262392432), (3748, 0.012791486704186426), (4439, 0.012787949963661073), (3948, 0.01277518273730859), (1293, 0.01274854131347074), (86, 0.012714409461547498), (4158, 0.012694031791855624), (844, 0.012667715921059865), (1654, 0.012660508309933085), (4532, 0.012648031645036039), (2738, 0.012642209867315785), (2020, 0.012610711468886456), (1376, 0.012594450399541317), (1968, 0.01258074408683751), (2720, 0.012555629624630998), (527, 0.012527309112419189), (3164, 0.012519744922881892), (4477, 0.01251559141384591), (970, 0.012490883685698296), (2917, 0.012463894034582111), (3450, 0.012441802485436325), (78, 0.012427263868844306), (1721, 0.012411309903603803), (3328, 0.012399757989618504), (648, 0.012395519210964446), (2052, 0.01236952919875908), (3230, 0.012367781163814063), (3364, 0.012366942594508781), (448, 0.012365192762942824), (3866, 0.012348534621540518), (3713, 0.012326173458653347), (508, 0.012317868414956998), (2560, 0.01229522437524383), (614, 0.012291352535368245), (2789, 0.012288752555385186), (2562, 0.01227617241430608), (3651, 0.012254995678354164), (1887, 0.01214012635598448), (786, 0.012101808120699982), (683, 0.012093942489248229), (3587, 0.012067627609381577), (1716, 0.012014297606485551), (2227, 0.012006366722666938), (1858, 0.011987087909723693), (1310, 0.011971004993148094), (1695, 0.011966218379741387), (701, 0.01195842686048764), (2840, 0.011948145526468279), (3877, 0.011927534614803607), (3857, 0.011898634418809461), (2854, 0.011897573874320092), (4531, 0.011872292582170794), (1156, 0.011861420830679446), (296, 0.011859754506209269), (1870, 0.011854664843000854), (2152, 0.011831856902257746), (2774, 0.011813655820207838), (48, 0.01180387956294109), (2154, 0.011774303617495496), (1733, 0.011746128538487562), (123, 0.011720604655377963), (4732, 0.011684502493022218), (675, 0.011682673451265701), (4013, 0.011663345886882368), (1907, 0.011531236556136259), (2770, 0.011505747081499184), (1249, 0.011498978589215529), (4269, 0.01149089457873146), (1140, 0.01147043638910406), (1537, 0.01146943405825938), (2725, 0.011456952180652265), (2940, 0.011450249940816825), (12, 0.011439977268898992), (3780, 0.011438282007774534), (2609, 0.011426484448983355), (2818, 0.011416165213718738), (3678, 0.0113966971599979), (680, 0.01139285901500721), (3297, 0.011383107564511868), (2688, 0.011379187050417357), (1687, 0.011358412777523951), (3618, 0.01135540628543364), (2792, 0.011349612898059625), (2755, 0.011327829516836687), (2610, 0.01132147386326699), (3777, 0.011318772289051753), (2028, 0.011301294298838352), (1893, 0.011299065006064445), (3142, 0.011271324725489319), (3654, 0.011266613514472314), (1643, 0.011246885890211174), (1402, 0.011233536056310035), (4363, 0.011220077443565965), (3150, 0.011208460274392925), (402, 0.011205899368874665), (4448, 0.011187736733169105), (1655, 0.011181621173381905), (890, 0.011172728684181508), (717, 0.01117164155298923), (2531, 0.011164643568860674), (4136, 0.011159865569219328), (1851, 0.01115291134839328), (1019, 0.01115256879667271), (2546, 0.011152176202503663), (2911, 0.011149307810940447), (4373, 0.011129271498427039), (4651, 0.01112790484026716), (1364, 0.01112369445792327), (858, 0.01112335188837184), (4262, 0.011121942304124277), (216, 0.011106328228883652), (4379, 0.011099459899408012), (3959, 0.011095614698404088), (11, 0.011093512254187327), (2053, 0.011060088746097294), (2126, 0.011047952956509424), (2334, 0.011026370122704658), (3233, 0.011020871641455723), (1768, 0.011014243954859684), (3701, 0.010982594998243046), (3526, 0.010963356458362414), (2784, 0.01094969096619437), (949, 0.010933810969351511), (4554, 0.010926808488301274), (3283, 0.010911759774715545), (832, 0.01089257894541769), (2210, 0.01089199329509451), (4068, 0.01088340301771295), (4135, 0.010864730431044581), (926, 0.010852071930908935), (2647, 0.010850208157833), (2769, 0.010849859176667254), (3524, 0.010815180450142589), (1574, 0.010810617511860831), (4503, 0.0108041496238974), (993, 0.010791568970124232), (4686, 0.010778092107433135), (4604, 0.010770645731385437), (3125, 0.010765695328776581), (3094, 0.010755681643914874), (3491, 0.010754837796486954), (3564, 0.010754343774002247), (1223, 0.010754216101393817), (1728, 0.010748168251444267), (1780, 0.010746739959414909), (2547, 0.010735303411750228), (1170, 0.010724816973947712), (4330, 0.010718754858411212), (3492, 0.010699598740250352), (2250, 0.01068965641766983), (2524, 0.010687687463809284), (3665, 0.010687286412568626), (2195, 0.010684533780585613), (3174, 0.010684180381778693), (2900, 0.010678714072271259), (3330, 0.010676297636055767), (3374, 0.01063159156877901), (105, 0.010624570695056531), (3477, 0.010622756357779827), (894, 0.010612145805703025), (1059, 0.010604312533228615), (2403, 0.010594573068249565), (1411, 0.010586025639834431), (769, 0.010572539499222898), (1338, 0.010536510561420773), (169, 0.010525246360544003), (3423, 0.010517987764023502), (4284, 0.010511231881863379), (3557, 0.010505237185307765), (2910, 0.010481577875202654), (4687, 0.010474925220388679), (2029, 0.010458829242562183), (1617, 0.010458473419802636), (3412, 0.010448016457153597), (1653, 0.010446774105989303), (4387, 0.010445756311118362), (2051, 0.010443866506154385), (1422, 0.010430542927009078), (4395, 0.010421869635099092), (1035, 0.010407201035302155), (2936, 0.01040569179195092), (4646, 0.01039418427813501), (4442, 0.010390957270241285), (4550, 0.010385395005897505), (4472, 0.010355534305561243), (2571, 0.010350109767186068), (1645, 0.01034918191231269), (2612, 0.010346279481974502), (2268, 0.010346182417841562), (3641, 0.010346179003789868), (1023, 0.010332712220012866), (2642, 0.010321302685533166), (1548, 0.01031924303065404), (112, 0.010313561001547598), (3917, 0.010305156954815273), (2131, 0.010291123375257151), (18, 0.01027235594104707), (948, 0.010264741192314516), (3868, 0.010250312482485213), (4523, 0.01024792665438692), (4155, 0.010234378139309514), (2209, 0.010233663760811923), (883, 0.010233391892856563), (3157, 0.010231453779632003), (1877, 0.01022258444454899), (4152, 0.010220860492298292), (4605, 0.010210581411865954), (2505, 0.010208620406447707), (2581, 0.01018728079474795), (1375, 0.010181911845484903), (1132, 0.010181050243708346), (2538, 0.010177287447497916), (1658, 0.010177052512127773), (644, 0.010176683177282077), (4428, 0.010172339054671891), (3797, 0.01017209032052349), (2892, 0.010169022367461124), (767, 0.010162183147040493), (2040, 0.010155261294156817), (715, 0.010143565356969052), (3293, 0.010139597049185042), (4124, 0.010136674280110738), (3646, 0.010129637347286283), (408, 0.010128435203717607), (878, 0.01011835935264671), (3819, 0.01011488282280152), (388, 0.0101130732082684), (2023, 0.010088171289877587), (2525, 0.010087622916638306), (4271, 0.010087486354235096), (2363, 0.010074561884186012), (2899, 0.01007044679704907), (507, 0.010059001308839936), (3057, 0.010049686813900765), (3071, 0.010034171040029263), (1669, 0.010030751843200954), (279, 0.010028863336072627), (4059, 0.010018234741918304), (1620, 0.01001706207399261), (2552, 0.01001576920536249), (2915, 0.009996301844957905), (4194, 0.009985041127380623), (1897, 0.009966633923008669), (866, 0.009959056426813401), (2446, 0.009949983172725939), (3342, 0.00994770615144598), (332, 0.009931286487784857), (2116, 0.00992102880433907), (1052, 0.009917659551742522), (96, 0.009914943029298575), (744, 0.009907026303615335), (3854, 0.009906616604661035), (805, 0.009906387067058122), (4402, 0.009905774590661916), (3448, 0.009889504295217006), (1359, 0.009877535186808157), (324, 0.009873793232743155), (1708, 0.009872925432304561), (3095, 0.009868760081183318), (3502, 0.009867438382460503), (4174, 0.00986024666861562), (4371, 0.009857331995950087), (4348, 0.009851716966484247), (907, 0.009851592625558778), (4176, 0.009850545808348503), (829, 0.009841068284326331), (3728, 0.009829612630767013), (1712, 0.009825578595951207), (1141, 0.009823493634660216), (3306, 0.009821279228325264), (1782, 0.009798028931863632), (2096, 0.009797736833153076), (3973, 0.009786930785241666), (368, 0.00978552784121314), (2954, 0.00978167819678498), (1572, 0.009780954790697443), (3563, 0.009763729695100821), (2565, 0.00975119599882736), (1360, 0.009749912735598887), (3483, 0.009732633780573255), (1685, 0.009725534611274164), (193, 0.009718873296572426), (4052, 0.009715099500962415), (470, 0.009694911724108187), (1343, 0.009691164721297985), (3311, 0.009690603774483348), (512, 0.009689462222842702), (1075, 0.009683381492914716), (1719, 0.009668228937200405), (3336, 0.00964234382525804), (4074, 0.009640750361732028), (3986, 0.009638911740397138), (1000, 0.009635499395845397), (173, 0.009633944562988345), (3610, 0.009628486250763717), (885, 0.009608863419659091), (904, 0.00959648757782864), (482, 0.009594594685089424), (3111, 0.009588139662603707), (1475, 0.009582747163843178), (153, 0.009581534789090795), (2545, 0.009576892108816284), (4449, 0.009565460113711162), (2032, 0.009553145457368687), (1124, 0.009530032554515105), (4031, 0.00952990382419012), (2744, 0.00952678036871916), (1392, 0.009524726493028542), (3172, 0.009492560653240898), (1394, 0.009491293637385321), (1629, 0.009488665839899825), (1382, 0.009488089634274686), (2988, 0.00948074619979394), (495, 0.009475048989874743), (3312, 0.009468727251961125), (33, 0.009467365905024143), (166, 0.009461046882262859), (1860, 0.009453435851555824), (1758, 0.009426960810396274), (4281, 0.009422172996793767), (1186, 0.00940647255803155), (4454, 0.009405163764396447), (3894, 0.0093953403659211), (1936, 0.009394866766577551), (1321, 0.009382441359368625), (1182, 0.009378579287857531), (406, 0.009378535637538172), (225, 0.009375725912052497), (3637, 0.009368519087759614), (380, 0.009365400103700952), (1301, 0.009359211759073291), (1381, 0.009355240625280401), (2155, 0.00935293077493093), (1942, 0.009352138635203067), (3858, 0.009348460138184186), (2785, 0.009333936242007642), (2180, 0.009318856784075449), (4255, 0.009318379617379169), (38, 0.009316510226410194), (2079, 0.00930634114026608), (4121, 0.009272160661078908), (2144, 0.009272127955794155), (424, 0.009256396829510497), (425, 0.009248365875756276), (1876, 0.009245049331100492), (4460, 0.009240869947452282), (697, 0.00923066924177761), (681, 0.009229633900019366), (2761, 0.009218786570748058), (1928, 0.00921648651523564), (4462, 0.009212706096256134), (2470, 0.009207394698874003), (1011, 0.009206770727559814), (1385, 0.009203803539492152), (2532, 0.009203419892953204), (2518, 0.009203155033526133), (2447, 0.009188073829841702), (666, 0.009173635167859245), (3346, 0.00916780721223126), (109, 0.009164392107772267), (1565, 0.009156882098246506), (1021, 0.00915623972048632), (1612, 0.009153554673165514), (3376, 0.009147943149928749), (2672, 0.009137429190493885), (3469, 0.009129556987127979), (250, 0.009122357413750816), (4108, 0.009122058641191822), (3221, 0.009118009338395506), (2174, 0.009111495709665617), (3553, 0.009110351996162487), (3200, 0.009102310128729876), (4134, 0.009101086141744055), (3596, 0.009097264997013514), (3855, 0.009089928259847137), (747, 0.009088999506510088), (4120, 0.009087101399825876), (464, 0.009086081965474616), (3067, 0.009080939267747164), (1971, 0.009080133073828375), (174, 0.009079634694667726), (4515, 0.00907161085597297), (3817, 0.009068686379744128), (3668, 0.009067521315591139), (2218, 0.00906315672376946), (3681, 0.009049985004579547), (687, 0.009044682801001557), (4064, 0.009043663241878781), (4549, 0.009043626896999224), (2076, 0.009035150007735977), (2980, 0.009015248568919627), (1725, 0.009012593439444803), (3444, 0.008986270800749733), (446, 0.008967103238591834), (4091, 0.008957581828487628), (1681, 0.00895019583754974), (2233, 0.008946371106948292), (700, 0.008944231342940727), (1096, 0.008942791055216774), (3831, 0.008939758822392004), (2008, 0.008939404164679771), (1017, 0.008934678069440146), (677, 0.008934264825937621), (3430, 0.008916977044304972), (3730, 0.008911744545718001), (102, 0.008906495439566665), (4240, 0.008899518901396305), (817, 0.008895493141484297), (2458, 0.00888414529373412), (442, 0.008882748005589795), (4336, 0.008878915900302832), (2653, 0.00887039065225481), (1056, 0.008869803477732871), (19, 0.008868904644433233), (85, 0.008843046302269373), (1864, 0.008841275574920204), (1020, 0.008818936071065483), (704, 0.00881490579619926), (1246, 0.008806944860693642), (1640, 0.00880501895426448), (4659, 0.00879729313209882), (1150, 0.008792972993623646), (4076, 0.008782540343093016), (1952, 0.008778632246125535), (3586, 0.008773481458058344), (1390, 0.00877076408035832), (420, 0.008766190208272486), (3733, 0.00875474556426459), (2473, 0.00875440439977799), (2637, 0.008752674209268506), (1520, 0.008751339204696605), (2121, 0.008751156999368423), (2263, 0.008749573592426552), (164, 0.00874678882747551), (1255, 0.008734035868196915), (3131, 0.008721886980238498), (1282, 0.008715455583618829), (2572, 0.008707560320388887), (3438, 0.008703078004182725), (3461, 0.00868982094227999), (10, 0.008687718117066728), (2283, 0.008687703541873905), (2086, 0.008682654563611825), (3954, 0.0086754506770109), (603, 0.008670967083091221), (1031, 0.00866770934760251), (392, 0.008659688027157924), (361, 0.00865380150454585), (2147, 0.008653128486453806), (2719, 0.008651458791925616), (913, 0.008647402730708508), (239, 0.008647124121014088), (3724, 0.008644112591095442), (3897, 0.008643450927931756), (1426, 0.008637078673494341), (4613, 0.00863011701696707), (1436, 0.008625699397482612), (4406, 0.008623025599171876), (307, 0.008622276399519065), (2330, 0.00861940871299417), (765, 0.0086158530640726), (1502, 0.008608942274814456), (734, 0.008608804031638058), (1380, 0.008597685381357148), (3259, 0.008597564928572698), (900, 0.00859460691551467), (654, 0.008592262481266023), (1185, 0.008588837363427797), (891, 0.008587384439747617), (781, 0.008585443965273071), (3277, 0.008583940856822583), (1104, 0.008580677593741908), (599, 0.008576556453070039), (344, 0.008574145153548233), (2790, 0.008571479172100972), (3969, 0.008564277301752138), (1336, 0.008559908840631198), (921, 0.008555070761739718), (838, 0.008547497092115464), (2675, 0.008545999453437057), (3538, 0.00854201573917103), (3870, 0.008522752044907784), (463, 0.008519104454695286), (4621, 0.008518897262668336), (2015, 0.008512584119827644), (1514, 0.008507124470860812), (3378, 0.008506882288830111), (201, 0.008505550142437214), (1519, 0.008500344124454155), (1920, 0.008499271311020011), (1047, 0.008493759715639896), (4440, 0.008481098450283601), (1613, 0.00847966527619327), (3839, 0.008478631826823011), (15, 0.00847861428523781), (2241, 0.008477361739923897), (2259, 0.008474911190614701), (1702, 0.008473177814650122), (3656, 0.008471535471773584), (1155, 0.008455230439430129), (3507, 0.008451046792796159), (2511, 0.008450086298197945), (189, 0.008442043541732853), (3930, 0.008439904796692595), (43, 0.00843733585238017), (918, 0.008436589359029361), (3549, 0.008431094346834695), (3463, 0.008409595875027697), (3329, 0.008403604438589483), (1961, 0.008398364093012409), (971, 0.00839123061690567), (2431, 0.008390363587702157), (3722, 0.008381912231524746), (199, 0.008381627845854975), (1730, 0.0083804587776392), (3446, 0.00837235298388144), (1726, 0.008365604365388829), (2803, 0.008365318869588367), (1525, 0.008358561121287649), (4376, 0.00835813946854934), (1564, 0.008349321485973255), (1431, 0.008347826324978238), (2265, 0.008344905281933365), (1538, 0.008343707797785632), (110, 0.00833184186830641), (908, 0.008328309109413887), (2444, 0.008315651624901773), (449, 0.008313568765511745), (1704, 0.008310150375978844), (3810, 0.008307063236761197), (2788, 0.008299549741244205), (1322, 0.008298807726654537), (1587, 0.008298345538746301), (919, 0.008284628992868855), (1690, 0.008281891622065399), (2278, 0.008270503078137263), (800, 0.008262288251626468), (945, 0.00825471100663496), (1751, 0.00824811125262248), (2607, 0.008239424410061726), (1577, 0.008223467509467772), (3626, 0.008218927909688234), (2414, 0.008217635681044335), (1934, 0.008207753778856483), (736, 0.00820696303466436), (732, 0.008205913872734285), (529, 0.008202687768131354), (4755, 0.008201759423479855), (1346, 0.00819887422854265), (1804, 0.008177044433606262), (560, 0.00817695551463274), (264, 0.00816352118156936), (1009, 0.008154679935785867), (299, 0.00815098530145291), (272, 0.008149863764892783), (931, 0.008146672552787835), (2046, 0.008142138160942588), (705, 0.00813789860423866), (2246, 0.00813698227585892), (3955, 0.008135453061509158), (4592, 0.008127056202810706), (525, 0.008108654473509745), (439, 0.008104323529536132), (3270, 0.008099292800682278), (4482, 0.008085620340915072), (3818, 0.008084605819188373), (65, 0.008084300492758602), (2636, 0.008042762965778731), (613, 0.008035520137799028), (1857, 0.008025623370376342), (3746, 0.008025168021066039), (3880, 0.008019697593842), (1314, 0.008019559623290408), (2128, 0.008016641677320947), (1277, 0.008011071581892251), (2807, 0.007997700144160187), (2621, 0.007997391489513226), (2329, 0.007996229975572885), (3546, 0.00799255569633116), (3096, 0.00799054056161674), (4157, 0.007988833878803734), (1130, 0.00798838128368894), (2713, 0.007986369059262458), (2692, 0.007982223371637606), (84, 0.00798208926275562), (150, 0.007980271557871765), (2504, 0.007959531213410812), (242, 0.00795867915378122), (4112, 0.007957409234061952), (147, 0.007952779098367807), (3709, 0.007945849531678695), (2322, 0.007941162751174652), (2178, 0.007929568116435878), (3994, 0.00792232661725071), (152, 0.007916874332895195), (72, 0.007906351877142878), (1790, 0.007905676600742397), (790, 0.007901471977505865), (345, 0.007901128509986529), (1351, 0.007900376382894708), (1373, 0.007897936468755255), (3127, 0.007896666459370988), (2003, 0.007875904493243545), (1347, 0.00787430296734109), (2245, 0.007874042568068274), (3011, 0.007872222783706728), (1833, 0.007871206190420645), (445, 0.007869199469648565), (3720, 0.007867173307005348), (1368, 0.007865662229009456), (261, 0.007865408907098193), (2432, 0.0078579762987863), (3562, 0.007852431251960137), (223, 0.007850256028004134), (915, 0.007844596319848516), (4252, 0.00784359270416704), (179, 0.007836004970181738), (3886, 0.007829214325280243), (486, 0.00782882924461673), (138, 0.007827625472214089), (3053, 0.007823290215438863), (427, 0.007819545133960685), (3568, 0.007818345926254992), (1632, 0.007816319751970606), (4438, 0.00781577683620509), (582, 0.007812756060947139), (3065, 0.007807845595042052), (4279, 0.00779587873108478), (4481, 0.007789086170261187), (2897, 0.00778682436254408), (3899, 0.007777972034277667), (1218, 0.007777131300280495), (3634, 0.007771993313098882), (498, 0.007771965902884126), (4441, 0.00774413586326984), (3465, 0.007743380781944365), (1274, 0.007742109147342815), (2631, 0.007741841406547446), (1738, 0.007739194382959714), (171, 0.007738448791246912), (45, 0.007737129124243011), (260, 0.007732384372694066), (3256, 0.0077306411235261935), (3891, 0.007720165494634912), (3361, 0.007717143773683299), (4610, 0.007714750108263066), (4012, 0.007694036378587164), (1756, 0.007687667067717272), (1014, 0.007683325980174586), (4292, 0.007680929798606917), (1895, 0.007679622014708081), (1973, 0.007668989334818079), (1824, 0.007663029158057403), (3133, 0.007662642747105404), (1914, 0.00766172227881846), (3193, 0.0076580683417409555), (3320, 0.007656807509026669), (44, 0.007651881958597353), (2139, 0.007651222557623621), (4548, 0.007642002033388507), (2938, 0.007631814753077766), (974, 0.007631592373247343), (293, 0.007617075729230744), (810, 0.007616613597340257), (492, 0.0076113094259311126), (142, 0.007605285516969703), (3966, 0.007603140790526358), (2327, 0.007600751591021012), (1778, 0.007593346407312548), (125, 0.007592117624136583), (3280, 0.007589913847051118), (690, 0.007584952920135158), (1430, 0.007580338802028784), (3083, 0.007578382579552046), (2615, 0.007572926593711702), (417, 0.007572431021075278), (454, 0.0075660799676618125), (549, 0.0075637372067458766), (3718, 0.007559448036810983), (843, 0.00755941678185569), (537, 0.007548850697852558), (240, 0.00754578578595305), (3321, 0.007542956010045134), (2491, 0.007516294046955357), (409, 0.007505515162290892), (2666, 0.007494170457873958), (1984, 0.007492851542311193), (411, 0.00748273519085319), (1037, 0.0074775543696053055), (80, 0.007469706285306338), (1524, 0.007466317643854401), (4600, 0.0074605043759549865), (14, 0.007459819033834021), (3945, 0.007455855557882938), (1317, 0.00744779464644451), (4339, 0.007446844958686149), (776, 0.007440677811224795), (1568, 0.007439455200787271), (40, 0.007439197306214862), (4689, 0.007438829429711116), (291, 0.007430887812457422), (1990, 0.0074272105319822075), (1069, 0.007419884221367965), (2749, 0.007419399750802161), (3295, 0.007418892294693862), (1288, 0.007417471958461158), (3008, 0.00741394710806984), (352, 0.007409467074867418), (3459, 0.007407665259252751), (337, 0.007399183240880721), (148, 0.0073979211304523495), (2908, 0.007386933362867707), (1626, 0.007386825296631633), (1171, 0.007384642440502778), (4109, 0.007376423871492875), (4647, 0.007371800683415402), (2843, 0.0073643415884178135), (4337, 0.00736355964224929), (1816, 0.007348731735963447), (2262, 0.007344488336625024), (3387, 0.007323353924755125), (63, 0.007315799732391456), (577, 0.007301354815497673), (3231, 0.00730031316399105), (2244, 0.007293694630789772), (1025, 0.007264773143311514), (2101, 0.0072572315378300585), (1384, 0.007255638253494236), (497, 0.007254645689996366), (4450, 0.007226641327652859), (882, 0.00722648374892322), (1468, 0.007226100712556374), (4196, 0.007221030139832686), (91, 0.007217204909009053), (820, 0.0072012422010346066), (2906, 0.0071771989378830465), (1417, 0.007175417456190779), (756, 0.007158651214603421), (1747, 0.007153644832329832), (2608, 0.00714030590751337), (1770, 0.0071309119579192805), (1482, 0.007125794440297688), (340, 0.007125408160096017), (3852, 0.00710330024883052), (4353, 0.007079686062099079), (1737, 0.00707413402134511), (1559, 0.0070554884038980855), (2842, 0.0070483685633220975), (1521, 0.007040863113238677), (1099, 0.007032154028065861), (1850, 0.007031591041573922), (1116, 0.007025649379062957), (234, 0.007016269283886293), (1546, 0.007013242040723718), (3747, 0.007004373049696277), (2, 0.006995056460787124), (2801, 0.006993248536005169), (3776, 0.0069819533075113115), (4182, 0.006974001217054243), (779, 0.006968656132379015), (1120, 0.0069503799427858715), (1802, 0.006943585632172044), (725, 0.006934993059846893), (1178, 0.006925348630136309), (1046, 0.006924258271762441), (2622, 0.006916518253385137), (2855, 0.00691333264477147), (2204, 0.006910757588998872), (1010, 0.006895138889430633), (1910, 0.006887063847507395), (1911, 0.006886893220563209), (639, 0.00688394976300221), (4008, 0.006882516323915566), (313, 0.006872828569151268), (3481, 0.006861095817120863), (2627, 0.006860608780123812), (1535, 0.006855117278311818), (3658, 0.006850437922211365), (671, 0.006847855333030779), (2726, 0.006847831171322333), (58, 0.006835603313429699), (64, 0.0068278784011701), (186, 0.006817485576404025), (2276, 0.006812059316144372), (809, 0.0068083794107916575), (3484, 0.006779680595683677), (3632, 0.006778579218797968), (1221, 0.006777628653688766), (1761, 0.006777114861939816), (2708, 0.006759753386872547), (88, 0.006723953393331622), (2335, 0.006690359040533856), (758, 0.006683206405760449), (1945, 0.006682104766488879), (1530, 0.006676273473798357), (381, 0.00665843152610417), (1074, 0.006652133271757495), (1505, 0.0066509594383111015), (1172, 0.0066398225071585045), (1873, 0.0066383266649662495), (4738, 0.006628753315112344), (3416, 0.00662555660191022), (1644, 0.00662426602443635), (1345, 0.006617061570145229), (237, 0.006613786340892382), (2324, 0.006607223308547898), (641, 0.006582547964367009), (834, 0.006577768973070681), (1012, 0.0065696500939258955), (1226, 0.0065649940228755385), (1395, 0.006562144820343668), (1913, 0.0065445111778914804), (3980, 0.0065400000810119435), (322, 0.006530382030130773), (1849, 0.006528653491552479), (1696, 0.006503098028945213), (1128, 0.006498235716376872), (294, 0.006491041416188418), (1094, 0.006490080763478213), (3288, 0.006488685039916091), (2078, 0.006483581176861398), (807, 0.006472697650732573), (2377, 0.006471443970041193), (2759, 0.006462091585129345), (230, 0.006458336315259024), (668, 0.0064495984196648185), (321, 0.006436839352857958), (273, 0.006435522200854117), (940, 0.00643325218879452), (4367, 0.006426602133613175), (2095, 0.006404775036855527), (2326, 0.006401429093109697), (3085, 0.00633540994802589), (3309, 0.006332688092527834), (300, 0.006318097337493102), (1327, 0.006306315905340853), (421, 0.006304891926559506), (2517, 0.006304298279813849), (144, 0.006302264252846366), (2751, 0.006288879100676086), (2388, 0.006287056396676308), (1664, 0.006280897781539384), (3023, 0.006274439175671083), (812, 0.0062705709739597), (835, 0.006270324274245354), (185, 0.00626966829017765), (1647, 0.00626886970369205), (3864, 0.006258341647275219), (2202, 0.006247674381942948), (369, 0.006239158357777083), (2205, 0.0062076183913789), (833, 0.006206504939886995), (4414, 0.006178445178581232), (3426, 0.006169133918636519), (710, 0.006160921824156821), (2742, 0.006157288742205463), (2119, 0.006152051014773879), (248, 0.006135119907785683), (4236, 0.006133190133504591), (3114, 0.006130768650347147), (2110, 0.006084727892992935), (3244, 0.0060750661092662354), (2203, 0.006068337084100501), (958, 0.006061552213568034), (1567, 0.0060073831674745245), (2426, 0.005977477007149992), (334, 0.005967415669719014), (2185, 0.005941073587846678), (1715, 0.005939521726657826), (979, 0.005864192869775017), (2555, 0.005823367029203427), (2820, 0.005800580779954058), (4385, 0.005772140208053802), (4035, 0.005770374123164004), (3509, 0.0057537210472758575), (1379, 0.0057481112562872945), (1492, 0.005739064275414306), (1863, 0.005727474251626356), (3391, 0.005708411779924921), (2098, 0.005672722242891146), (2197, 0.005609026402225179), (3215, 0.005546239806358844), (3835, 0.005536226530666678), (3940, 0.005467696480080848), (2439, 0.005444768114976765), (4726, 0.0054087916801708194), (4288, 0.005210040819107171), (2440, 0.005200673895743879), (2113, 0.005189577629879572), (3946, 0.005142863562947345), (414, 0.004980107064692642), (4719, 0.004959081463911747), (155, 0.004948718813116202), (3325, 0.0045746902259726245), (3534, 0.00422851426050636), (2678, 0.004170018210888959), (3552, 0.004164358059327718), (611, 0.004113780434891263), (2299, 0.004094483848631165), (4571, 0.004068660997130602), (3512, 0.003926272966282196), (2757, 0.00391900578691698), (3276, 0.0038651470614972693), (4555, 0.003859014565605336), (2998, 0.0038439476096049446), (3925, 0.003811206109697163), (4607, 0.0037181040837229993), (2529, 0.003716818978217783), (2379, 0.003695254051744971), (2490, 0.003690455763265443), (2937, 0.0036767431034287422), (3523, 0.0036705077771179476), (4705, 0.0036608224487530722), (3051, 0.0036523620764457587), (2764, 0.003647891937647852), (2768, 0.003639701500791841), (3672, 0.0036383869065219213), (2858, 0.0036292341681359083), (2137, 0.0036290315768381706), (3139, 0.0036251574135457622), (4082, 0.003617127266596691), (2649, 0.0036167800602439465), (4202, 0.003580282104898025), (2989, 0.0035678061962634293), (2349, 0.0035452133315325247), (1145, 0.0035406548585838723), (2407, 0.003539374100918051), (3990, 0.003534199505770303), (2889, 0.003524765083847569), (2537, 0.0035124787483983236), (3119, 0.003510273961907408), (4617, 0.0035019313568077585), (4704, 0.0034979293904105987), (3052, 0.0034973493113137012), (735, 0.003496339418676826), (3055, 0.0034841609056815628), (2775, 0.0034760094245094952), (4017, 0.0034746034353920715), (2870, 0.0034710409791757135), (3042, 0.003469289181280773), (3030, 0.003468680012976414), (627, 0.0034671023107310777), (2883, 0.00346494481185835), (3635, 0.0034617896866020064), (947, 0.0034539094137938137), (2923, 0.003449906085559065), (3291, 0.003440841772696249), (2731, 0.003436955299656117), (4749, 0.0034362552303962503), (4222, 0.0034339707194793487), (4529, 0.0034330805182347774), (2484, 0.0034235365872041074), (2310, 0.0034234286127466586), (4221, 0.0034233596139358214), (3479, 0.0034194574277000515), (4484, 0.0034138445505353496), (4611, 0.0034129017601621623), (2694, 0.003410701036083584), (3939, 0.0034102655477893057), (2861, 0.003393861871682259), (2655, 0.0033932086028174704), (2932, 0.0033853665109421748), (4172, 0.0033849957176977376), (2559, 0.0033659238025874226), (3878, 0.0033652608328291534), (4418, 0.003362825369585386), (2832, 0.003360246653949712), (2075, 0.003354996812051251), (4696, 0.003354438911555117), (2628, 0.003351883945497232), (3076, 0.003350953491748356), (3219, 0.003346158839391788), (2448, 0.003343913915540767), (2392, 0.003343168428287489), (3292, 0.0033424969444526107), (3762, 0.003335773611721243), (2199, 0.0033330260961582417), (3892, 0.0033285341514812166), (4423, 0.003320237985516605), (4019, 0.0033192133699144373), (2425, 0.0033184749651637454), (4546, 0.003309686728612293), (2255, 0.0033034494935606086), (2257, 0.0032965729697396595), (3322, 0.003295369796833533), (889, 0.0032952536487422667), (3262, 0.003294589801987292), (2901, 0.00328742472562381), (4230, 0.0032807595842216943), (4142, 0.003273582828728263), (2286, 0.003272187041608561), (4403, 0.0032635275446902803), (2530, 0.0032543490127987457), (4102, 0.00325102822789193), (3015, 0.0032446198529241677), (4606, 0.0032415610264356336), (3828, 0.003238234375591558), (4710, 0.0032365063039928683), (2795, 0.00323355283293491), (3239, 0.0032281716358200136), (3128, 0.003227637794073133), (2423, 0.0032268383941057867), (3354, 0.0032236764375690326), (3140, 0.003222354813799743), (526, 0.003219761054601633), (475, 0.003213512819338796), (1711, 0.0032108997201853212), (1121, 0.00320787938866329), (3249, 0.003202424566803391), (4469, 0.0031991552590560812), (3687, 0.003198065249605188), (4692, 0.003196175811317968), (3363, 0.0031933265454862285), (3357, 0.003182701670828908), (3537, 0.003175885101524111), (2557, 0.0031755789175054285), (3159, 0.003168978575746525), (4107, 0.0031616520806329105), (3922, 0.003160845379088792), (2857, 0.0031606232462296825), (3613, 0.00315818216092084), (4724, 0.003156319283173334), (670, 0.003155500860690895), (3521, 0.0031543899985394526), (2266, 0.0031527685913033043), (3999, 0.0031527589367986455), (4572, 0.003142459110891397), (3074, 0.003141431660196899), (4209, 0.0031375631046128925), (4443, 0.003136644387613185), (326, 0.0031356961031626615), (2797, 0.0031339996036336003), (3154, 0.0031338858537590464), (2957, 0.0031324845399280806), (3874, 0.0031310495596250224), (2488, 0.0031291880086416826), (3832, 0.0031258103943716076), (2848, 0.003125390584263743), (2188, 0.0031248590354393886), (3123, 0.0031231568401940512), (3302, 0.0031197085684535612), (2879, 0.0031182668068148157), (3620, 0.003117877534686032), (4147, 0.0031177161452039335), (2459, 0.0031165221766955957), (2966, 0.003112648819669631), (3358, 0.0031085195633737224), (3020, 0.003108397479684649), (1593, 0.0031029830841262447), (1064, 0.003102108495006102), (3206, 0.0030979201852689253), (2778, 0.00309606693644196), (3779, 0.0030918649923407935), (2454, 0.003091854354917162), (2993, 0.0030883442608795027), (3901, 0.0030879398186311564), (3257, 0.0030852509866282876), (1264, 0.0030842899712335147), (1429, 0.0030781474711903773), (777, 0.0030774107460733117), (3413, 0.0030754424680417614), (2895, 0.003064819113173002), (489, 0.003062974863649217), (2434, 0.003061006412682851), (3911, 0.0030595593131484463), (4458, 0.003053769848410922), (3766, 0.003053453066424265), (3675, 0.003052202431244099), (4701, 0.0030516708380142797), (4637, 0.0030382663243007538), (4490, 0.0030365339029099986), (1049, 0.00303614117027852), (4280, 0.0030345164978041687), (2772, 0.0030330821537385747), (3308, 0.0030313119419374717), (4735, 0.0030298971329789813), (4023, 0.003023789342934456), (431, 0.003019636839076058), (4632, 0.0030186619632382996), (3763, 0.003017598607515764), (3935, 0.0030171419202159604), (2613, 0.003016459404187385), (4416, 0.0030139354138115047), (2570, 0.0030136052297821754), (3621, 0.003012937494459772), (3745, 0.003012000004155744), (1053, 0.003011622100554901), (4584, 0.003010216773570774), (4633, 0.0030091274150300575), (1792, 0.0030090093451093803), (2089, 0.0030086772507679545), (4694, 0.0030084898095710257), (1187, 0.003008319231011916), (4145, 0.00300773111275524), (2406, 0.0030075949521887204), (2707, 0.0030051277343064575), (518, 0.0030017262154209685), (1885, 0.0030001121884730545), (4412, 0.002999388349377794), (4030, 0.002996950502406146), (1169, 0.002996686622553583), (2846, 0.0029960265277268593), (3275, 0.002992680889007003), (937, 0.0029914743675529686), (4075, 0.0029876632667210565), (3540, 0.002986395601040697), (2142, 0.002986250931064661), (3019, 0.0029807193047885184), (3359, 0.0029798102123340087), (4126, 0.0029794797457810876), (3884, 0.0029790720930466703), (2696, 0.002976458146198353), (3072, 0.002975962228815213), (3307, 0.0029742506831714074), (1947, 0.002972375786787305), (2924, 0.00296949402114829), (4163, 0.002968577099421297), (3729, 0.0029673678486804357), (3425, 0.0029668148167371813), (860, 0.002966672281010139), (443, 0.002961540488668848), (3408, 0.002961001661585384), (4398, 0.002958693261983627), (2987, 0.002955974278767923), (2884, 0.002955773787902805), (3419, 0.00295487509924292), (1275, 0.0029544174620744776), (3337, 0.002954397686298403), (3396, 0.00295338138330334), (3506, 0.0029531154359869714), (823, 0.0029513407264423253), (4650, 0.0029507949768999174), (4369, 0.0029457785118469503), (3355, 0.002945746946609939), (925, 0.0029441227104834364), (4507, 0.00294099842217438), (3165, 0.002940907022410226), (274, 0.0029399476330531625), (2187, 0.002938638525724939), (3952, 0.0029363179974042438), (4516, 0.002936102458898792), (4465, 0.002934501564588947), (4244, 0.002933336269482949), (2796, 0.002930229453739954), (985, 0.0029289992432523903), (2702, 0.002926446821175968), (1924, 0.002925201055875599), (4295, 0.0029233902002773786), (4117, 0.002922843091566273), (876, 0.00292256641014714), (1497, 0.002922197016787551), (739, 0.0029217391616950675), (1184, 0.00292107151530548), (4753, 0.002919655925018088), (3883, 0.0029186500358236085), (4243, 0.002914905803356187), (3772, 0.002913818245608497), (2223, 0.002911285441425809), (2346, 0.0029112425075149342), (3611, 0.0029092799898246128), (2302, 0.0029082550297155475), (2629, 0.0029065657011235952), (2437, 0.0029062689016759965), (1909, 0.0029062374510805517), (4187, 0.002905280526869362), (107, 0.002904003818731415), (2893, 0.0029036379601950833), (3186, 0.0029032379307613616), (998, 0.002902642289988888), (999, 0.002900266679577531), (2881, 0.0028999091589955706), (2411, 0.002899327066523689), (3148, 0.0028990135396010207), (4731, 0.002899002816588779), (2623, 0.002898653044688153), (3043, 0.002898567779993228), (478, 0.0028978088656686084), (4092, 0.002897596675322675), (2400, 0.0028960385122149684), (2914, 0.0028957324581223663), (3680, 0.0028954026170636337), (3992, 0.0028943078265778422), (4494, 0.0028925943300968696), (1148, 0.0028909511904697174), (281, 0.0028905212651438588), (1383, 0.002890342687069835), (235, 0.0028900297537922553), (4699, 0.002888943364434418), (3013, 0.002888427354863106), (3274, 0.00288495311748781), (3373, 0.002881873429587032), (4333, 0.002881177595794277), (533, 0.002879896194980355), (3560, 0.002876936181928809), (3962, 0.0028756809321347), (922, 0.002872693376624968), (4718, 0.0028716604492687037), (2903, 0.0028714040920788143), (3196, 0.002871196738521226), (4160, 0.0028707814151526794), (3012, 0.0028706846134792675), (2579, 0.0028700404264652476), (2916, 0.0028680219706659674), (1862, 0.0028676329784621886), (1499, 0.002866266275914467), (3032, 0.0028660105573517784), (4535, 0.00286586771687511), (436, 0.002864737554827198), (4396, 0.0028646850528425425), (2134, 0.0028640018701760147), (308, 0.0028632109098719757), (4401, 0.002860744197371985), (3737, 0.002859091853392565), (3593, 0.002858265908027568), (4293, 0.002857183239128394), (458, 0.002856998192972739), (4051, 0.00285659551586241), (3248, 0.0028555944221794), (3640, 0.0028555281710126623), (729, 0.002855223697123095), (3273, 0.002850584938068986), (2782, 0.0028502350831588726), (2830, 0.0028496577847595913), (4397, 0.00284962682110519), (41, 0.002849098810589521), (4593, 0.0028471732903118034), (1498, 0.0028466136250963783), (3003, 0.0028443666454413064), (4259, 0.0028441025127573043), (1923, 0.0028436547689357945), (2108, 0.0028419377650675598), (1890, 0.002841135107900959), (3062, 0.0028387045831555235), (4138, 0.002838108931862621), (2535, 0.002837902610018279), (888, 0.0028377841756311176), (2592, 0.002834616070429234), (3967, 0.002830505712461511), (3026, 0.0028289114165642643), (3101, 0.0028288203722547354), (4042, 0.0028280055175432983), (967, 0.002826912932723389), (2176, 0.0028265623436699388), (3961, 0.0028261416226425524), (2428, 0.002825708772234914), (2890, 0.0028253730629173254), (4619, 0.0028250659988847274), (3097, 0.0028233798122113147), (254, 0.002822174018232732), (1754, 0.002820600353419186), (3417, 0.002820070748303407), (587, 0.0028159693831478314), (3116, 0.002813659434171914), (1454, 0.0028123531848806187), (476, 0.0028106556946075538), (450, 0.0028095847762668233), (4602, 0.0028092651656604238), (2410, 0.0028089231631580015), (1479, 0.002808302270985679), (2464, 0.002808163023437234), (4308, 0.0028079289756698274), (4046, 0.0028069782276656597), (2390, 0.0028069304700890983), (3183, 0.002803845991336481), (4048, 0.002803055805327031), (4601, 0.0028025592084532838), (2624, 0.002801718196441674), (253, 0.002799428096578995), (3714, 0.002798689277314497), (4130, 0.0027985883599521266), (2229, 0.002798176264041938), (318, 0.002798175705133589), (4140, 0.0027976232396646544), (3497, 0.002797593506438132), (896, 0.0027971372516088465), (1866, 0.0027958468136630374), (4101, 0.0027946321398386927), (673, 0.002794153531173838), (3813, 0.0027937477111358963), (1243, 0.002792776632764016), (4133, 0.00279191855752727), (1905, 0.002791513823921099), (4116, 0.0027915047428755642), (2293, 0.0027909771522437853), (1805, 0.0027896899595332607), (4669, 0.0027887054412009072), (350, 0.0027874930795366596), (499, 0.0027864863666485088), (2097, 0.0027863116745656287), (481, 0.0027845410404752835), (2748, 0.0027843071128436127), (3258, 0.002784248974452991), (887, 0.002784095610167425), (2214, 0.0027839518504440613), (4087, 0.0027834292563990335), (2882, 0.002782376378018551), (2507, 0.002781446404369674), (3915, 0.002781118455885159), (8, 0.0027807222217330328), (4528, 0.0027806830655716453), (2595, 0.0027771724184078926), (3889, 0.002776880837841638), (3642, 0.002776557511091327), (4722, 0.0027758312561586497), (1325, 0.002775256465398314), (2888, 0.002773601771865783), (3771, 0.002773319699868546), (2705, 0.002772438080105227), (3694, 0.002771027897618184), (4545, 0.002770839277123924), (1959, 0.002769720281632457), (3269, 0.0027696972166962896), (1874, 0.002767141184087429), (4734, 0.002767089020165219), (3704, 0.002766990740807022), (3449, 0.0027668433304673026), (2477, 0.0027664024579488154), (3893, 0.002766084595993239), (3086, 0.002766002502886264), (3757, 0.002762023290293913), (728, 0.0027616455732900076), (2190, 0.0027599592226107083), (4579, 0.002759877599221191), (2776, 0.00275769586050044), (1518, 0.0027576403868154508), (3692, 0.0027568833245809584), (1848, 0.0027563323612514383), (4132, 0.002756069874174229), (430, 0.0027559148439640535), (4657, 0.0027538026338555822), (2475, 0.0027535696744670855), (3112, 0.002753311787675919), (1995, 0.0027532385076973506), (4540, 0.002751234425627047), (4245, 0.002751008367612099), (791, 0.0027506523989611347), (3184, 0.002750136412906113), (2162, 0.002749644465166105), (2661, 0.002748681393145207), (991, 0.0027484871114473335), (3496, 0.0027484303343535956), (395, 0.002747135150462462), (1637, 0.002746527831757606), (2723, 0.0027460574786596845), (485, 0.0027439400510524095), (3781, 0.0027434368675527975), (4495, 0.002742560470751289), (2786, 0.0027419877764746498), (4574, 0.002741560549179207), (872, 0.00274114100811373), (4111, 0.002741043175700994), (1683, 0.0027399460818540557), (1409, 0.002739259358087944), (21, 0.002738140460173712), (3873, 0.0027378755742765437), (4680, 0.002737651110234254), (227, 0.0027364224118099694), (4005, 0.0027359504873000515), (2949, 0.0027358147093150915), (3007, 0.0027353862177147805), (2391, 0.002734729728603431), (2104, 0.002734512088533572), (1119, 0.0027337385028777857), (2393, 0.0027324847195754178), (4231, 0.0027313487206801442), (1324, 0.002731277687756555), (3601, 0.0027307109996409463), (2151, 0.0027299511977530388), (2664, 0.0027297317246788152), (3235, 0.0027295683444889386), (4357, 0.0027293692724941437), (2970, 0.002729194636104797), (2522, 0.002728889106823122), (4355, 0.002727773723701491), (4169, 0.0027274579406778078), (3987, 0.0027270916201089066), (2105, 0.0027265326455506306), (3434, 0.0027240090739952577), (1339, 0.00272158187102106), (622, 0.0027207275570712494), (623, 0.0027194327514542703), (493, 0.0027185662272316623), (612, 0.0027185289895912327), (206, 0.0027161130444467146), (3084, 0.002715671492900745), (4489, 0.002715628061301078), (3314, 0.002715580292381248), (68, 0.002715520386984562), (4471, 0.0027152185362924034), (4054, 0.002715005536795357), (456, 0.002712793052653613), (1234, 0.0027113745961525903), (1853, 0.0027102333746687793), (2953, 0.0027102104168147496), (4575, 0.0027091653557126897), (1484, 0.002708474562362974), (2288, 0.0027083184303049153), (2196, 0.002707698496701654), (2849, 0.0027069175176701065), (4318, 0.002705628874298297), (4123, 0.0027035368318043436), (1822, 0.002702897011968921), (3037, 0.0027027294973697128), (3406, 0.002702213687945265), (4, 0.0027016044506604875), (1225, 0.002701159760900805), (4420, 0.002699902480813578), (4566, 0.002699169360138238), (1400, 0.002699029411319358), (1916, 0.0026982209107934622), (2394, 0.002697985817591277), (3388, 0.002697747561763377), (783, 0.00269725434412365), (2385, 0.0026968287433294306), (4474, 0.002695979151876247), (1007, 0.002695548417739921), (3511, 0.0026952549703737616), (3882, 0.0026947987454010052), (3187, 0.002694467687901435), (178, 0.002693526246288197), (3984, 0.0026927879742819944), (830, 0.0026915604745438343), (1902, 0.0026913299866720168), (2419, 0.002690045894003364), (262, 0.002689862382748577), (3372, 0.0026891101287939818), (4757, 0.002688878148353887), (4178, 0.0026885540891202716), (3242, 0.0026882350076027502), (1188, 0.0026874845772480553), (1821, 0.0026868839500079423), (716, 0.0026850135915028627), (2088, 0.0026826315908322867), (255, 0.0026812472542027937), (1439, 0.0026809239518289906), (4430, 0.0026808020913007043), (4497, 0.0026807006037088826), (845, 0.0026805856877703087), (502, 0.002680537468427796), (3437, 0.0026804852612467883), (1736, 0.0026804623369272827), (3493, 0.0026799468121619105), (4354, 0.0026785350455214726), (270, 0.002677849223071283), (2926, 0.002677788017263195), (3770, 0.0026775405388952027), (580, 0.002675598161224576), (204, 0.002675001223766859), (3862, 0.00267415305829124), (4083, 0.0026731707572367936), (1229, 0.002673127820140611), (3514, 0.002673054170198884), (1224, 0.002672805012206786), (3351, 0.0026723268127106046), (3382, 0.002671770537286238), (879, 0.0026713079586003718), (2561, 0.002671290132034298), (4419, 0.002669303313802077), (2370, 0.0026675807120123537), (1513, 0.0026672589572756815), (543, 0.0026667738736334597), (1983, 0.002666695584784189), (4089, 0.00266602904154149), (3224, 0.0026657752602581236), (34, 0.002664355892576279), (1083, 0.002664072784153132), (884, 0.0026639399197555423), (4361, 0.002663913659056946), (2405, 0.002663058059242305), (1727, 0.0026621986367746917), (3353, 0.0026619644523563453), (2650, 0.002660268522744059), (2319, 0.002659938497552117), (447, 0.0026587274383224006), (4625, 0.002658580066603876), (3666, 0.0026585778918442366), (4756, 0.0026576820909533796), (3349, 0.0026564492356107488), (987, 0.0026557660626527536), (4079, 0.0026543060131939767), (2148, 0.002653922079418411), (774, 0.002653032391322568), (637, 0.0026514892229125018), (3517, 0.002651140540765901), (584, 0.002649384956129691), (1765, 0.0026482112855005166), (4340, 0.0026481893420072177), (3527, 0.0026467505513140498), (4334, 0.002646390843646472), (980, 0.00264632229672697), (4422, 0.002645993560242511), (2919, 0.0026451100650743075), (3198, 0.002645075939862031), (606, 0.002644011665522117), (806, 0.00264235411645735), (4249, 0.0026418811229835934), (3623, 0.0026413506692814365), (120, 0.002640692561300722), (2863, 0.0026400515086690015), (4470, 0.002639828036041675), (3636, 0.0026386788315958198), (377, 0.0026381701106447794), (1516, 0.002636941123807582), (3153, 0.002636624947095362), (2048, 0.002635387024176079), (3290, 0.0026350088807857654), (4643, 0.0026337907270561314), (743, 0.002631127225571283), (176, 0.0026309991495876237), (2321, 0.002630650781822197), (2466, 0.002629575305795371), (2230, 0.0026295752708470283), (3016, 0.00262856769719002), (1294, 0.002628512332323506), (2894, 0.0026275628687052405), (509, 0.0026258227614897236), (4098, 0.0026246055089863226), (3289, 0.0026240483464058033), (3225, 0.0026238452953378233), (3809, 0.0026233889944768593), (3445, 0.002622259811583738), (1355, 0.0026220621430991134), (4533, 0.0026205109359455814), (4273, 0.0026201758568492905), (3542, 0.0026197529213983074), (3571, 0.002618240668881435), (115, 0.0026181460496045397), (1174, 0.0026175796424741386), (1931, 0.0026160865926008405), (3699, 0.0026152625288068583), (933, 0.002614958014723703), (1176, 0.0026136568207919676), (1337, 0.0026129852553137263), (1740, 0.0026119492306383887), (3113, 0.002611558058955211), (238, 0.002611508657303217), (3606, 0.0026106707613165335), (4197, 0.0026102680813352725), (3653, 0.00261006726544241), (2073, 0.0026095552642373867), (2489, 0.0026093794192717057), (750, 0.0026085538815107515), (3182, 0.002608310515830355), (2292, 0.002607830462629223), (3707, 0.0026059866607464344), (2397, 0.002604087151504843), (3792, 0.0026038820486655742), (2746, 0.002603413192968701), (3501, 0.00260270760523003), (2295, 0.002601188865616886), (1440, 0.0026000077505804364), (4049, 0.0025986104307606232), (544, 0.002598351809581755), (198, 0.002597910134873095), (1204, 0.002597859920603519), (1533, 0.002597305641081915), (4004, 0.002596678600005454), (2091, 0.002596118089842215), (579, 0.0025955589315769063), (2887, 0.002594434779895376), (1476, 0.0025941103847846327), (4014, 0.0025906925130522417), (1872, 0.0025897215961556623), (2652, 0.0025885547519431296), (4677, 0.002587955630476896), (1410, 0.002587843646414749), (4391, 0.0025876155067195506), (3335, 0.002587049595965468), (4501, 0.0025868806253319557), (1335, 0.0025859749601584558), (636, 0.0025858809532436286), (1722, 0.0025856323640711327), (2122, 0.0025848689740780306), (2745, 0.0025844476578703317), (1175, 0.002584035856180824), (1706, 0.002583800176972773), (4266, 0.002583701418081134), (2554, 0.0025830321617059475), (3210, 0.0025827273482630893), (3670, 0.002582369720269629), (848, 0.002582249625214422), (3227, 0.002581698907360264), (628, 0.002581533293991695), (1232, 0.0025802315030220174), (3155, 0.002577995144287458), (3436, 0.0025769423630211366), (2783, 0.002576793513348661), (4517, 0.0025759677890086893), (2533, 0.002575263410864589), (4081, 0.0025746516520311863), (2284, 0.002574294877504133), (4435, 0.002572695135883959), (378, 0.0025714459140176366), (172, 0.002568598814420064), (3341, 0.002567650119773404), (2340, 0.0025668229133265414), (2695, 0.002563638436232799), (2354, 0.0025630326609309075), (2558, 0.0025608170583902527), (3478, 0.002560485851837411), (2495, 0.0025602535343186225), (226, 0.0025601288684756855), (1378, 0.00255830527350847), (4427, 0.002557606108677715), (479, 0.002557456470510373), (370, 0.002556332349561179), (1163, 0.002555967038954925), (66, 0.002555485343772474), (2212, 0.0025549291566691655), (2387, 0.002554911861290155), (4320, 0.0025539773521150297), (2943, 0.002551277464999715), (1112, 0.0025502419643337144), (4268, 0.002550138838617239), (3673, 0.0025501100863451515), (3216, 0.0025479902426039512), (2853, 0.002547651145908012), (3807, 0.0025470546277996625), (4056, 0.0025466440326677164), (1298, 0.002546294571291931), (4409, 0.0025453329202984793), (4060, 0.0025438815065983796), (2289, 0.002542749113783242), (2512, 0.0025421067299504873), (1102, 0.002541225172689789), (1811, 0.0025398891704048777), (4000, 0.0025397270708916162), (3441, 0.002539449623014524), (3727, 0.002538692903591425), (1891, 0.0025382634114535767), (1634, 0.0025377452959287443), (1252, 0.0025368289267530516), (1072, 0.002536035746769614), (490, 0.002535465827314849), (2060, 0.002534480264026468), (3565, 0.002534036316521744), (3888, 0.0025334626854144333), (1831, 0.002531674765670211), (247, 0.0025316745616549815), (466, 0.0025314077049438262), (2569, 0.002530060095053128), (3381, 0.0025299058191521648), (534, 0.0025288920681473858), (61, 0.002527914895772145), (1598, 0.002527564253824948), (1550, 0.002524803187338149), (1621, 0.0025241775578342444), (880, 0.0025237119732161293), (1313, 0.0025231141761592646), (4668, 0.002522932445190697), (3173, 0.0025215981593899534), (2173, 0.00252133990075144), (3195, 0.002519755410174695), (3906, 0.0025191944725711317), (3647, 0.002519182956873797), (2687, 0.0025191074483456167), (989, 0.0025184245613962225), (1100, 0.0025181039021549747), (4349, 0.0025177491220920415), (1110, 0.002516787526591153), (3499, 0.0025153836198113224), (1026, 0.0025125330287636255), (4020, 0.0025119470101896916), (3827, 0.002510490774316164), (1286, 0.0025101655573949214), (2216, 0.0025094077511366424), (1084, 0.0025089364720536542), (2111, 0.002508095690907249), (98, 0.0025072023905768274), (4362, 0.002507104149740139), (2945, 0.002506384714596664), (1527, 0.0025058700772690014), (26, 0.002505294855630177), (4530, 0.002504131540380971), (2802, 0.002503695613718244), (3220, 0.002502446956454449), (4036, 0.0025018193471919056), (4641, 0.00250128107450338), (3069, 0.002500436832112477), (4299, 0.0024995691505385986), (3719, 0.0024991717915364645), (4309, 0.002499104249310414), (4743, 0.0024983117418565445), (2909, 0.0024971919114173823), (1350, 0.002494130889902953), (1408, 0.0024937267236950474), (1284, 0.0024925027477032094), (2401, 0.00248844433368213), (755, 0.002488345802833575), (1967, 0.002487432510911461), (4693, 0.0024871773000690192), (959, 0.0024870042245798626), (3075, 0.00248675003137304), (1813, 0.0024858337017110922), (522, 0.002485457857498186), (3370, 0.002485377341622377), (4183, 0.0024834174660254217), (2461, 0.0024826029122533124), (676, 0.0024823255179305635), (4573, 0.0024821701986635597), (1245, 0.002481964192499344), (1044, 0.002480391222546193), (4673, 0.002479944396704218), (1261, 0.0024790551391671383), (1671, 0.002478979657847061), (1030, 0.002478521446941692), (4129, 0.002478365045873799), (1481, 0.002478193584854654), (3348, 0.0024779288802975687), (541, 0.002476629127908568), (4382, 0.002475893743544275), (2080, 0.00247388365203251), (167, 0.0024735741232269817), (3298, 0.0024733610006114804), (1247, 0.002473073743138873), (4139, 0.002472542798688496), (87, 0.002471753077971377), (2467, 0.0024703553732853575), (3660, 0.002469159685124286), (2716, 0.002466306255562843), (923, 0.0024657992023116135), (4461, 0.0024649439326845986), (3352, 0.0024623026414448677), (646, 0.002462291919075488), (3900, 0.002462136557360156), (3487, 0.0024618171549197947), (396, 0.0024605340931635462), (1248, 0.002460078135114746), (4729, 0.0024594763238816476), (1582, 0.0024581673243747578), (2117, 0.0024560464724403368), (3503, 0.0024552481203118986), (4670, 0.0024526907759248643), (1034, 0.0024520582468555946), (1478, 0.0024519063796358087), (2024, 0.0024519033059086925), (2752, 0.002448973819014944), (1027, 0.0024484136417238854), (2141, 0.0024473465537632284), (4567, 0.0024471540076712343), (3498, 0.002446432704988517), (4536, 0.0024462644650360024), (3315, 0.0024459801189074468), (4614, 0.0024457134332235182), (1854, 0.002444660220871197), (3214, 0.002444466193608678), (2779, 0.0024442763872396956), (3268, 0.002443806136266132), (2886, 0.002442840832922983), (1744, 0.0024426470351092515), (3978, 0.002442238926317199), (1929, 0.0024409631385884354), (2540, 0.002440335346123943), (3390, 0.0024395959040517186), (157, 0.002438581290069436), (4321, 0.002437689157420461), (3035, 0.002437556701135548), (4085, 0.0024369995458444122), (3691, 0.002436415401184464), (3170, 0.0024358856885163286), (3171, 0.002435637102706432), (984, 0.0024355434667482426), (4213, 0.0024347385944525654), (3036, 0.0024343559909234475), (2068, 0.0024330549652941177), (505, 0.0024324064080506165), (4206, 0.0024321601456659754), (1878, 0.002431153401065104), (3898, 0.0024298040081366656), (4345, 0.0024287289201985417), (2995, 0.0024266959949779264), (4246, 0.002424340004635985), (2679, 0.0024228999523617087), (203, 0.002422714439587103), (698, 0.0024225342821655076), (2651, 0.002422516441662821), (2598, 0.0024224934448185435), (434, 0.0024223429465358), (2133, 0.002421842418182153), (2997, 0.002420126779700047), (325, 0.0024195685122384066), (1759, 0.002419293567925408), (828, 0.002418750773456479), (1032, 0.002418390344269076), (3194, 0.002416760778410289), (116, 0.0024165910054664767), (126, 0.002415830328256745), (939, 0.0024150785128425195), (3734, 0.0024149782248410433), (1036, 0.002414912505077437), (276, 0.0024142477749847266), (3811, 0.0024137975937961456), (2972, 0.0024135031266161477), (1663, 0.002412158431766784), (1177, 0.002411979464836763), (2348, 0.002411762702061073), (2166, 0.002411415576944647), (3615, 0.0024111785219188895), (3433, 0.0024109292764583237), (31, 0.0024080573661005946), (3300, 0.0024062040085351772), (236, 0.002405098993372891), (4011, 0.0024046786644327145), (4254, 0.0024041711261098427), (1203, 0.0024040746122563975), (1693, 0.00240407258389534), (154, 0.0024034181149322075), (1372, 0.0024018858541600867), (886, 0.0024004659102335253), (903, 0.0024001119964887655), (3941, 0.0023994354823526545), (140, 0.0023984755878666674), (3243, 0.0023981346662973802), (1665, 0.0023973997354479783), (975, 0.0023970017047394653), (2496, 0.002394496581828401), (2099, 0.002393226255118804), (2149, 0.0023923766437461804), (471, 0.002391118571001952), (655, 0.0023910485765963464), (3452, 0.002387595213092945), (229, 0.0023871183218179687), (944, 0.002385547962016505), (1819, 0.002385444340933929), (659, 0.0023850654699937956), (3147, 0.0023836702865353975), (213, 0.0023830953795077785), (1107, 0.0023822902992296975), (1433, 0.0023821183025446134), (2201, 0.0023818765238590557), (4356, 0.002381268910033472), (111, 0.002378543807481187), (2528, 0.0023777979130920612), (868, 0.0023773059461215463), (1183, 0.0023766355694581492), (3500, 0.0023755099943308707), (1641, 0.002374385766729564), (589, 0.002372978856195787), (2129, 0.0023725566061577235), (399, 0.0023725527076038865), (3120, 0.0023705548882633778), (3627, 0.002369095659921257), (1760, 0.0023673289631920683), (1448, 0.002365901632632355), (4616, 0.0023652550071504865), (136, 0.0023644923737585516), (2735, 0.002364089219762317), (2399, 0.00236352284684072), (3369, 0.0023617929680423773), (558, 0.0023610644431208837), (355, 0.002361006087107676), (638, 0.002359895666612214), (1667, 0.0023597572329552676), (1543, 0.0023590073828835905), (4479, 0.0023582357306451813), (1814, 0.0023575687192360314), (604, 0.00235485031873647), (1079, 0.0023546008059856147), (3460, 0.0023544948333870186), (2453, 0.002353305568347854), (121, 0.002353297239324352), (3455, 0.0023510198562363875), (3876, 0.002350352817609085), (457, 0.002350034318142848), (359, 0.002349767095988561), (1462, 0.002348525340216117), (4326, 0.0023475021598560195), (2362, 0.002347103106465426), (3050, 0.0023458801148681673), (4277, 0.0023452850528993107), (1672, 0.0023439663167590516), (910, 0.0023438566482646005), (624, 0.002342003911433504), (863, 0.002340491563217138), (1065, 0.002340266991818671), (4620, 0.0023394732382391297), (4502, 0.002338558080256033), (1434, 0.0023377119347981665), (4359, 0.002337641605722948), (218, 0.0023375997669467133), (4638, 0.0023356736692514424), (759, 0.0023312410667020896), (2728, 0.0023306175584713474), (3953, 0.002329675595526106), (3278, 0.0023282033936452232), (3474, 0.0023266243607835287), (1528, 0.002325638026003352), (1680, 0.0023254187481591636), (1892, 0.002325032923795902), (1237, 0.0023242977302384248), (3418, 0.0023236690650162736), (4053, 0.002323360573574658), (3267, 0.0023233144910128956), (1865, 0.002322848899399629), (608, 0.002321003174575599), (2402, 0.0023188274443639253), (1869, 0.00231825808931661), (3614, 0.002317589951270304), (3705, 0.002316937150710658), (473, 0.00231648703578849), (1827, 0.00231539532110574), (1826, 0.002315344979628451), (4154, 0.0023136825503801955), (1387, 0.0023114538682971015), (1161, 0.0023113239954528574), (2323, 0.002310637669976131), (563, 0.0023088385360252477), (4350, 0.0023078714391335975), (3318, 0.0023076750425555627), (581, 0.0023074023693457854), (4712, 0.002306578818152709), (2741, 0.0023054270703553605), (3974, 0.0023045821572239686), (2457, 0.0023032577194482583), (4475, 0.0023025077150747864), (1625, 0.002302415314769311), (1739, 0.002302253696471042), (2248, 0.002301925805107405), (3863, 0.0023008433693131516), (4304, 0.0022980512766457056), (2591, 0.0022971441171624023), (1219, 0.002297017498655453), (158, 0.0022967636596808306), (1980, 0.002296568773506531), (2191, 0.002296294199600891), (4080, 0.0022957975922709693), (1004, 0.002295004992134947), (2976, 0.002293691285561824), (3167, 0.0022930442071755464), (917, 0.0022918664888805845), (1921, 0.0022883024553970732), (2163, 0.002284677845204604), (1414, 0.002284263705449641), (268, 0.002283696432917451), (1318, 0.002283540393643817), (2213, 0.0022833366290482063), (672, 0.002283182607195995), (3956, 0.0022821499445200852), (1977, 0.0022797275405648807), (2264, 0.0022747571394800253), (703, 0.0022744144416866185), (1423, 0.002272403348799929), (4608, 0.002272180802956185), (132, 0.002270046018132312), (4661, 0.002269647476884124), (4104, 0.0022695807190374786), (1290, 0.002268406713627647), (4343, 0.002264786574878057), (3755, 0.002262936031925772), (200, 0.0022624559956520803), (712, 0.0022621670540206498), (4220, 0.0022587937057975665), (2617, 0.00225746437323312), (2753, 0.0022556870317694717), (1776, 0.0022549677104912362), (605, 0.0022530123563729515), (1616, 0.0022501258284402265), (4066, 0.0022485909193465017), (3910, 0.0022479373861475473), (480, 0.0022468157610002373), (647, 0.002246567714650911), (851, 0.00224307321204906), (4432, 0.002241119691427638), (4296, 0.0022302869369383725), (1943, 0.002228655536159394), (4232, 0.0022259797340015456), (2721, 0.002224838759024769), (2747, 0.002218632034073123), (103, 0.002217743003516846), (1397, 0.0022142128372162374), (2270, 0.0022123003520071725), (642, 0.0022116498813710074), (4386, 0.0022083033794193345), (1370, 0.0022077649193769666), (1450, 0.0022065183250429424), (278, 0.0022052477605485356), (861, 0.002204893728800192), (364, 0.0022027941804170443), (2527, 0.0022022078433284356), (3629, 0.0021989750466567728), (286, 0.002197196253524819), (4627, 0.002197058777181935), (3569, 0.0021952890237585112), (4411, 0.002193567297012431), (2382, 0.002193365027256431), (4476, 0.002191007182905279), (1088, 0.002188799808053979), (1627, 0.002188718382254997), (2146, 0.002188171227476231), (190, 0.002185014895694613), (1050, 0.0021813363192966953), (432, 0.0021782445902987333), (4095, 0.0021729695198983833), (3669, 0.0021698877172701384), (1356, 0.002167159884559551), (617, 0.0021617882876589145), (3657, 0.002160750578559001), (196, 0.00215065117501702), (1801, 0.00215031846519388), (3347, 0.0021490463169398007), (3091, 0.002143158584359707), (2132, 0.0021391071541275097), (2876, 0.0021384722608363107), (1042, 0.00213847163897836), (2359, 0.002137117841819031), (2355, 0.0021346605303420615), (3331, 0.0021343922590257368), (16, 0.0021341281194739354), (3252, 0.0021335333833701767), (1078, 0.0021323236108477775), (796, 0.002125765435790277), (2602, 0.002124556975699614), (3056, 0.002121165056307003), (901, 0.0021207830220064546), (4200, 0.0021169764173926586), (149, 0.0021144090702574425), (2034, 0.002109510463480975), (3548, 0.002105605937399784), (1427, 0.002098924689584629), (1415, 0.002097822695575366), (2697, 0.002096161456904872), (3756, 0.0020944231399245518), (3254, 0.0020935627649078027), (645, 0.0020912507309362705), (1098, 0.002087920985156998), (816, 0.002084001640941795), (1624, 0.002083584400111357), (942, 0.00208158442387756), (4311, 0.002080251703026519), (4744, 0.002075663843923292), (4626, 0.002070126949752866), (1303, 0.002064407854624639), (953, 0.00206158519130253), (3431, 0.002056141201069849), (2925, 0.002055799224966403), (194, 0.0020543351055374247), (1871, 0.0020379262013474533), (3471, 0.0020358470209945975), (1677, 0.002014428569995773), (4598, 0.002008771250737551), (1040, 0.0019998447211118813), (2760, 0.0019652707258318493), (224, 0.0019590203922562207), (453, 0.001957915080440324), (351, 0.0019534881466125005), (1861, 0.001940820826604361), (3645, 0.0019299451308392537), (3285, 0.0019249042557355337), (4445, 0.0019221767963013498), (4301, 0.0018996756840764402), (2902, 0.001883163661769451), (455, 0.0018169216717279198), (542, 0.0017955267840275568), (824, 0.0017830344380731912), (3421, 0.0017714264083383497), (740, 0.0017176743443934107), (3392, 0.001701311355256357), (24, 0.0016723183366277776), (3608, 0.00166776763772296), (1, 0.0), (6, 0.0), (17, 0.0), (27, 0.0), (30, 0.0), (42, 0.0), (46, 0.0), (47, 0.0), (50, 0.0), (53, 0.0), (54, 0.0), (55, 0.0), (69, 0.0), (70, 0.0), (73, 0.0), (76, 0.0), (77, 0.0), (81, 0.0), (89, 0.0), (99, 0.0), (100, 0.0), (117, 0.0), (118, 0.0), (128, 0.0), (133, 0.0), (139, 0.0), (141, 0.0), (143, 0.0), (145, 0.0), (146, 0.0), (151, 0.0), (160, 0.0), (163, 0.0), (180, 0.0), (181, 0.0), (187, 0.0), (188, 0.0), (207, 0.0), (241, 0.0), (244, 0.0), (245, 0.0), (257, 0.0), (258, 0.0), (265, 0.0), (289, 0.0), (290, 0.0), (295, 0.0), (303, 0.0), (304, 0.0), (311, 0.0), (312, 0.0), (314, 0.0), (315, 0.0), (316, 0.0), (320, 0.0), (323, 0.0), (331, 0.0), (333, 0.0), (339, 0.0), (360, 0.0), (366, 0.0), (367, 0.0), (375, 0.0), (376, 0.0), (379, 0.0), (382, 0.0), (384, 0.0), (385, 0.0), (389, 0.0), (390, 0.0), (391, 0.0), (393, 0.0), (394, 0.0), (397, 0.0), (401, 0.0), (404, 0.0), (405, 0.0), (415, 0.0), (422, 0.0), (423, 0.0), (435, 0.0), (438, 0.0), (451, 0.0), (459, 0.0), (461, 0.0), (462, 0.0), (467, 0.0), (474, 0.0), (494, 0.0), (501, 0.0), (503, 0.0), (506, 0.0), (513, 0.0), (514, 0.0), (516, 0.0), (517, 0.0), (520, 0.0), (531, 0.0), (532, 0.0), (535, 0.0), (536, 0.0), (539, 0.0), (550, 0.0), (552, 0.0), (554, 0.0), (556, 0.0), (557, 0.0), (559, 0.0), (565, 0.0), (567, 0.0), (570, 0.0), (572, 0.0), (586, 0.0), (591, 0.0), (592, 0.0), (595, 0.0), (601, 0.0), (602, 0.0), (619, 0.0), (621, 0.0), (625, 0.0), (630, 0.0), (632, 0.0), (633, 0.0), (634, 0.0), (649, 0.0), (650, 0.0), (658, 0.0), (662, 0.0), (663, 0.0), (667, 0.0), (674, 0.0), (678, 0.0), (679, 0.0), (686, 0.0), (695, 0.0), (708, 0.0), (709, 0.0), (711, 0.0), (713, 0.0), (714, 0.0), (718, 0.0), (720, 0.0), (724, 0.0), (730, 0.0), (741, 0.0), (745, 0.0), (746, 0.0), (751, 0.0), (754, 0.0), (760, 0.0), (764, 0.0), (770, 0.0), (771, 0.0), (772, 0.0), (793, 0.0), (795, 0.0), (797, 0.0), (801, 0.0), (802, 0.0), (811, 0.0), (822, 0.0), (825, 0.0), (827, 0.0), (836, 0.0), (837, 0.0), (839, 0.0), (841, 0.0), (842, 0.0), (846, 0.0), (849, 0.0), (855, 0.0), (859, 0.0), (869, 0.0), (873, 0.0), (875, 0.0), (877, 0.0), (892, 0.0), (893, 0.0), (902, 0.0), (905, 0.0), (909, 0.0), (912, 0.0), (914, 0.0), (920, 0.0), (927, 0.0), (932, 0.0), (943, 0.0), (946, 0.0), (950, 0.0), (954, 0.0), (955, 0.0), (956, 0.0), (960, 0.0), (964, 0.0), (965, 0.0), (976, 0.0), (977, 0.0), (983, 0.0), (990, 0.0), (992, 0.0), (996, 0.0), (997, 0.0), (1003, 0.0), (1013, 0.0), (1016, 0.0), (1024, 0.0), (1028, 0.0), (1038, 0.0), (1045, 0.0), (1051, 0.0), (1055, 0.0), (1057, 0.0), (1058, 0.0), (1061, 0.0), (1062, 0.0), (1063, 0.0), (1070, 0.0), (1073, 0.0), (1076, 0.0), (1081, 0.0), (1082, 0.0), (1085, 0.0), (1086, 0.0), (1089, 0.0), (1091, 0.0), (1092, 0.0), (1093, 0.0), (1097, 0.0), (1101, 0.0), (1103, 0.0), (1108, 0.0), (1126, 0.0), (1127, 0.0), (1133, 0.0), (1134, 0.0), (1135, 0.0), (1137, 0.0), (1139, 0.0), (1142, 0.0), (1143, 0.0), (1147, 0.0), (1149, 0.0), (1151, 0.0), (1152, 0.0), (1153, 0.0), (1154, 0.0), (1158, 0.0), (1159, 0.0), (1164, 0.0), (1165, 0.0), (1166, 0.0), (1180, 0.0), (1181, 0.0), (1189, 0.0), (1190, 0.0), (1196, 0.0), (1198, 0.0), (1200, 0.0), (1201, 0.0), (1205, 0.0), (1207, 0.0), (1212, 0.0), (1213, 0.0), (1227, 0.0), (1228, 0.0), (1230, 0.0), (1231, 0.0), (1233, 0.0), (1235, 0.0), (1240, 0.0), (1244, 0.0), (1253, 0.0), (1256, 0.0), (1258, 0.0), (1260, 0.0), (1265, 0.0), (1268, 0.0), (1269, 0.0), (1271, 0.0), (1272, 0.0), (1276, 0.0), (1280, 0.0), (1281, 0.0), (1283, 0.0), (1287, 0.0), (1289, 0.0), (1292, 0.0), (1295, 0.0), (1296, 0.0), (1299, 0.0), (1300, 0.0), (1311, 0.0), (1315, 0.0), (1320, 0.0), (1326, 0.0), (1330, 0.0), (1331, 0.0), (1332, 0.0), (1333, 0.0), (1342, 0.0), (1348, 0.0), (1353, 0.0), (1358, 0.0), (1361, 0.0), (1362, 0.0), (1363, 0.0), (1371, 0.0), (1386, 0.0), (1388, 0.0), (1391, 0.0), (1393, 0.0), (1399, 0.0), (1405, 0.0), (1406, 0.0), (1419, 0.0), (1428, 0.0), (1432, 0.0), (1437, 0.0), (1441, 0.0), (1445, 0.0), (1449, 0.0), (1452, 0.0), (1455, 0.0), (1457, 0.0), (1458, 0.0), (1460, 0.0), (1466, 0.0), (1469, 0.0), (1470, 0.0), (1473, 0.0), (1480, 0.0), (1485, 0.0), (1490, 0.0), (1504, 0.0), (1507, 0.0), (1508, 0.0), (1512, 0.0), (1523, 0.0), (1529, 0.0), (1531, 0.0), (1532, 0.0), (1534, 0.0), (1536, 0.0), (1540, 0.0), (1544, 0.0), (1545, 0.0), (1549, 0.0), (1556, 0.0), (1557, 0.0), (1560, 0.0), (1561, 0.0), (1562, 0.0), (1563, 0.0), (1566, 0.0), (1569, 0.0), (1573, 0.0), (1575, 0.0), (1576, 0.0), (1581, 0.0), (1585, 0.0), (1588, 0.0), (1589, 0.0), (1590, 0.0), (1591, 0.0), (1592, 0.0), (1599, 0.0), (1600, 0.0), (1602, 0.0), (1603, 0.0), (1604, 0.0), (1607, 0.0), (1609, 0.0), (1611, 0.0), (1614, 0.0), (1618, 0.0), (1622, 0.0), (1623, 0.0), (1631, 0.0), (1633, 0.0), (1635, 0.0), (1638, 0.0), (1639, 0.0), (1646, 0.0), (1649, 0.0), (1651, 0.0), (1652, 0.0), (1657, 0.0), (1659, 0.0), (1661, 0.0), (1673, 0.0), (1676, 0.0), (1686, 0.0), (1694, 0.0), (1697, 0.0), (1699, 0.0), (1705, 0.0), (1720, 0.0), (1724, 0.0), (1729, 0.0), (1731, 0.0), (1732, 0.0), (1734, 0.0), (1735, 0.0), (1745, 0.0), (1749, 0.0), (1750, 0.0), (1752, 0.0), (1753, 0.0), (1757, 0.0), (1766, 0.0), (1767, 0.0), (1769, 0.0), (1771, 0.0), (1783, 0.0), (1785, 0.0), (1789, 0.0), (1791, 0.0), (1797, 0.0), (1800, 0.0), (1803, 0.0), (1806, 0.0), (1810, 0.0), (1815, 0.0), (1820, 0.0), (1829, 0.0), (1832, 0.0), (1834, 0.0), (1835, 0.0), (1836, 0.0), (1837, 0.0), (1838, 0.0), (1839, 0.0), (1840, 0.0), (1842, 0.0), (1846, 0.0), (1855, 0.0), (1868, 0.0), (1879, 0.0), (1880, 0.0), (1889, 0.0), (1894, 0.0), (1898, 0.0), (1899, 0.0), (1900, 0.0), (1901, 0.0), (1904, 0.0), (1906, 0.0), (1912, 0.0), (1917, 0.0), (1926, 0.0), (1930, 0.0), (1932, 0.0), (1933, 0.0), (1937, 0.0), (1938, 0.0), (1940, 0.0), (1944, 0.0), (1949, 0.0), (1953, 0.0), (1955, 0.0), (1956, 0.0), (1958, 0.0), (1962, 0.0), (1963, 0.0), (1965, 0.0), (1966, 0.0), (1970, 0.0), (1972, 0.0), (1974, 0.0), (1975, 0.0), (1976, 0.0), (1978, 0.0), (1979, 0.0), (1991, 0.0), (1992, 0.0), (1993, 0.0), (1996, 0.0), (1998, 0.0), (1999, 0.0), (2001, 0.0), (2002, 0.0), (2006, 0.0), (2007, 0.0), (2009, 0.0), (2018, 0.0), (2019, 0.0), (2021, 0.0), (2025, 0.0), (2026, 0.0), (2030, 0.0), (2033, 0.0), (2038, 0.0), (2041, 0.0), (2042, 0.0), (2044, 0.0), (2050, 0.0), (2054, 0.0), (2057, 0.0), (2059, 0.0), (2063, 0.0), (2066, 0.0), (2077, 0.0), (2081, 0.0), (2082, 0.0), (2084, 0.0), (2085, 0.0), (2090, 0.0), (2092, 0.0), (2093, 0.0), (2100, 0.0), (2106, 0.0), (2115, 0.0), (2130, 0.0), (2135, 0.0), (2136, 0.0), (2140, 0.0), (2150, 0.0), (2153, 0.0), (2158, 0.0), (2164, 0.0), (2170, 0.0), (2171, 0.0), (2172, 0.0), (2179, 0.0), (2181, 0.0), (2182, 0.0), (2183, 0.0), (2184, 0.0), (2186, 0.0), (2194, 0.0), (2200, 0.0), (2206, 0.0), (2207, 0.0), (2208, 0.0), (2217, 0.0), (2219, 0.0), (2220, 0.0), (2228, 0.0), (2231, 0.0), (2232, 0.0), (2234, 0.0), (2238, 0.0), (2243, 0.0), (2247, 0.0), (2249, 0.0), (2253, 0.0), (2258, 0.0), (2261, 0.0), (2267, 0.0), (2271, 0.0), (2273, 0.0), (2275, 0.0), (2280, 0.0), (2281, 0.0), (2282, 0.0), (2290, 0.0), (2297, 0.0), (2298, 0.0), (2304, 0.0), (2305, 0.0), (2307, 0.0), (2312, 0.0), (2314, 0.0), (2316, 0.0), (2328, 0.0), (2331, 0.0), (2333, 0.0), (2336, 0.0), (2337, 0.0), (2341, 0.0), (2342, 0.0), (2343, 0.0), (2352, 0.0), (2353, 0.0), (2358, 0.0), (2364, 0.0), (2365, 0.0), (2368, 0.0), (2369, 0.0), (2371, 0.0), (2372, 0.0), (2373, 0.0), (2381, 0.0), (2383, 0.0), (2384, 0.0), (2408, 0.0), (2413, 0.0), (2420, 0.0), (2424, 0.0), (2433, 0.0), (2435, 0.0), (2442, 0.0), (2445, 0.0), (2449, 0.0), (2450, 0.0), (2451, 0.0), (2452, 0.0), (2455, 0.0), (2456, 0.0), (2460, 0.0), (2462, 0.0), (2465, 0.0), (2468, 0.0), (2471, 0.0), (2472, 0.0), (2476, 0.0), (2479, 0.0), (2483, 0.0), (2493, 0.0), (2499, 0.0), (2500, 0.0), (2506, 0.0), (2508, 0.0), (2515, 0.0), (2516, 0.0), (2519, 0.0), (2521, 0.0), (2523, 0.0), (2536, 0.0), (2539, 0.0), (2541, 0.0), (2542, 0.0), (2543, 0.0), (2544, 0.0), (2548, 0.0), (2549, 0.0), (2551, 0.0), (2564, 0.0), (2566, 0.0), (2567, 0.0), (2573, 0.0), (2575, 0.0), (2576, 0.0), (2577, 0.0), (2578, 0.0), (2583, 0.0), (2588, 0.0), (2590, 0.0), (2594, 0.0), (2596, 0.0), (2597, 0.0), (2599, 0.0), (2600, 0.0), (2604, 0.0), (2605, 0.0), (2618, 0.0), (2620, 0.0), (2626, 0.0), (2630, 0.0), (2639, 0.0), (2641, 0.0), (2644, 0.0), (2646, 0.0), (2648, 0.0), (2657, 0.0), (2658, 0.0), (2662, 0.0), (2663, 0.0), (2667, 0.0), (2669, 0.0), (2671, 0.0), (2676, 0.0), (2677, 0.0), (2681, 0.0), (2683, 0.0), (2684, 0.0), (2685, 0.0), (2686, 0.0), (2690, 0.0), (2693, 0.0), (2699, 0.0), (2700, 0.0), (2701, 0.0), (2703, 0.0), (2704, 0.0), (2709, 0.0), (2710, 0.0), (2711, 0.0), (2715, 0.0), (2717, 0.0), (2718, 0.0), (2727, 0.0), (2733, 0.0), (2756, 0.0), (2762, 0.0), (2773, 0.0), (2780, 0.0), (2781, 0.0), (2787, 0.0), (2794, 0.0), (2799, 0.0), (2804, 0.0), (2806, 0.0), (2810, 0.0), (2815, 0.0), (2819, 0.0), (2822, 0.0), (2823, 0.0), (2824, 0.0), (2825, 0.0), (2827, 0.0), (2828, 0.0), (2833, 0.0), (2836, 0.0), (2837, 0.0), (2839, 0.0), (2847, 0.0), (2850, 0.0), (2860, 0.0), (2864, 0.0), (2865, 0.0), (2866, 0.0), (2869, 0.0), (2875, 0.0), (2877, 0.0), (2885, 0.0), (2891, 0.0), (2896, 0.0), (2898, 0.0), (2905, 0.0), (2913, 0.0), (2921, 0.0), (2922, 0.0), (2927, 0.0), (2928, 0.0), (2941, 0.0), (2947, 0.0), (2948, 0.0), (2952, 0.0), (2955, 0.0), (2956, 0.0), (2958, 0.0), (2959, 0.0), (2960, 0.0), (2968, 0.0), (2971, 0.0), (2973, 0.0), (2978, 0.0), (2979, 0.0), (2982, 0.0), (2983, 0.0), (2984, 0.0), (2990, 0.0), (2991, 0.0), (2994, 0.0), (3002, 0.0), (3005, 0.0), (3006, 0.0), (3009, 0.0), (3021, 0.0), (3029, 0.0), (3034, 0.0), (3038, 0.0), (3041, 0.0), (3045, 0.0), (3047, 0.0), (3049, 0.0), (3054, 0.0), (3058, 0.0), (3059, 0.0), (3060, 0.0), (3061, 0.0), (3063, 0.0), (3068, 0.0), (3070, 0.0), (3077, 0.0), (3078, 0.0), (3079, 0.0), (3080, 0.0), (3082, 0.0), (3088, 0.0), (3089, 0.0), (3090, 0.0), (3092, 0.0), (3099, 0.0), (3100, 0.0), (3102, 0.0), (3104, 0.0), (3105, 0.0), (3106, 0.0), (3107, 0.0), (3109, 0.0), (3110, 0.0), (3115, 0.0), (3117, 0.0), (3124, 0.0), (3126, 0.0), (3130, 0.0), (3132, 0.0), (3134, 0.0), (3135, 0.0), (3136, 0.0), (3138, 0.0), (3143, 0.0), (3156, 0.0), (3158, 0.0), (3160, 0.0), (3161, 0.0), (3162, 0.0), (3163, 0.0), (3168, 0.0), (3169, 0.0), (3176, 0.0), (3177, 0.0), (3179, 0.0), (3180, 0.0), (3185, 0.0), (3188, 0.0), (3189, 0.0), (3190, 0.0), (3191, 0.0), (3192, 0.0), (3197, 0.0), (3203, 0.0), (3204, 0.0), (3207, 0.0), (3208, 0.0), (3209, 0.0), (3212, 0.0), (3213, 0.0), (3217, 0.0), (3223, 0.0), (3229, 0.0), (3236, 0.0), (3245, 0.0), (3247, 0.0), (3250, 0.0), (3251, 0.0), (3255, 0.0), (3261, 0.0), (3263, 0.0), (3266, 0.0), (3272, 0.0), (3279, 0.0), (3281, 0.0), (3286, 0.0), (3287, 0.0), (3305, 0.0), (3310, 0.0), (3323, 0.0), (3324, 0.0), (3332, 0.0), (3333, 0.0), (3334, 0.0), (3338, 0.0), (3339, 0.0), (3366, 0.0), (3367, 0.0), (3371, 0.0), (3375, 0.0), (3377, 0.0), (3383, 0.0), (3385, 0.0), (3394, 0.0), (3400, 0.0), (3404, 0.0), (3405, 0.0), (3415, 0.0), (3422, 0.0), (3428, 0.0), (3429, 0.0), (3432, 0.0), (3439, 0.0), (3440, 0.0), (3442, 0.0), (3451, 0.0), (3453, 0.0), (3462, 0.0), (3466, 0.0), (3467, 0.0), (3468, 0.0), (3470, 0.0), (3472, 0.0), (3476, 0.0), (3480, 0.0), (3482, 0.0), (3485, 0.0), (3486, 0.0), (3488, 0.0), (3489, 0.0), (3490, 0.0), (3494, 0.0), (3495, 0.0), (3505, 0.0), (3510, 0.0), (3513, 0.0), (3519, 0.0), (3520, 0.0), (3522, 0.0), (3525, 0.0), (3528, 0.0), (3529, 0.0), (3530, 0.0), (3531, 0.0), (3532, 0.0), (3535, 0.0), (3543, 0.0), (3547, 0.0), (3550, 0.0), (3554, 0.0), (3555, 0.0), (3572, 0.0), (3573, 0.0), (3574, 0.0), (3576, 0.0), (3580, 0.0), (3581, 0.0), (3583, 0.0), (3584, 0.0), (3585, 0.0), (3589, 0.0), (3592, 0.0), (3595, 0.0), (3597, 0.0), (3600, 0.0), (3602, 0.0), (3603, 0.0), (3604, 0.0), (3605, 0.0), (3609, 0.0), (3619, 0.0), (3622, 0.0), (3625, 0.0), (3628, 0.0), (3630, 0.0), (3631, 0.0), (3652, 0.0), (3659, 0.0), (3663, 0.0), (3664, 0.0), (3671, 0.0), (3676, 0.0), (3679, 0.0), (3683, 0.0), (3686, 0.0), (3688, 0.0), (3693, 0.0), (3695, 0.0), (3697, 0.0), (3700, 0.0), (3702, 0.0), (3703, 0.0), (3708, 0.0), (3710, 0.0), (3715, 0.0), (3717, 0.0), (3721, 0.0), (3723, 0.0), (3726, 0.0), (3732, 0.0), (3744, 0.0), (3750, 0.0), (3753, 0.0), (3758, 0.0), (3759, 0.0), (3760, 0.0), (3761, 0.0), (3764, 0.0), (3768, 0.0), (3773, 0.0), (3774, 0.0), (3775, 0.0), (3782, 0.0), (3785, 0.0), (3787, 0.0), (3788, 0.0), (3789, 0.0), (3790, 0.0), (3791, 0.0), (3793, 0.0), (3794, 0.0), (3796, 0.0), (3798, 0.0), (3800, 0.0), (3802, 0.0), (3805, 0.0), (3806, 0.0), (3808, 0.0), (3814, 0.0), (3815, 0.0), (3816, 0.0), (3824, 0.0), (3830, 0.0), (3833, 0.0), (3834, 0.0), (3836, 0.0), (3837, 0.0), (3840, 0.0), (3842, 0.0), (3843, 0.0), (3844, 0.0), (3846, 0.0), (3847, 0.0), (3849, 0.0), (3851, 0.0), (3853, 0.0), (3856, 0.0), (3860, 0.0), (3869, 0.0), (3872, 0.0), (3879, 0.0), (3881, 0.0), (3885, 0.0), (3887, 0.0), (3896, 0.0), (3905, 0.0), (3908, 0.0), (3912, 0.0), (3916, 0.0), (3918, 0.0), (3923, 0.0), (3929, 0.0), (3931, 0.0), (3933, 0.0), (3934, 0.0), (3936, 0.0), (3937, 0.0), (3942, 0.0), (3943, 0.0), (3947, 0.0), (3949, 0.0), (3950, 0.0), (3958, 0.0), (3968, 0.0), (3971, 0.0), (3972, 0.0), (3975, 0.0), (3977, 0.0), (3979, 0.0), (3981, 0.0), (3982, 0.0), (3988, 0.0), (3989, 0.0), (3993, 0.0), (3995, 0.0), (3997, 0.0), (4003, 0.0), (4010, 0.0), (4018, 0.0), (4021, 0.0), (4022, 0.0), (4028, 0.0), (4029, 0.0), (4034, 0.0), (4037, 0.0), (4039, 0.0), (4040, 0.0), (4041, 0.0), (4043, 0.0), (4044, 0.0), (4045, 0.0), (4047, 0.0), (4050, 0.0), (4058, 0.0), (4063, 0.0), (4065, 0.0), (4067, 0.0), (4071, 0.0), (4072, 0.0), (4073, 0.0), (4078, 0.0), (4086, 0.0), (4088, 0.0), (4090, 0.0), (4093, 0.0), (4094, 0.0), (4096, 0.0), (4097, 0.0), (4100, 0.0), (4103, 0.0), (4105, 0.0), (4114, 0.0), (4115, 0.0), (4122, 0.0), (4125, 0.0), (4127, 0.0), (4128, 0.0), (4131, 0.0), (4144, 0.0), (4146, 0.0), (4148, 0.0), (4149, 0.0), (4150, 0.0), (4153, 0.0), (4159, 0.0), (4162, 0.0), (4166, 0.0), (4167, 0.0), (4168, 0.0), (4173, 0.0), (4177, 0.0), (4180, 0.0), (4181, 0.0), (4184, 0.0), (4185, 0.0), (4186, 0.0), (4188, 0.0), (4190, 0.0), (4193, 0.0), (4195, 0.0), (4199, 0.0), (4204, 0.0), (4208, 0.0), (4211, 0.0), (4212, 0.0), (4214, 0.0), (4215, 0.0), (4216, 0.0), (4219, 0.0), (4223, 0.0), (4224, 0.0), (4227, 0.0), (4229, 0.0), (4233, 0.0), (4234, 0.0), (4235, 0.0), (4238, 0.0), (4239, 0.0), (4248, 0.0), (4250, 0.0), (4251, 0.0), (4256, 0.0), (4258, 0.0), (4260, 0.0), (4261, 0.0), (4264, 0.0), (4270, 0.0), (4274, 0.0), (4275, 0.0), (4276, 0.0), (4278, 0.0), (4285, 0.0), (4289, 0.0), (4291, 0.0), (4294, 0.0), (4300, 0.0), (4302, 0.0), (4305, 0.0), (4307, 0.0), (4310, 0.0), (4313, 0.0), (4314, 0.0), (4315, 0.0), (4317, 0.0), (4319, 0.0), (4322, 0.0), (4323, 0.0), (4325, 0.0), (4327, 0.0), (4329, 0.0), (4331, 0.0), (4335, 0.0), (4341, 0.0), (4346, 0.0), (4347, 0.0), (4352, 0.0), (4358, 0.0), (4360, 0.0), (4364, 0.0), (4365, 0.0), (4370, 0.0), (4372, 0.0), (4375, 0.0), (4377, 0.0), (4383, 0.0), (4384, 0.0), (4389, 0.0), (4392, 0.0), (4393, 0.0), (4404, 0.0), (4405, 0.0), (4408, 0.0), (4410, 0.0), (4413, 0.0), (4415, 0.0), (4417, 0.0), (4421, 0.0), (4424, 0.0), (4425, 0.0), (4426, 0.0), (4434, 0.0), (4437, 0.0), (4447, 0.0), (4451, 0.0), (4452, 0.0), (4453, 0.0), (4455, 0.0), (4456, 0.0), (4457, 0.0), (4463, 0.0), (4464, 0.0), (4466, 0.0), (4478, 0.0), (4480, 0.0), (4483, 0.0), (4488, 0.0), (4491, 0.0), (4493, 0.0), (4496, 0.0), (4498, 0.0), (4499, 0.0), (4500, 0.0), (4506, 0.0), (4508, 0.0), (4509, 0.0), (4510, 0.0), (4512, 0.0), (4513, 0.0), (4514, 0.0), (4519, 0.0), (4525, 0.0), (4526, 0.0), (4527, 0.0), (4534, 0.0), (4537, 0.0), (4538, 0.0), (4539, 0.0), (4542, 0.0), (4543, 0.0), (4547, 0.0), (4552, 0.0), (4553, 0.0), (4556, 0.0), (4557, 0.0), (4558, 0.0), (4559, 0.0), (4560, 0.0), (4561, 0.0), (4562, 0.0), (4565, 0.0), (4569, 0.0), (4570, 0.0), (4577, 0.0), (4578, 0.0), (4581, 0.0), (4583, 0.0), (4585, 0.0), (4586, 0.0), (4587, 0.0), (4588, 0.0), (4595, 0.0), (4597, 0.0), (4599, 0.0), (4609, 0.0), (4615, 0.0), (4618, 0.0), (4622, 0.0), (4630, 0.0), (4631, 0.0), (4639, 0.0), (4642, 0.0), (4644, 0.0), (4645, 0.0), (4648, 0.0), (4653, 0.0), (4654, 0.0), (4655, 0.0), (4656, 0.0), (4662, 0.0), (4663, 0.0), (4664, 0.0), (4665, 0.0), (4666, 0.0), (4667, 0.0), (4671, 0.0), (4672, 0.0), (4676, 0.0), (4681, 0.0), (4683, 0.0), (4684, 0.0), (4688, 0.0), (4690, 0.0), (4691, 0.0), (4697, 0.0), (4698, 0.0), (4700, 0.0), (4702, 0.0), (4703, 0.0), (4707, 0.0), (4708, 0.0), (4709, 0.0), (4711, 0.0), (4714, 0.0), (4716, 0.0), (4720, 0.0), (4721, 0.0), (4727, 0.0), (4728, 0.0), (4730, 0.0), (4737, 0.0), (4740, 0.0), (4741, 0.0), (4742, 0.0), (4745, 0.0), (4746, 0.0), (4747, 0.0), (4750, 0.0), (4758, 0.0)]\n"
          ]
        }
      ]
    },
    {
      "cell_type": "code",
      "source": [
        "print(\"Top 30 Movies Suggested for you: \\n\")\n",
        "i=1\n",
        "for movie in Sorted_Similiar_Movies:\n",
        "  index=movie[0]\n",
        "  title_from_index = df[df.index==index]['Movie_Title'].values[0]\n",
        "  if(i<31):\n",
        "    print(i,'.',title_from_index)\n",
        "    i+=1"
      ],
      "metadata": {
        "colab": {
          "base_uri": "https://localhost:8080/"
        },
        "id": "MzhoavetGUbU",
        "outputId": "71466e9f-e2fd-4572-f519-a9b74b5a18cb"
      },
      "execution_count": 54,
      "outputs": [
        {
          "output_type": "stream",
          "name": "stdout",
          "text": [
            "Top 30 Movies Suggested for you: \n",
            "\n",
            "1 . Evita\n",
            "2 . One Direction: This Is Us\n",
            "3 . Four Rooms\n",
            "4 . You Will Meet a Tall Dark Stranger\n",
            "5 . De-Lovely\n",
            "6 . Cleopatra\n",
            "7 . Elling\n",
            "8 . The Conspirator\n",
            "9 . My Fair Lady\n",
            "10 . Once Upon a Time in Mexico\n",
            "11 . The Nutcracker\n",
            "12 . The American President\n",
            "13 . Play It to the Bone\n",
            "14 . Crazy in Alabama\n",
            "15 . 20,000 Leagues Under the Sea\n",
            "16 . The Andromeda Strain\n",
            "17 . The Best Years of Our Lives\n",
            "18 . A Man for All Seasons\n",
            "19 . The Robe\n",
            "20 . Spy Kids\n",
            "21 . Assassins\n",
            "22 . Inside Deep Throat\n",
            "23 . West Side Story\n",
            "24 . Philadelphia\n",
            "25 . Beat the World\n",
            "26 . Take the Lead\n",
            "27 . Tomorrow Never Dies\n",
            "28 . Sands of Iwo Jima\n",
            "29 . Black Nativity\n",
            "30 . The 33\n"
          ]
        }
      ]
    },
    {
      "cell_type": "markdown",
      "source": [
        "## **Explaination**"
      ],
      "metadata": {
        "id": "SBo38CJZjlEX"
      }
    },
    {
      "cell_type": "markdown",
      "source": [
        "The goal of this project is to build a movie recommendation system that provides personalized suggestions to users based on their preferences and viewing history.\n",
        "\n",
        "It utilizes a dataset of movie details like title, genre, cast, crew etc. This raw data is preprocessed by combining relevant features like genre, keywords, cast into a single text column. This concatenated text is then converted into numerical feature vectors using TF-IDF (Term Frequency–Inverse Document Frequency). This generates a feature matrix with each movie being represented by a vector capturing its most important words/terms.\n",
        "\n",
        "The core recommendation algorithm is based on finding similarity between movie vectors using cosine similarity. When a user provides their favorite movie title, it first finds the closest match in the dataset using string similarity. The corresponding index is used to get the movie's vector representation. This seed vector is then compared with vectors of all other movies to fetch most similar ones, sorted by similarity score.\n",
        "\n",
        "So the system exploits the power of text analytics and similarity algorithms on structured movie data to generate personalized suggestions. The recommendations improve as the dataset expands and further real-world data like user ratings, interactions etc. are incorporated. Additional techniques like collaborative filtering can also be added."
      ],
      "metadata": {
        "id": "Ybi8FR9Kjv00"
      }
    }
  ]
}